{
 "cells": [
  {
   "cell_type": "markdown",
   "metadata": {},
   "source": [
    "Hello, my name is Margarita Iankova. I'm going to review your project!\n",
    "\n",
    "You can find my comments in <span style=\"color:green\">green</span>,<span style=\"color:blue\">blue</span> or <span style=\"color:red\">red</span> boxes like this:\n",
    "\n",
    "<div class=\"alert alert-success\" style=\"box-shadow: 4px 4px 4px\">\n",
    "<b>Success:</b> if everything is done succesfully\n",
    "</div>\n",
    "\n",
    "<div class=\"alert alert-warning\" style=\"box-shadow: 4px 4px 4px\">\n",
    "<b>Remarks:</b> if I can give some recommendations\n",
    "</div>\n",
    "\n",
    "<div class=\"alert alert-danger\" style=\"box-shadow: 4px 4px 4px\">\n",
    "<b>Needs fixing:</b> if the block requires some corrections. Work can't be accepted with the red comments.\n",
    "</div>"
   ]
  },
  {
   "cell_type": "markdown",
   "metadata": {},
   "source": [
    "<div class=\"alert alert-danger\" style=\"box-shadow: 4px 4px 4px\">\n",
    "<s><h2> General feedback</h2>\n",
    "<b>Needs fixing:</b> You did a great job, but I would like to ask you to fix something. It does not take much time. Replace all comments in your code with markdown to make them more readable.\n",
    "    <br> Also, in your work, you often duplicate similar code, output tables, and a large number of prints. It's not bad when you're working on a project, but it's better to fix it in the final version. You will find my comments along the way!\n",
    "    <br>Otherwise, your research is very well done!\n",
    "    \n",
    "</div>"
   ]
  },
  {
   "cell_type": "markdown",
   "metadata": {},
   "source": [
    "Hello, Margarita, nice to e-meet you! Thank you very much for reviewing my project thoroughly. \n",
    "I worked according to your advice and comments. I learned a lot. \n",
    "\n",
    "* Markdown - I didn't know things that I could do with this feature. \n",
    "* Empty values and large positive values ('days_employed') - I learned the way to handle them separately. \n",
    "* '-1' and '20' ('children') - I learned another, more common way of interpreting these kinds of values. \n",
    "* Code verification - I commented them out because I didn't want to remove them. Hope that's OK. \n",
    "\n",
    "Also, \n",
    "* I added the final conclusion that summarizes the answers to the four questions being asked to the Global Conclusion section. \n",
    "* could you please let me know your answer to this question?\n",
    "<br>[QUESTION] How can I keep 'wedding' (before lemmatization) but unify 'car' and 'cars' (after lemmatization)?\n",
    "\n",
    "I would appreciate it if you could review my work one more time (hope this will be the last). \n",
    "\n",
    "Much appreciated! \n",
    "\n",
    "Rena"
   ]
  },
  {
   "cell_type": "markdown",
   "metadata": {},
   "source": [
    "<div class=\"alert alert-success\" style=\"box-shadow: 4px 4px 4px\">\n",
    "<h1> General feedback </h1> \n",
    "    <br> Good job, now everything is great! You took the research very seriously, I want to praise you for your detailed comments. I congratulate you, your project has been accepted!\n",
    "    <br>I left a comment about lemmatization where you use it. In general, usually lemmatizing and finfing the stem of a word means removing the ending 'ing', so, such words have to be processed manually\n",
    "</div>"
   ]
  },
  {
   "cell_type": "markdown",
   "metadata": {},
   "source": [
    "  \n",
    "# Analyzing borrowers’ risk of defaulting\n",
    "\n",
    "Your project is to prepare a report for a bank’s loan division. You’ll need to find out if a customer’s marital status and number of children has an impact on whether they will default on a loan. The bank already has some data on customers’ credit worthiness.\n",
    "\n",
    "Your report will be considered when building a **credit scoring** of a potential customer. A ** credit scoring ** is used to evaluate the ability of a potential borrower to repay their loan."
   ]
  },
  {
   "cell_type": "markdown",
   "metadata": {},
   "source": [
    "<div class=\"alert alert-success\" style=\"box-shadow: 4px 4px 4px\">\n",
    "<b>Success:</b> Great! A good introduction leads to a good job! In addition, you can add the main goal and a project plan.\n",
    "</div>"
   ]
  },
  {
   "cell_type": "markdown",
   "metadata": {},
   "source": [
    "## Open the data file and have a look at the general information. "
   ]
  },
  {
   "cell_type": "code",
   "execution_count": 108,
   "metadata": {},
   "outputs": [],
   "source": [
    "# Import the pandas library.\n",
    "import pandas as pd\n",
    "import numpy as np\n",
    "\n",
    "# Import NLTK\n",
    "import nltk\n",
    "# nltk.download('punkt')\n",
    "from nltk.stem import SnowballStemmer\n",
    "english_stemmer = SnowballStemmer('english')\n",
    "\n",
    "from nltk.stem import WordNetLemmatizer\n",
    "wordnet_lemma = WordNetLemmatizer() \n",
    "# nltk.download('wordnet')\n",
    "\n",
    "from nltk.corpus import stopwords\n",
    "# nltk.download('stopwords')\n",
    "\n",
    "# Import sys so no warnings will be issued. \n",
    "import sys\n",
    "if not sys.warnoptions:\n",
    "    import warnings\n",
    "    warnings.simplefilter(\"ignore\")"
   ]
  },
  {
   "cell_type": "markdown",
   "metadata": {},
   "source": [
    "[Overview]  \n",
    "Does a person's marital status and the number of children s/he has impact on whether s/he will default on a loan? \n",
    "We will analyse the data provided by our client, a bank's Loan Division, on their customers, and produce \n",
    "a report which will be used to figure out a potential customer's credit score for evaluating his/her ability to repay a loan.\n",
    "\n",
    "[Goals] \n",
    "Find the answer(s) to the following questions:\n",
    "1. Is there a connection between having kids and repaying a loan on time?\n",
    "2. Is there a connection between marital status and repaying a loan on time?\n",
    "3. Is there a connection between income level and repaying a loan on time?\n",
    "4. How do different loan purposes affect on-time loan repayment?"
   ]
  },
  {
   "cell_type": "markdown",
   "metadata": {},
   "source": [
    "<div class=\"alert alert-success\" style=\"box-shadow: 4px 4px 4px\">\n",
    "<b>Success:</b> I am impressed by your comments on the work: keep it up!\n",
    "</div>\n",
    "\n",
    "<div class=\"alert alert-danger\" style=\"box-shadow: 4px 4px 4px\">\n",
    "<s><b>Needs fixing:</b> Here and later, I will ask you to move all non-code notes to markdown. So the text will be more readable and understandable.\n",
    "</div>"
   ]
  },
  {
   "cell_type": "markdown",
   "metadata": {},
   "source": [
    "### Load the data csv file."
   ]
  },
  {
   "cell_type": "code",
   "execution_count": 109,
   "metadata": {},
   "outputs": [],
   "source": [
    "# I worked locally and will have to upload the project to the Platform. So cover both paths. \n",
    "try:\n",
    "    data = pd.read_csv('credit_scoring_eng.csv')\n",
    "except:\n",
    "    data = pd.read_csv('/datasets/credit_scoring_eng.csv')"
   ]
  },
  {
   "cell_type": "markdown",
   "metadata": {},
   "source": [
    "<div class=\"alert alert-success\" style=\"box-shadow: 4px 4px 4px\">\n",
    "<b>Success:</b> Well done for using try ... except!\n",
    "</div>"
   ]
  },
  {
   "cell_type": "markdown",
   "metadata": {},
   "source": [
    "### Explore the data and make some preliminary observations."
   ]
  },
  {
   "cell_type": "code",
   "execution_count": 110,
   "metadata": {},
   "outputs": [
    {
     "data": {
      "text/html": [
       "<div>\n",
       "<style scoped>\n",
       "    .dataframe tbody tr th:only-of-type {\n",
       "        vertical-align: middle;\n",
       "    }\n",
       "\n",
       "    .dataframe tbody tr th {\n",
       "        vertical-align: top;\n",
       "    }\n",
       "\n",
       "    .dataframe thead th {\n",
       "        text-align: right;\n",
       "    }\n",
       "</style>\n",
       "<table border=\"1\" class=\"dataframe\">\n",
       "  <thead>\n",
       "    <tr style=\"text-align: right;\">\n",
       "      <th></th>\n",
       "      <th>children</th>\n",
       "      <th>days_employed</th>\n",
       "      <th>dob_years</th>\n",
       "      <th>education</th>\n",
       "      <th>education_id</th>\n",
       "      <th>family_status</th>\n",
       "      <th>family_status_id</th>\n",
       "      <th>gender</th>\n",
       "      <th>income_type</th>\n",
       "      <th>debt</th>\n",
       "      <th>total_income</th>\n",
       "      <th>purpose</th>\n",
       "    </tr>\n",
       "  </thead>\n",
       "  <tbody>\n",
       "    <tr>\n",
       "      <td>0</td>\n",
       "      <td>1</td>\n",
       "      <td>-8437.673028</td>\n",
       "      <td>42</td>\n",
       "      <td>bachelor's degree</td>\n",
       "      <td>0</td>\n",
       "      <td>married</td>\n",
       "      <td>0</td>\n",
       "      <td>F</td>\n",
       "      <td>employee</td>\n",
       "      <td>0</td>\n",
       "      <td>40620.102</td>\n",
       "      <td>purchase of the house</td>\n",
       "    </tr>\n",
       "    <tr>\n",
       "      <td>1</td>\n",
       "      <td>1</td>\n",
       "      <td>-4024.803754</td>\n",
       "      <td>36</td>\n",
       "      <td>secondary education</td>\n",
       "      <td>1</td>\n",
       "      <td>married</td>\n",
       "      <td>0</td>\n",
       "      <td>F</td>\n",
       "      <td>employee</td>\n",
       "      <td>0</td>\n",
       "      <td>17932.802</td>\n",
       "      <td>car purchase</td>\n",
       "    </tr>\n",
       "    <tr>\n",
       "      <td>2</td>\n",
       "      <td>0</td>\n",
       "      <td>-5623.422610</td>\n",
       "      <td>33</td>\n",
       "      <td>Secondary Education</td>\n",
       "      <td>1</td>\n",
       "      <td>married</td>\n",
       "      <td>0</td>\n",
       "      <td>M</td>\n",
       "      <td>employee</td>\n",
       "      <td>0</td>\n",
       "      <td>23341.752</td>\n",
       "      <td>purchase of the house</td>\n",
       "    </tr>\n",
       "    <tr>\n",
       "      <td>3</td>\n",
       "      <td>3</td>\n",
       "      <td>-4124.747207</td>\n",
       "      <td>32</td>\n",
       "      <td>secondary education</td>\n",
       "      <td>1</td>\n",
       "      <td>married</td>\n",
       "      <td>0</td>\n",
       "      <td>M</td>\n",
       "      <td>employee</td>\n",
       "      <td>0</td>\n",
       "      <td>42820.568</td>\n",
       "      <td>supplementary education</td>\n",
       "    </tr>\n",
       "    <tr>\n",
       "      <td>4</td>\n",
       "      <td>0</td>\n",
       "      <td>340266.072047</td>\n",
       "      <td>53</td>\n",
       "      <td>secondary education</td>\n",
       "      <td>1</td>\n",
       "      <td>civil partnership</td>\n",
       "      <td>1</td>\n",
       "      <td>F</td>\n",
       "      <td>retiree</td>\n",
       "      <td>0</td>\n",
       "      <td>25378.572</td>\n",
       "      <td>to have a wedding</td>\n",
       "    </tr>\n",
       "  </tbody>\n",
       "</table>\n",
       "</div>"
      ],
      "text/plain": [
       "   children  days_employed  dob_years            education  education_id  \\\n",
       "0         1   -8437.673028         42    bachelor's degree             0   \n",
       "1         1   -4024.803754         36  secondary education             1   \n",
       "2         0   -5623.422610         33  Secondary Education             1   \n",
       "3         3   -4124.747207         32  secondary education             1   \n",
       "4         0  340266.072047         53  secondary education             1   \n",
       "\n",
       "       family_status  family_status_id gender income_type  debt  total_income  \\\n",
       "0            married                 0      F    employee     0     40620.102   \n",
       "1            married                 0      F    employee     0     17932.802   \n",
       "2            married                 0      M    employee     0     23341.752   \n",
       "3            married                 0      M    employee     0     42820.568   \n",
       "4  civil partnership                 1      F     retiree     0     25378.572   \n",
       "\n",
       "                   purpose  \n",
       "0    purchase of the house  \n",
       "1             car purchase  \n",
       "2    purchase of the house  \n",
       "3  supplementary education  \n",
       "4        to have a wedding  "
      ]
     },
     "execution_count": 110,
     "metadata": {},
     "output_type": "execute_result"
    }
   ],
   "source": [
    "# View the first 5 rows to see what the data look like.\n",
    "data.head()"
   ]
  },
  {
   "cell_type": "markdown",
   "metadata": {},
   "source": [
    "Total number of variables: 12\n",
    "1. children: the number of children in the family\n",
    "2. dob_years: the customer’s age\n",
    "3. days_employed: how long the customer has been working prior to the loan application (in days)\n",
    "4. education: the customer’s education level\n",
    "5. education_id: identifier for the customer’s education \n",
    "6. family_status: the customer’s marital status\n",
    "7. family_status_id: identifier for the customer’s marital status\n",
    "8. gender: the customer’s gender\n",
    "9. income_type: the customer’s income type\n",
    "10. debt: 1 - has defaulted on a loan in the past; 0 - repaid successfully\n",
    "11. total_income: monthly income\n",
    "12. purpose: reason for asking for a loan\n",
    "\n",
    "[Observations] \n",
    "* 'days_employed': there are negative values; there are astronomical positive values (340266.072047 days ~= 932 years!!) (-> Deep dive)\n",
    "* 'education': capitalization and cases are mixed. Should be standardised to lowercase (-> Change data types). \n",
    "* 'dob_years': better to rename to 'age' for clarity (-> Rename variable). "
   ]
  },
  {
   "cell_type": "markdown",
   "metadata": {},
   "source": [
    "<div class=\"alert alert-success\" style=\"box-shadow: 4px 4px 4px\">\n",
    "<b>Success:</b> Good points\n",
    "</div>"
   ]
  },
  {
   "cell_type": "code",
   "execution_count": 111,
   "metadata": {},
   "outputs": [
    {
     "name": "stdout",
     "output_type": "stream",
     "text": [
      "<class 'pandas.core.frame.DataFrame'>\n",
      "RangeIndex: 21525 entries, 0 to 21524\n",
      "Data columns (total 12 columns):\n",
      "children            21525 non-null int64\n",
      "days_employed       19351 non-null float64\n",
      "dob_years           21525 non-null int64\n",
      "education           21525 non-null object\n",
      "education_id        21525 non-null int64\n",
      "family_status       21525 non-null object\n",
      "family_status_id    21525 non-null int64\n",
      "gender              21525 non-null object\n",
      "income_type         21525 non-null object\n",
      "debt                21525 non-null int64\n",
      "total_income        19351 non-null float64\n",
      "purpose             21525 non-null object\n",
      "dtypes: float64(2), int64(5), object(5)\n",
      "memory usage: 2.0+ MB\n"
     ]
    }
   ],
   "source": [
    "# Get some general info on the data. \n",
    "data.info()"
   ]
  },
  {
   "cell_type": "markdown",
   "metadata": {},
   "source": [
    "Total number of rows: 21525 \n",
    "\n",
    "[Observations]\n",
    "* 'days_employed': the float data type should be changed to int (-> Change data types). \n",
    "* 'debt': the int data type should be changed to boolean  (-> Change data types).\n",
    "* 'days_employed', 'total_income': both have 2174 (=21525-19351) missing values (-> Missing values)."
   ]
  },
  {
   "cell_type": "markdown",
   "metadata": {},
   "source": [
    "<div class=\"alert alert-success\" style=\"box-shadow: 4px 4px 4px\">\n",
    "<b>Success:</b> Agree\n",
    "</div>"
   ]
  },
  {
   "cell_type": "code",
   "execution_count": 112,
   "metadata": {},
   "outputs": [
    {
     "data": {
      "text/html": [
       "<div>\n",
       "<style scoped>\n",
       "    .dataframe tbody tr th:only-of-type {\n",
       "        vertical-align: middle;\n",
       "    }\n",
       "\n",
       "    .dataframe tbody tr th {\n",
       "        vertical-align: top;\n",
       "    }\n",
       "\n",
       "    .dataframe thead th {\n",
       "        text-align: right;\n",
       "    }\n",
       "</style>\n",
       "<table border=\"1\" class=\"dataframe\">\n",
       "  <thead>\n",
       "    <tr style=\"text-align: right;\">\n",
       "      <th></th>\n",
       "      <th>children</th>\n",
       "      <th>days_employed</th>\n",
       "      <th>dob_years</th>\n",
       "      <th>education_id</th>\n",
       "      <th>family_status_id</th>\n",
       "      <th>debt</th>\n",
       "      <th>total_income</th>\n",
       "    </tr>\n",
       "  </thead>\n",
       "  <tbody>\n",
       "    <tr>\n",
       "      <td>count</td>\n",
       "      <td>21525.000000</td>\n",
       "      <td>19351.000000</td>\n",
       "      <td>21525.000000</td>\n",
       "      <td>21525.000000</td>\n",
       "      <td>21525.000000</td>\n",
       "      <td>21525.000000</td>\n",
       "      <td>19351.000000</td>\n",
       "    </tr>\n",
       "    <tr>\n",
       "      <td>mean</td>\n",
       "      <td>0.538908</td>\n",
       "      <td>63046.497661</td>\n",
       "      <td>43.293380</td>\n",
       "      <td>0.817236</td>\n",
       "      <td>0.972544</td>\n",
       "      <td>0.080883</td>\n",
       "      <td>26787.568355</td>\n",
       "    </tr>\n",
       "    <tr>\n",
       "      <td>std</td>\n",
       "      <td>1.381587</td>\n",
       "      <td>140827.311974</td>\n",
       "      <td>12.574584</td>\n",
       "      <td>0.548138</td>\n",
       "      <td>1.420324</td>\n",
       "      <td>0.272661</td>\n",
       "      <td>16475.450632</td>\n",
       "    </tr>\n",
       "    <tr>\n",
       "      <td>min</td>\n",
       "      <td>-1.000000</td>\n",
       "      <td>-18388.949901</td>\n",
       "      <td>0.000000</td>\n",
       "      <td>0.000000</td>\n",
       "      <td>0.000000</td>\n",
       "      <td>0.000000</td>\n",
       "      <td>3306.762000</td>\n",
       "    </tr>\n",
       "    <tr>\n",
       "      <td>25%</td>\n",
       "      <td>0.000000</td>\n",
       "      <td>-2747.423625</td>\n",
       "      <td>33.000000</td>\n",
       "      <td>1.000000</td>\n",
       "      <td>0.000000</td>\n",
       "      <td>0.000000</td>\n",
       "      <td>16488.504500</td>\n",
       "    </tr>\n",
       "    <tr>\n",
       "      <td>50%</td>\n",
       "      <td>0.000000</td>\n",
       "      <td>-1203.369529</td>\n",
       "      <td>42.000000</td>\n",
       "      <td>1.000000</td>\n",
       "      <td>0.000000</td>\n",
       "      <td>0.000000</td>\n",
       "      <td>23202.870000</td>\n",
       "    </tr>\n",
       "    <tr>\n",
       "      <td>75%</td>\n",
       "      <td>1.000000</td>\n",
       "      <td>-291.095954</td>\n",
       "      <td>53.000000</td>\n",
       "      <td>1.000000</td>\n",
       "      <td>1.000000</td>\n",
       "      <td>0.000000</td>\n",
       "      <td>32549.611000</td>\n",
       "    </tr>\n",
       "    <tr>\n",
       "      <td>max</td>\n",
       "      <td>20.000000</td>\n",
       "      <td>401755.400475</td>\n",
       "      <td>75.000000</td>\n",
       "      <td>4.000000</td>\n",
       "      <td>4.000000</td>\n",
       "      <td>1.000000</td>\n",
       "      <td>362496.645000</td>\n",
       "    </tr>\n",
       "  </tbody>\n",
       "</table>\n",
       "</div>"
      ],
      "text/plain": [
       "           children  days_employed     dob_years  education_id  \\\n",
       "count  21525.000000   19351.000000  21525.000000  21525.000000   \n",
       "mean       0.538908   63046.497661     43.293380      0.817236   \n",
       "std        1.381587  140827.311974     12.574584      0.548138   \n",
       "min       -1.000000  -18388.949901      0.000000      0.000000   \n",
       "25%        0.000000   -2747.423625     33.000000      1.000000   \n",
       "50%        0.000000   -1203.369529     42.000000      1.000000   \n",
       "75%        1.000000    -291.095954     53.000000      1.000000   \n",
       "max       20.000000  401755.400475     75.000000      4.000000   \n",
       "\n",
       "       family_status_id          debt   total_income  \n",
       "count      21525.000000  21525.000000   19351.000000  \n",
       "mean           0.972544      0.080883   26787.568355  \n",
       "std            1.420324      0.272661   16475.450632  \n",
       "min            0.000000      0.000000    3306.762000  \n",
       "25%            0.000000      0.000000   16488.504500  \n",
       "50%            0.000000      0.000000   23202.870000  \n",
       "75%            1.000000      0.000000   32549.611000  \n",
       "max            4.000000      1.000000  362496.645000  "
      ]
     },
     "execution_count": 112,
     "metadata": {},
     "output_type": "execute_result"
    }
   ],
   "source": [
    "# Get some more general info on the quantitative data. \n",
    "data.describe()"
   ]
  },
  {
   "cell_type": "markdown",
   "metadata": {},
   "source": [
    "[Observations]\n",
    "* 'children': -1 children? A clerical error? A child death?; 20 children? This is a high-end outlier. (-> Deep dive)\n",
    "* 'dob_years': why are 0-year-old babies asking for a loan? A clerical error? Customers not wanting to reveal their age? (-> Deep dive)\n",
    "* 'total_income': no negative values"
   ]
  },
  {
   "cell_type": "markdown",
   "metadata": {},
   "source": [
    "<div class=\"alert alert-success\" style=\"box-shadow: 4px 4px 4px\">\n",
    "<b>Success:</b> 😂 Nice!\n",
    "</div>\n",
    "\n",
    "<div class=\"alert alert-danger\" style=\"box-shadow: 4px 4px 4px\">\n",
    "<s><b>Needs fixing:</b> Remember about comments style\n",
    "</div>"
   ]
  },
  {
   "cell_type": "markdown",
   "metadata": {},
   "source": [
    "Let's see what kind of values are there in each column. \n",
    "\n",
    "Note: skipping this step for 'days_employed' and 'total_income' since the lists are too long and cannot spot anomalies this way. "
   ]
  },
  {
   "cell_type": "code",
   "execution_count": 113,
   "metadata": {},
   "outputs": [
    {
     "data": {
      "text/plain": [
       "array([ 1,  0,  3,  2, -1,  4, 20,  5])"
      ]
     },
     "execution_count": 113,
     "metadata": {},
     "output_type": "execute_result"
    }
   ],
   "source": [
    "# View the unique values in the 'children' column. \n",
    "data.children.unique()"
   ]
  },
  {
   "cell_type": "code",
   "execution_count": 114,
   "metadata": {},
   "outputs": [
    {
     "data": {
      "text/plain": [
       "array([42, 36, 33, 32, 53, 27, 43, 50, 35, 41, 40, 65, 54, 56, 26, 48, 24,\n",
       "       21, 57, 67, 28, 63, 62, 47, 34, 68, 25, 31, 30, 20, 49, 37, 45, 61,\n",
       "       64, 44, 52, 46, 23, 38, 39, 51,  0, 59, 29, 60, 55, 58, 71, 22, 73,\n",
       "       66, 69, 19, 72, 70, 74, 75])"
      ]
     },
     "execution_count": 114,
     "metadata": {},
     "output_type": "execute_result"
    }
   ],
   "source": [
    "# View the unique values in the 'dob_years' column. \n",
    "data.dob_years.unique()"
   ]
  },
  {
   "cell_type": "markdown",
   "metadata": {},
   "source": [
    "[Observation] no anomalies"
   ]
  },
  {
   "cell_type": "code",
   "execution_count": 115,
   "metadata": {},
   "outputs": [
    {
     "data": {
      "text/plain": [
       "array([\"bachelor's degree\", 'secondary education', 'Secondary Education',\n",
       "       'SECONDARY EDUCATION', \"BACHELOR'S DEGREE\", 'some college',\n",
       "       'primary education', \"Bachelor's Degree\", 'SOME COLLEGE',\n",
       "       'Some College', 'PRIMARY EDUCATION', 'Primary Education',\n",
       "       'Graduate Degree', 'GRADUATE DEGREE', 'graduate degree'],\n",
       "      dtype=object)"
      ]
     },
     "execution_count": 115,
     "metadata": {},
     "output_type": "execute_result"
    }
   ],
   "source": [
    "# View the unique values in the 'education' column. \n",
    "data.education.unique()"
   ]
  },
  {
   "cell_type": "markdown",
   "metadata": {},
   "source": [
    "[Observation] there are duplicates due to mixed cases (-> Change data types)."
   ]
  },
  {
   "cell_type": "code",
   "execution_count": 116,
   "metadata": {},
   "outputs": [
    {
     "data": {
      "text/plain": [
       "array([0, 1, 2, 3, 4])"
      ]
     },
     "execution_count": 116,
     "metadata": {},
     "output_type": "execute_result"
    }
   ],
   "source": [
    "# View the unique values in the 'education_id' column. \n",
    "data.education_id.unique()"
   ]
  },
  {
   "cell_type": "markdown",
   "metadata": {},
   "source": [
    "[Observation] no anomalies"
   ]
  },
  {
   "cell_type": "code",
   "execution_count": 117,
   "metadata": {},
   "outputs": [
    {
     "data": {
      "text/plain": [
       "array(['married', 'civil partnership', 'widow / widower', 'divorced',\n",
       "       'unmarried'], dtype=object)"
      ]
     },
     "execution_count": 117,
     "metadata": {},
     "output_type": "execute_result"
    }
   ],
   "source": [
    "# View the unique values in the 'family_status' column. \n",
    "data.family_status.unique()"
   ]
  },
  {
   "cell_type": "markdown",
   "metadata": {},
   "source": [
    "[Observation] all the values are in lowercase. "
   ]
  },
  {
   "cell_type": "code",
   "execution_count": 118,
   "metadata": {},
   "outputs": [
    {
     "data": {
      "text/plain": [
       "array([0, 1, 2, 3, 4])"
      ]
     },
     "execution_count": 118,
     "metadata": {},
     "output_type": "execute_result"
    }
   ],
   "source": [
    "# View the unique values in the 'family_status_id' column. \n",
    "data.family_status_id.unique()"
   ]
  },
  {
   "cell_type": "markdown",
   "metadata": {},
   "source": [
    "[Observation] no anomalies"
   ]
  },
  {
   "cell_type": "code",
   "execution_count": 119,
   "metadata": {},
   "outputs": [
    {
     "data": {
      "text/plain": [
       "array(['F', 'M', 'XNA'], dtype=object)"
      ]
     },
     "execution_count": 119,
     "metadata": {},
     "output_type": "execute_result"
    }
   ],
   "source": [
    "# View the unique values in the 'gender' column. \n",
    "data.gender.unique()"
   ]
  },
  {
   "cell_type": "markdown",
   "metadata": {},
   "source": [
    "[Observation] no anomalies"
   ]
  },
  {
   "cell_type": "code",
   "execution_count": 120,
   "metadata": {},
   "outputs": [
    {
     "data": {
      "text/plain": [
       "array(['employee', 'retiree', 'business', 'civil servant', 'unemployed',\n",
       "       'entrepreneur', 'student', 'paternity / maternity leave'],\n",
       "      dtype=object)"
      ]
     },
     "execution_count": 120,
     "metadata": {},
     "output_type": "execute_result"
    }
   ],
   "source": [
    "# View the unique values in the 'income_type' column. \n",
    "data.income_type.unique()"
   ]
  },
  {
   "cell_type": "markdown",
   "metadata": {},
   "source": [
    "[Observation] all the values are in lowercase. "
   ]
  },
  {
   "cell_type": "code",
   "execution_count": 121,
   "metadata": {},
   "outputs": [
    {
     "data": {
      "text/plain": [
       "array([0, 1])"
      ]
     },
     "execution_count": 121,
     "metadata": {},
     "output_type": "execute_result"
    }
   ],
   "source": [
    "# View the unique values in the 'debt' column. \n",
    "data.debt.unique()"
   ]
  },
  {
   "cell_type": "code",
   "execution_count": 122,
   "metadata": {},
   "outputs": [
    {
     "data": {
      "text/plain": [
       "array(['purchase of the house', 'car purchase', 'supplementary education',\n",
       "       'to have a wedding', 'housing transactions', 'education',\n",
       "       'having a wedding', 'purchase of the house for my family',\n",
       "       'buy real estate', 'buy commercial real estate',\n",
       "       'buy residential real estate', 'construction of own property',\n",
       "       'property', 'building a property', 'buying a second-hand car',\n",
       "       'buying my own car', 'transactions with commercial real estate',\n",
       "       'building a real estate', 'housing',\n",
       "       'transactions with my real estate', 'cars', 'to become educated',\n",
       "       'second-hand car purchase', 'getting an education', 'car',\n",
       "       'wedding ceremony', 'to get a supplementary education',\n",
       "       'purchase of my own house', 'real estate transactions',\n",
       "       'getting higher education', 'to own a car', 'purchase of a car',\n",
       "       'profile education', 'university education',\n",
       "       'buying property for renting out', 'to buy a car',\n",
       "       'housing renovation', 'going to university'], dtype=object)"
      ]
     },
     "execution_count": 122,
     "metadata": {},
     "output_type": "execute_result"
    }
   ],
   "source": [
    "# View the unique values in the 'purpose' column. \n",
    "data.purpose.unique()"
   ]
  },
  {
   "cell_type": "markdown",
   "metadata": {},
   "source": [
    "[Observation] all the values are in lowercase. "
   ]
  },
  {
   "cell_type": "markdown",
   "metadata": {},
   "source": [
    "<div class=\"alert alert-success\" style=\"box-shadow: 4px 4px 4px\">\n",
    "<b>Success:</b> You are very serious about data analysis: well done! We need to be alert while working with data\n",
    "</div>"
   ]
  },
  {
   "cell_type": "markdown",
   "metadata": {},
   "source": [
    "### Investigate the observations (Deep dive). "
   ]
  },
  {
   "cell_type": "markdown",
   "metadata": {},
   "source": [
    "**Try to find a pattern or logic behind the odd values in the 'children' column.**"
   ]
  },
  {
   "cell_type": "code",
   "execution_count": 123,
   "metadata": {},
   "outputs": [
    {
     "data": {
      "text/html": [
       "<div>\n",
       "<style scoped>\n",
       "    .dataframe tbody tr th:only-of-type {\n",
       "        vertical-align: middle;\n",
       "    }\n",
       "\n",
       "    .dataframe tbody tr th {\n",
       "        vertical-align: top;\n",
       "    }\n",
       "\n",
       "    .dataframe thead th {\n",
       "        text-align: right;\n",
       "    }\n",
       "</style>\n",
       "<table border=\"1\" class=\"dataframe\">\n",
       "  <thead>\n",
       "    <tr style=\"text-align: right;\">\n",
       "      <th></th>\n",
       "      <th>children</th>\n",
       "      <th>days_employed</th>\n",
       "      <th>dob_years</th>\n",
       "      <th>education</th>\n",
       "      <th>education_id</th>\n",
       "      <th>family_status</th>\n",
       "      <th>family_status_id</th>\n",
       "      <th>gender</th>\n",
       "      <th>income_type</th>\n",
       "      <th>debt</th>\n",
       "      <th>total_income</th>\n",
       "      <th>purpose</th>\n",
       "    </tr>\n",
       "  </thead>\n",
       "  <tbody>\n",
       "    <tr>\n",
       "      <td>291</td>\n",
       "      <td>-1</td>\n",
       "      <td>-4417.703588</td>\n",
       "      <td>46</td>\n",
       "      <td>secondary education</td>\n",
       "      <td>1</td>\n",
       "      <td>civil partnership</td>\n",
       "      <td>1</td>\n",
       "      <td>F</td>\n",
       "      <td>employee</td>\n",
       "      <td>0</td>\n",
       "      <td>16450.615</td>\n",
       "      <td>profile education</td>\n",
       "    </tr>\n",
       "    <tr>\n",
       "      <td>705</td>\n",
       "      <td>-1</td>\n",
       "      <td>-902.084528</td>\n",
       "      <td>50</td>\n",
       "      <td>secondary education</td>\n",
       "      <td>1</td>\n",
       "      <td>married</td>\n",
       "      <td>0</td>\n",
       "      <td>F</td>\n",
       "      <td>civil servant</td>\n",
       "      <td>0</td>\n",
       "      <td>22061.264</td>\n",
       "      <td>car purchase</td>\n",
       "    </tr>\n",
       "    <tr>\n",
       "      <td>742</td>\n",
       "      <td>-1</td>\n",
       "      <td>-3174.456205</td>\n",
       "      <td>57</td>\n",
       "      <td>secondary education</td>\n",
       "      <td>1</td>\n",
       "      <td>married</td>\n",
       "      <td>0</td>\n",
       "      <td>F</td>\n",
       "      <td>employee</td>\n",
       "      <td>0</td>\n",
       "      <td>10282.887</td>\n",
       "      <td>supplementary education</td>\n",
       "    </tr>\n",
       "    <tr>\n",
       "      <td>800</td>\n",
       "      <td>-1</td>\n",
       "      <td>349987.852217</td>\n",
       "      <td>54</td>\n",
       "      <td>secondary education</td>\n",
       "      <td>1</td>\n",
       "      <td>unmarried</td>\n",
       "      <td>4</td>\n",
       "      <td>F</td>\n",
       "      <td>retiree</td>\n",
       "      <td>0</td>\n",
       "      <td>13806.996</td>\n",
       "      <td>supplementary education</td>\n",
       "    </tr>\n",
       "    <tr>\n",
       "      <td>941</td>\n",
       "      <td>-1</td>\n",
       "      <td>NaN</td>\n",
       "      <td>57</td>\n",
       "      <td>Secondary Education</td>\n",
       "      <td>1</td>\n",
       "      <td>married</td>\n",
       "      <td>0</td>\n",
       "      <td>F</td>\n",
       "      <td>retiree</td>\n",
       "      <td>0</td>\n",
       "      <td>NaN</td>\n",
       "      <td>buying my own car</td>\n",
       "    </tr>\n",
       "    <tr>\n",
       "      <td>1363</td>\n",
       "      <td>-1</td>\n",
       "      <td>-1195.264956</td>\n",
       "      <td>55</td>\n",
       "      <td>SECONDARY EDUCATION</td>\n",
       "      <td>1</td>\n",
       "      <td>married</td>\n",
       "      <td>0</td>\n",
       "      <td>F</td>\n",
       "      <td>business</td>\n",
       "      <td>0</td>\n",
       "      <td>11128.112</td>\n",
       "      <td>profile education</td>\n",
       "    </tr>\n",
       "    <tr>\n",
       "      <td>1929</td>\n",
       "      <td>-1</td>\n",
       "      <td>-1461.303336</td>\n",
       "      <td>38</td>\n",
       "      <td>secondary education</td>\n",
       "      <td>1</td>\n",
       "      <td>unmarried</td>\n",
       "      <td>4</td>\n",
       "      <td>M</td>\n",
       "      <td>employee</td>\n",
       "      <td>0</td>\n",
       "      <td>17459.451</td>\n",
       "      <td>purchase of the house</td>\n",
       "    </tr>\n",
       "    <tr>\n",
       "      <td>2073</td>\n",
       "      <td>-1</td>\n",
       "      <td>-2539.761232</td>\n",
       "      <td>42</td>\n",
       "      <td>secondary education</td>\n",
       "      <td>1</td>\n",
       "      <td>divorced</td>\n",
       "      <td>3</td>\n",
       "      <td>F</td>\n",
       "      <td>business</td>\n",
       "      <td>0</td>\n",
       "      <td>26022.177</td>\n",
       "      <td>purchase of the house</td>\n",
       "    </tr>\n",
       "    <tr>\n",
       "      <td>3814</td>\n",
       "      <td>-1</td>\n",
       "      <td>-3045.290443</td>\n",
       "      <td>26</td>\n",
       "      <td>Secondary Education</td>\n",
       "      <td>1</td>\n",
       "      <td>civil partnership</td>\n",
       "      <td>1</td>\n",
       "      <td>F</td>\n",
       "      <td>civil servant</td>\n",
       "      <td>0</td>\n",
       "      <td>21102.846</td>\n",
       "      <td>having a wedding</td>\n",
       "    </tr>\n",
       "    <tr>\n",
       "      <td>4201</td>\n",
       "      <td>-1</td>\n",
       "      <td>-901.101738</td>\n",
       "      <td>41</td>\n",
       "      <td>secondary education</td>\n",
       "      <td>1</td>\n",
       "      <td>married</td>\n",
       "      <td>0</td>\n",
       "      <td>F</td>\n",
       "      <td>civil servant</td>\n",
       "      <td>0</td>\n",
       "      <td>36220.123</td>\n",
       "      <td>transactions with my real estate</td>\n",
       "    </tr>\n",
       "  </tbody>\n",
       "</table>\n",
       "</div>"
      ],
      "text/plain": [
       "      children  days_employed  dob_years            education  education_id  \\\n",
       "291         -1   -4417.703588         46  secondary education             1   \n",
       "705         -1    -902.084528         50  secondary education             1   \n",
       "742         -1   -3174.456205         57  secondary education             1   \n",
       "800         -1  349987.852217         54  secondary education             1   \n",
       "941         -1            NaN         57  Secondary Education             1   \n",
       "1363        -1   -1195.264956         55  SECONDARY EDUCATION             1   \n",
       "1929        -1   -1461.303336         38  secondary education             1   \n",
       "2073        -1   -2539.761232         42  secondary education             1   \n",
       "3814        -1   -3045.290443         26  Secondary Education             1   \n",
       "4201        -1    -901.101738         41  secondary education             1   \n",
       "\n",
       "          family_status  family_status_id gender    income_type  debt  \\\n",
       "291   civil partnership                 1      F       employee     0   \n",
       "705             married                 0      F  civil servant     0   \n",
       "742             married                 0      F       employee     0   \n",
       "800           unmarried                 4      F        retiree     0   \n",
       "941             married                 0      F        retiree     0   \n",
       "1363            married                 0      F       business     0   \n",
       "1929          unmarried                 4      M       employee     0   \n",
       "2073           divorced                 3      F       business     0   \n",
       "3814  civil partnership                 1      F  civil servant     0   \n",
       "4201            married                 0      F  civil servant     0   \n",
       "\n",
       "      total_income                           purpose  \n",
       "291      16450.615                 profile education  \n",
       "705      22061.264                      car purchase  \n",
       "742      10282.887           supplementary education  \n",
       "800      13806.996           supplementary education  \n",
       "941            NaN                 buying my own car  \n",
       "1363     11128.112                 profile education  \n",
       "1929     17459.451             purchase of the house  \n",
       "2073     26022.177             purchase of the house  \n",
       "3814     21102.846                  having a wedding  \n",
       "4201     36220.123  transactions with my real estate  "
      ]
     },
     "execution_count": 123,
     "metadata": {},
     "output_type": "execute_result"
    }
   ],
   "source": [
    "# Look at the first 10 of the 47 rows. \n",
    "data[data['children'] < 0].head(10)"
   ]
  },
  {
   "cell_type": "code",
   "execution_count": 124,
   "metadata": {},
   "outputs": [
    {
     "data": {
      "text/html": [
       "<div>\n",
       "<style scoped>\n",
       "    .dataframe tbody tr th:only-of-type {\n",
       "        vertical-align: middle;\n",
       "    }\n",
       "\n",
       "    .dataframe tbody tr th {\n",
       "        vertical-align: top;\n",
       "    }\n",
       "\n",
       "    .dataframe thead th {\n",
       "        text-align: right;\n",
       "    }\n",
       "</style>\n",
       "<table border=\"1\" class=\"dataframe\">\n",
       "  <thead>\n",
       "    <tr style=\"text-align: right;\">\n",
       "      <th></th>\n",
       "      <th>children</th>\n",
       "      <th>days_employed</th>\n",
       "      <th>dob_years</th>\n",
       "      <th>education</th>\n",
       "      <th>education_id</th>\n",
       "      <th>family_status</th>\n",
       "      <th>family_status_id</th>\n",
       "      <th>gender</th>\n",
       "      <th>income_type</th>\n",
       "      <th>debt</th>\n",
       "      <th>total_income</th>\n",
       "      <th>purpose</th>\n",
       "    </tr>\n",
       "  </thead>\n",
       "  <tbody>\n",
       "    <tr>\n",
       "      <td>17095</td>\n",
       "      <td>-1</td>\n",
       "      <td>-2809.693200</td>\n",
       "      <td>34</td>\n",
       "      <td>secondary education</td>\n",
       "      <td>1</td>\n",
       "      <td>married</td>\n",
       "      <td>0</td>\n",
       "      <td>F</td>\n",
       "      <td>employee</td>\n",
       "      <td>0</td>\n",
       "      <td>29207.022</td>\n",
       "      <td>buying a second-hand car</td>\n",
       "    </tr>\n",
       "    <tr>\n",
       "      <td>17429</td>\n",
       "      <td>-1</td>\n",
       "      <td>-895.379738</td>\n",
       "      <td>37</td>\n",
       "      <td>secondary education</td>\n",
       "      <td>1</td>\n",
       "      <td>married</td>\n",
       "      <td>0</td>\n",
       "      <td>F</td>\n",
       "      <td>business</td>\n",
       "      <td>0</td>\n",
       "      <td>34370.243</td>\n",
       "      <td>housing</td>\n",
       "    </tr>\n",
       "    <tr>\n",
       "      <td>17657</td>\n",
       "      <td>-1</td>\n",
       "      <td>-4571.957475</td>\n",
       "      <td>41</td>\n",
       "      <td>secondary education</td>\n",
       "      <td>1</td>\n",
       "      <td>married</td>\n",
       "      <td>0</td>\n",
       "      <td>F</td>\n",
       "      <td>employee</td>\n",
       "      <td>0</td>\n",
       "      <td>19536.867</td>\n",
       "      <td>transactions with my real estate</td>\n",
       "    </tr>\n",
       "    <tr>\n",
       "      <td>18219</td>\n",
       "      <td>-1</td>\n",
       "      <td>-3575.215641</td>\n",
       "      <td>33</td>\n",
       "      <td>secondary education</td>\n",
       "      <td>1</td>\n",
       "      <td>married</td>\n",
       "      <td>0</td>\n",
       "      <td>F</td>\n",
       "      <td>employee</td>\n",
       "      <td>0</td>\n",
       "      <td>20537.924</td>\n",
       "      <td>university education</td>\n",
       "    </tr>\n",
       "    <tr>\n",
       "      <td>19100</td>\n",
       "      <td>-1</td>\n",
       "      <td>-617.246968</td>\n",
       "      <td>38</td>\n",
       "      <td>secondary education</td>\n",
       "      <td>1</td>\n",
       "      <td>unmarried</td>\n",
       "      <td>4</td>\n",
       "      <td>M</td>\n",
       "      <td>employee</td>\n",
       "      <td>0</td>\n",
       "      <td>19552.880</td>\n",
       "      <td>building a real estate</td>\n",
       "    </tr>\n",
       "    <tr>\n",
       "      <td>19366</td>\n",
       "      <td>-1</td>\n",
       "      <td>-372.034749</td>\n",
       "      <td>43</td>\n",
       "      <td>SECONDARY EDUCATION</td>\n",
       "      <td>1</td>\n",
       "      <td>married</td>\n",
       "      <td>0</td>\n",
       "      <td>M</td>\n",
       "      <td>employee</td>\n",
       "      <td>0</td>\n",
       "      <td>24894.203</td>\n",
       "      <td>second-hand car purchase</td>\n",
       "    </tr>\n",
       "    <tr>\n",
       "      <td>19417</td>\n",
       "      <td>-1</td>\n",
       "      <td>350340.760224</td>\n",
       "      <td>28</td>\n",
       "      <td>secondary education</td>\n",
       "      <td>1</td>\n",
       "      <td>divorced</td>\n",
       "      <td>3</td>\n",
       "      <td>F</td>\n",
       "      <td>retiree</td>\n",
       "      <td>0</td>\n",
       "      <td>8459.679</td>\n",
       "      <td>cars</td>\n",
       "    </tr>\n",
       "    <tr>\n",
       "      <td>20393</td>\n",
       "      <td>-1</td>\n",
       "      <td>355157.107212</td>\n",
       "      <td>69</td>\n",
       "      <td>secondary education</td>\n",
       "      <td>1</td>\n",
       "      <td>unmarried</td>\n",
       "      <td>4</td>\n",
       "      <td>F</td>\n",
       "      <td>retiree</td>\n",
       "      <td>0</td>\n",
       "      <td>18643.367</td>\n",
       "      <td>real estate transactions</td>\n",
       "    </tr>\n",
       "    <tr>\n",
       "      <td>20717</td>\n",
       "      <td>-1</td>\n",
       "      <td>-661.822321</td>\n",
       "      <td>32</td>\n",
       "      <td>bachelor's degree</td>\n",
       "      <td>0</td>\n",
       "      <td>married</td>\n",
       "      <td>0</td>\n",
       "      <td>F</td>\n",
       "      <td>employee</td>\n",
       "      <td>0</td>\n",
       "      <td>21984.862</td>\n",
       "      <td>buy residential real estate</td>\n",
       "    </tr>\n",
       "    <tr>\n",
       "      <td>21140</td>\n",
       "      <td>-1</td>\n",
       "      <td>-1422.668059</td>\n",
       "      <td>44</td>\n",
       "      <td>secondary education</td>\n",
       "      <td>1</td>\n",
       "      <td>married</td>\n",
       "      <td>0</td>\n",
       "      <td>F</td>\n",
       "      <td>business</td>\n",
       "      <td>0</td>\n",
       "      <td>27129.935</td>\n",
       "      <td>transactions with my real estate</td>\n",
       "    </tr>\n",
       "  </tbody>\n",
       "</table>\n",
       "</div>"
      ],
      "text/plain": [
       "       children  days_employed  dob_years            education  education_id  \\\n",
       "17095        -1   -2809.693200         34  secondary education             1   \n",
       "17429        -1    -895.379738         37  secondary education             1   \n",
       "17657        -1   -4571.957475         41  secondary education             1   \n",
       "18219        -1   -3575.215641         33  secondary education             1   \n",
       "19100        -1    -617.246968         38  secondary education             1   \n",
       "19366        -1    -372.034749         43  SECONDARY EDUCATION             1   \n",
       "19417        -1  350340.760224         28  secondary education             1   \n",
       "20393        -1  355157.107212         69  secondary education             1   \n",
       "20717        -1    -661.822321         32    bachelor's degree             0   \n",
       "21140        -1   -1422.668059         44  secondary education             1   \n",
       "\n",
       "      family_status  family_status_id gender income_type  debt  total_income  \\\n",
       "17095       married                 0      F    employee     0     29207.022   \n",
       "17429       married                 0      F    business     0     34370.243   \n",
       "17657       married                 0      F    employee     0     19536.867   \n",
       "18219       married                 0      F    employee     0     20537.924   \n",
       "19100     unmarried                 4      M    employee     0     19552.880   \n",
       "19366       married                 0      M    employee     0     24894.203   \n",
       "19417      divorced                 3      F     retiree     0      8459.679   \n",
       "20393     unmarried                 4      F     retiree     0     18643.367   \n",
       "20717       married                 0      F    employee     0     21984.862   \n",
       "21140       married                 0      F    business     0     27129.935   \n",
       "\n",
       "                                purpose  \n",
       "17095          buying a second-hand car  \n",
       "17429                           housing  \n",
       "17657  transactions with my real estate  \n",
       "18219              university education  \n",
       "19100            building a real estate  \n",
       "19366          second-hand car purchase  \n",
       "19417                              cars  \n",
       "20393          real estate transactions  \n",
       "20717       buy residential real estate  \n",
       "21140  transactions with my real estate  "
      ]
     },
     "execution_count": 124,
     "metadata": {},
     "output_type": "execute_result"
    }
   ],
   "source": [
    "# Look at the last 10 of the 47 rows. \n",
    "data[data['children'] < 0].tail(10)"
   ]
  },
  {
   "cell_type": "markdown",
   "metadata": {},
   "source": [
    "[Observation] Cannot establish a clear pattern. Since we cannot get in touch with the data owner or the data engineer, we can only guess. \n",
    "1. Probably, '-1' is a clerical error rather than a record of a child death. (-> Treat it as a '1')\n",
    "2. '20' can be either \"more than 5 children\" or a clerical error. The latter is more plausible. (-> Treat it as a '2') "
   ]
  },
  {
   "cell_type": "markdown",
   "metadata": {},
   "source": [
    "**Try to find a pattern or logic behind the odd values in the 'days_employed' column.**"
   ]
  },
  {
   "cell_type": "markdown",
   "metadata": {},
   "source": [
    "In the financial industry, \n",
    "* a negative value refers to the number of days a person was employed up until the loan application date. \n",
    "* a high positive value signifies NaN/Unknown. "
   ]
  },
  {
   "cell_type": "code",
   "execution_count": 125,
   "metadata": {},
   "outputs": [
    {
     "data": {
      "text/html": [
       "<div>\n",
       "<style scoped>\n",
       "    .dataframe tbody tr th:only-of-type {\n",
       "        vertical-align: middle;\n",
       "    }\n",
       "\n",
       "    .dataframe tbody tr th {\n",
       "        vertical-align: top;\n",
       "    }\n",
       "\n",
       "    .dataframe thead th {\n",
       "        text-align: right;\n",
       "    }\n",
       "</style>\n",
       "<table border=\"1\" class=\"dataframe\">\n",
       "  <thead>\n",
       "    <tr style=\"text-align: right;\">\n",
       "      <th></th>\n",
       "      <th>children</th>\n",
       "      <th>days_employed</th>\n",
       "      <th>dob_years</th>\n",
       "      <th>education</th>\n",
       "      <th>education_id</th>\n",
       "      <th>family_status</th>\n",
       "      <th>family_status_id</th>\n",
       "      <th>gender</th>\n",
       "      <th>income_type</th>\n",
       "      <th>debt</th>\n",
       "      <th>total_income</th>\n",
       "      <th>purpose</th>\n",
       "    </tr>\n",
       "  </thead>\n",
       "  <tbody>\n",
       "    <tr>\n",
       "      <td>4</td>\n",
       "      <td>0</td>\n",
       "      <td>340266.072047</td>\n",
       "      <td>53</td>\n",
       "      <td>secondary education</td>\n",
       "      <td>1</td>\n",
       "      <td>civil partnership</td>\n",
       "      <td>1</td>\n",
       "      <td>F</td>\n",
       "      <td>retiree</td>\n",
       "      <td>0</td>\n",
       "      <td>25378.572</td>\n",
       "      <td>to have a wedding</td>\n",
       "    </tr>\n",
       "    <tr>\n",
       "      <td>18</td>\n",
       "      <td>0</td>\n",
       "      <td>400281.136913</td>\n",
       "      <td>53</td>\n",
       "      <td>secondary education</td>\n",
       "      <td>1</td>\n",
       "      <td>widow / widower</td>\n",
       "      <td>2</td>\n",
       "      <td>F</td>\n",
       "      <td>retiree</td>\n",
       "      <td>0</td>\n",
       "      <td>9091.804</td>\n",
       "      <td>buying a second-hand car</td>\n",
       "    </tr>\n",
       "    <tr>\n",
       "      <td>24</td>\n",
       "      <td>1</td>\n",
       "      <td>338551.952911</td>\n",
       "      <td>57</td>\n",
       "      <td>secondary education</td>\n",
       "      <td>1</td>\n",
       "      <td>unmarried</td>\n",
       "      <td>4</td>\n",
       "      <td>F</td>\n",
       "      <td>retiree</td>\n",
       "      <td>0</td>\n",
       "      <td>46487.558</td>\n",
       "      <td>transactions with commercial real estate</td>\n",
       "    </tr>\n",
       "    <tr>\n",
       "      <td>25</td>\n",
       "      <td>0</td>\n",
       "      <td>363548.489348</td>\n",
       "      <td>67</td>\n",
       "      <td>secondary education</td>\n",
       "      <td>1</td>\n",
       "      <td>married</td>\n",
       "      <td>0</td>\n",
       "      <td>M</td>\n",
       "      <td>retiree</td>\n",
       "      <td>0</td>\n",
       "      <td>8818.041</td>\n",
       "      <td>buy real estate</td>\n",
       "    </tr>\n",
       "    <tr>\n",
       "      <td>30</td>\n",
       "      <td>1</td>\n",
       "      <td>335581.668515</td>\n",
       "      <td>62</td>\n",
       "      <td>secondary education</td>\n",
       "      <td>1</td>\n",
       "      <td>married</td>\n",
       "      <td>0</td>\n",
       "      <td>F</td>\n",
       "      <td>retiree</td>\n",
       "      <td>0</td>\n",
       "      <td>27432.971</td>\n",
       "      <td>transactions with commercial real estate</td>\n",
       "    </tr>\n",
       "    <tr>\n",
       "      <td>35</td>\n",
       "      <td>0</td>\n",
       "      <td>394021.072184</td>\n",
       "      <td>68</td>\n",
       "      <td>secondary education</td>\n",
       "      <td>1</td>\n",
       "      <td>civil partnership</td>\n",
       "      <td>1</td>\n",
       "      <td>M</td>\n",
       "      <td>retiree</td>\n",
       "      <td>0</td>\n",
       "      <td>12448.908</td>\n",
       "      <td>having a wedding</td>\n",
       "    </tr>\n",
       "    <tr>\n",
       "      <td>50</td>\n",
       "      <td>0</td>\n",
       "      <td>353731.432338</td>\n",
       "      <td>63</td>\n",
       "      <td>secondary education</td>\n",
       "      <td>1</td>\n",
       "      <td>married</td>\n",
       "      <td>0</td>\n",
       "      <td>F</td>\n",
       "      <td>retiree</td>\n",
       "      <td>0</td>\n",
       "      <td>14774.837</td>\n",
       "      <td>cars</td>\n",
       "    </tr>\n",
       "    <tr>\n",
       "      <td>56</td>\n",
       "      <td>0</td>\n",
       "      <td>370145.087237</td>\n",
       "      <td>64</td>\n",
       "      <td>secondary education</td>\n",
       "      <td>1</td>\n",
       "      <td>widow / widower</td>\n",
       "      <td>2</td>\n",
       "      <td>F</td>\n",
       "      <td>retiree</td>\n",
       "      <td>0</td>\n",
       "      <td>23862.567</td>\n",
       "      <td>education</td>\n",
       "    </tr>\n",
       "    <tr>\n",
       "      <td>71</td>\n",
       "      <td>0</td>\n",
       "      <td>338113.529892</td>\n",
       "      <td>62</td>\n",
       "      <td>secondary education</td>\n",
       "      <td>1</td>\n",
       "      <td>married</td>\n",
       "      <td>0</td>\n",
       "      <td>F</td>\n",
       "      <td>retiree</td>\n",
       "      <td>0</td>\n",
       "      <td>7028.751</td>\n",
       "      <td>cars</td>\n",
       "    </tr>\n",
       "    <tr>\n",
       "      <td>78</td>\n",
       "      <td>0</td>\n",
       "      <td>359722.945074</td>\n",
       "      <td>61</td>\n",
       "      <td>bachelor's degree</td>\n",
       "      <td>0</td>\n",
       "      <td>married</td>\n",
       "      <td>0</td>\n",
       "      <td>M</td>\n",
       "      <td>retiree</td>\n",
       "      <td>0</td>\n",
       "      <td>28020.423</td>\n",
       "      <td>purchase of a car</td>\n",
       "    </tr>\n",
       "  </tbody>\n",
       "</table>\n",
       "</div>"
      ],
      "text/plain": [
       "    children  days_employed  dob_years            education  education_id  \\\n",
       "4          0  340266.072047         53  secondary education             1   \n",
       "18         0  400281.136913         53  secondary education             1   \n",
       "24         1  338551.952911         57  secondary education             1   \n",
       "25         0  363548.489348         67  secondary education             1   \n",
       "30         1  335581.668515         62  secondary education             1   \n",
       "35         0  394021.072184         68  secondary education             1   \n",
       "50         0  353731.432338         63  secondary education             1   \n",
       "56         0  370145.087237         64  secondary education             1   \n",
       "71         0  338113.529892         62  secondary education             1   \n",
       "78         0  359722.945074         61    bachelor's degree             0   \n",
       "\n",
       "        family_status  family_status_id gender income_type  debt  \\\n",
       "4   civil partnership                 1      F     retiree     0   \n",
       "18    widow / widower                 2      F     retiree     0   \n",
       "24          unmarried                 4      F     retiree     0   \n",
       "25            married                 0      M     retiree     0   \n",
       "30            married                 0      F     retiree     0   \n",
       "35  civil partnership                 1      M     retiree     0   \n",
       "50            married                 0      F     retiree     0   \n",
       "56    widow / widower                 2      F     retiree     0   \n",
       "71            married                 0      F     retiree     0   \n",
       "78            married                 0      M     retiree     0   \n",
       "\n",
       "    total_income                                   purpose  \n",
       "4      25378.572                         to have a wedding  \n",
       "18      9091.804                  buying a second-hand car  \n",
       "24     46487.558  transactions with commercial real estate  \n",
       "25      8818.041                           buy real estate  \n",
       "30     27432.971  transactions with commercial real estate  \n",
       "35     12448.908                          having a wedding  \n",
       "50     14774.837                                      cars  \n",
       "56     23862.567                                 education  \n",
       "71      7028.751                                      cars  \n",
       "78     28020.423                         purchase of a car  "
      ]
     },
     "execution_count": 125,
     "metadata": {},
     "output_type": "execute_result"
    }
   ],
   "source": [
    "# View the first 10 of the high positive values. \n",
    "data[data['days_employed'] > 0].head(10)"
   ]
  },
  {
   "cell_type": "markdown",
   "metadata": {},
   "source": [
    "[Observation] \n",
    "Seem to be all \"secondary education\" in 'education' and \"retiree\" in 'income_type'. (-> Deep dive)"
   ]
  },
  {
   "cell_type": "markdown",
   "metadata": {},
   "source": [
    "<div class=\"alert alert-warning\" style=\"box-shadow: 4px 4px 4px\">\n",
    "<b>Remarks:</b> Better not to conclude from an incomplete dataset\n",
    "</div>\n",
    "\n"
   ]
  },
  {
   "cell_type": "code",
   "execution_count": 126,
   "metadata": {},
   "outputs": [
    {
     "data": {
      "text/plain": [
       "children            3445\n",
       "days_employed       3445\n",
       "dob_years           3445\n",
       "education           3445\n",
       "education_id        3445\n",
       "family_status       3445\n",
       "family_status_id    3445\n",
       "gender              3445\n",
       "income_type         3445\n",
       "debt                3445\n",
       "total_income        3445\n",
       "purpose             3445\n",
       "dtype: int64"
      ]
     },
     "execution_count": 126,
     "metadata": {},
     "output_type": "execute_result"
    }
   ],
   "source": [
    "# Check how many high positive values there are. \n",
    "data[data['days_employed'] > 0].count()"
   ]
  },
  {
   "cell_type": "markdown",
   "metadata": {},
   "source": [
    "[Observation] \n",
    "A total of 3445 high positive values."
   ]
  },
  {
   "cell_type": "code",
   "execution_count": 127,
   "metadata": {},
   "outputs": [
    {
     "data": {
      "text/plain": [
       "secondary education    2511\n",
       "bachelor's degree       471\n",
       "Secondary Education     148\n",
       "SECONDARY EDUCATION     135\n",
       "primary education        82\n",
       "some college             31\n",
       "BACHELOR'S DEGREE        29\n",
       "Bachelor's Degree        21\n",
       "PRIMARY EDUCATION         7\n",
       "Primary Education         4\n",
       "Some College              3\n",
       "graduate degree           1\n",
       "Graduate Degree           1\n",
       "SOME COLLEGE              1\n",
       "Name: education, dtype: int64"
      ]
     },
     "execution_count": 127,
     "metadata": {},
     "output_type": "execute_result"
    }
   ],
   "source": [
    "# Check if all those with 'secondary education' were assigned a high positive value in 'days_employed'.\n",
    "data[data['days_employed'] > 0]['education'].value_counts()"
   ]
  },
  {
   "cell_type": "markdown",
   "metadata": {},
   "source": [
    "[Observation] There are 2794 (= 2511+148+135) \"secondary education\" entries in various formats. This is not close to 3445. So, no, that is not the case."
   ]
  },
  {
   "cell_type": "markdown",
   "metadata": {},
   "source": [
    "<div class=\"alert alert-warning\" style=\"box-shadow: 4px 4px 4px\">\n",
    "<b>Remarks:</b> Your code doesn't quite match the comment. If you want to check the statement above, then you should either count the total number of people with 'secondary education and compare it with the obtained value or try another way to filter the data by education\n",
    "</div>\n",
    "\n"
   ]
  },
  {
   "cell_type": "code",
   "execution_count": 128,
   "metadata": {},
   "outputs": [
    {
     "data": {
      "text/plain": [
       "retiree       3443\n",
       "unemployed       2\n",
       "Name: income_type, dtype: int64"
      ]
     },
     "execution_count": 128,
     "metadata": {},
     "output_type": "execute_result"
    }
   ],
   "source": [
    "# Check if all those with 'retiree' are assigned a high positive value in 'days_employed'.\n",
    "data[data['days_employed'] > 0]['income_type'].value_counts()"
   ]
  },
  {
   "cell_type": "markdown",
   "metadata": {},
   "source": [
    "[Observation] The majority is 'retiree'. This is very close to 3445. Is this a way of marking a 'retiree'...? The 2 'unemployed' are clerical slip-ups?"
   ]
  },
  {
   "cell_type": "markdown",
   "metadata": {},
   "source": [
    "<div class=\"alert alert-warning\" style=\"box-shadow: 4px 4px 4px\">\n",
    "<b>Remarks:</b> Same\n",
    "</div>\n",
    "\n"
   ]
  },
  {
   "cell_type": "markdown",
   "metadata": {},
   "source": [
    "**Try to find a pattern or logic behind the odd values in the 'dob_years' column.**"
   ]
  },
  {
   "cell_type": "code",
   "execution_count": 129,
   "metadata": {},
   "outputs": [
    {
     "data": {
      "text/plain": [
       "children            101\n",
       "days_employed        91\n",
       "dob_years           101\n",
       "education           101\n",
       "education_id        101\n",
       "family_status       101\n",
       "family_status_id    101\n",
       "gender              101\n",
       "income_type         101\n",
       "debt                101\n",
       "total_income         91\n",
       "purpose             101\n",
       "dtype: int64"
      ]
     },
     "execution_count": 129,
     "metadata": {},
     "output_type": "execute_result"
    }
   ],
   "source": [
    "# Check how many times '0' appears.\n",
    "data[data['dob_years'] == 0].count()"
   ]
  },
  {
   "cell_type": "markdown",
   "metadata": {},
   "source": [
    "[Observation] There are 101 '0' entries. "
   ]
  },
  {
   "cell_type": "code",
   "execution_count": 130,
   "metadata": {},
   "outputs": [
    {
     "data": {
      "text/html": [
       "<div>\n",
       "<style scoped>\n",
       "    .dataframe tbody tr th:only-of-type {\n",
       "        vertical-align: middle;\n",
       "    }\n",
       "\n",
       "    .dataframe tbody tr th {\n",
       "        vertical-align: top;\n",
       "    }\n",
       "\n",
       "    .dataframe thead th {\n",
       "        text-align: right;\n",
       "    }\n",
       "</style>\n",
       "<table border=\"1\" class=\"dataframe\">\n",
       "  <thead>\n",
       "    <tr style=\"text-align: right;\">\n",
       "      <th></th>\n",
       "      <th>children</th>\n",
       "      <th>days_employed</th>\n",
       "      <th>dob_years</th>\n",
       "      <th>education</th>\n",
       "      <th>education_id</th>\n",
       "      <th>family_status</th>\n",
       "      <th>family_status_id</th>\n",
       "      <th>gender</th>\n",
       "      <th>income_type</th>\n",
       "      <th>debt</th>\n",
       "      <th>total_income</th>\n",
       "      <th>purpose</th>\n",
       "    </tr>\n",
       "  </thead>\n",
       "  <tbody>\n",
       "    <tr>\n",
       "      <td>99</td>\n",
       "      <td>0</td>\n",
       "      <td>346541.618895</td>\n",
       "      <td>0</td>\n",
       "      <td>Secondary Education</td>\n",
       "      <td>1</td>\n",
       "      <td>married</td>\n",
       "      <td>0</td>\n",
       "      <td>F</td>\n",
       "      <td>retiree</td>\n",
       "      <td>0</td>\n",
       "      <td>11406.644</td>\n",
       "      <td>car</td>\n",
       "    </tr>\n",
       "    <tr>\n",
       "      <td>149</td>\n",
       "      <td>0</td>\n",
       "      <td>-2664.273168</td>\n",
       "      <td>0</td>\n",
       "      <td>secondary education</td>\n",
       "      <td>1</td>\n",
       "      <td>divorced</td>\n",
       "      <td>3</td>\n",
       "      <td>F</td>\n",
       "      <td>employee</td>\n",
       "      <td>0</td>\n",
       "      <td>11228.230</td>\n",
       "      <td>housing transactions</td>\n",
       "    </tr>\n",
       "    <tr>\n",
       "      <td>270</td>\n",
       "      <td>3</td>\n",
       "      <td>-1872.663186</td>\n",
       "      <td>0</td>\n",
       "      <td>secondary education</td>\n",
       "      <td>1</td>\n",
       "      <td>married</td>\n",
       "      <td>0</td>\n",
       "      <td>F</td>\n",
       "      <td>employee</td>\n",
       "      <td>0</td>\n",
       "      <td>16346.633</td>\n",
       "      <td>housing renovation</td>\n",
       "    </tr>\n",
       "    <tr>\n",
       "      <td>578</td>\n",
       "      <td>0</td>\n",
       "      <td>397856.565013</td>\n",
       "      <td>0</td>\n",
       "      <td>secondary education</td>\n",
       "      <td>1</td>\n",
       "      <td>married</td>\n",
       "      <td>0</td>\n",
       "      <td>F</td>\n",
       "      <td>retiree</td>\n",
       "      <td>0</td>\n",
       "      <td>15619.310</td>\n",
       "      <td>construction of own property</td>\n",
       "    </tr>\n",
       "    <tr>\n",
       "      <td>1040</td>\n",
       "      <td>0</td>\n",
       "      <td>-1158.029561</td>\n",
       "      <td>0</td>\n",
       "      <td>bachelor's degree</td>\n",
       "      <td>0</td>\n",
       "      <td>divorced</td>\n",
       "      <td>3</td>\n",
       "      <td>F</td>\n",
       "      <td>business</td>\n",
       "      <td>0</td>\n",
       "      <td>48639.062</td>\n",
       "      <td>to own a car</td>\n",
       "    </tr>\n",
       "    <tr>\n",
       "      <td>1149</td>\n",
       "      <td>0</td>\n",
       "      <td>-934.654854</td>\n",
       "      <td>0</td>\n",
       "      <td>secondary education</td>\n",
       "      <td>1</td>\n",
       "      <td>married</td>\n",
       "      <td>0</td>\n",
       "      <td>F</td>\n",
       "      <td>business</td>\n",
       "      <td>0</td>\n",
       "      <td>32296.389</td>\n",
       "      <td>buy real estate</td>\n",
       "    </tr>\n",
       "    <tr>\n",
       "      <td>1175</td>\n",
       "      <td>0</td>\n",
       "      <td>370879.508002</td>\n",
       "      <td>0</td>\n",
       "      <td>secondary education</td>\n",
       "      <td>1</td>\n",
       "      <td>married</td>\n",
       "      <td>0</td>\n",
       "      <td>F</td>\n",
       "      <td>retiree</td>\n",
       "      <td>0</td>\n",
       "      <td>50231.975</td>\n",
       "      <td>to get a supplementary education</td>\n",
       "    </tr>\n",
       "    <tr>\n",
       "      <td>1386</td>\n",
       "      <td>0</td>\n",
       "      <td>-5043.219890</td>\n",
       "      <td>0</td>\n",
       "      <td>bachelor's degree</td>\n",
       "      <td>0</td>\n",
       "      <td>married</td>\n",
       "      <td>0</td>\n",
       "      <td>M</td>\n",
       "      <td>civil servant</td>\n",
       "      <td>0</td>\n",
       "      <td>38483.779</td>\n",
       "      <td>purchase of a car</td>\n",
       "    </tr>\n",
       "    <tr>\n",
       "      <td>1890</td>\n",
       "      <td>0</td>\n",
       "      <td>NaN</td>\n",
       "      <td>0</td>\n",
       "      <td>bachelor's degree</td>\n",
       "      <td>0</td>\n",
       "      <td>unmarried</td>\n",
       "      <td>4</td>\n",
       "      <td>F</td>\n",
       "      <td>employee</td>\n",
       "      <td>0</td>\n",
       "      <td>NaN</td>\n",
       "      <td>housing</td>\n",
       "    </tr>\n",
       "    <tr>\n",
       "      <td>1898</td>\n",
       "      <td>0</td>\n",
       "      <td>370144.537021</td>\n",
       "      <td>0</td>\n",
       "      <td>secondary education</td>\n",
       "      <td>1</td>\n",
       "      <td>widow / widower</td>\n",
       "      <td>2</td>\n",
       "      <td>F</td>\n",
       "      <td>retiree</td>\n",
       "      <td>0</td>\n",
       "      <td>20384.043</td>\n",
       "      <td>to buy a car</td>\n",
       "    </tr>\n",
       "  </tbody>\n",
       "</table>\n",
       "</div>"
      ],
      "text/plain": [
       "      children  days_employed  dob_years            education  education_id  \\\n",
       "99           0  346541.618895          0  Secondary Education             1   \n",
       "149          0   -2664.273168          0  secondary education             1   \n",
       "270          3   -1872.663186          0  secondary education             1   \n",
       "578          0  397856.565013          0  secondary education             1   \n",
       "1040         0   -1158.029561          0    bachelor's degree             0   \n",
       "1149         0    -934.654854          0  secondary education             1   \n",
       "1175         0  370879.508002          0  secondary education             1   \n",
       "1386         0   -5043.219890          0    bachelor's degree             0   \n",
       "1890         0            NaN          0    bachelor's degree             0   \n",
       "1898         0  370144.537021          0  secondary education             1   \n",
       "\n",
       "        family_status  family_status_id gender    income_type  debt  \\\n",
       "99            married                 0      F        retiree     0   \n",
       "149          divorced                 3      F       employee     0   \n",
       "270           married                 0      F       employee     0   \n",
       "578           married                 0      F        retiree     0   \n",
       "1040         divorced                 3      F       business     0   \n",
       "1149          married                 0      F       business     0   \n",
       "1175          married                 0      F        retiree     0   \n",
       "1386          married                 0      M  civil servant     0   \n",
       "1890        unmarried                 4      F       employee     0   \n",
       "1898  widow / widower                 2      F        retiree     0   \n",
       "\n",
       "      total_income                           purpose  \n",
       "99       11406.644                               car  \n",
       "149      11228.230              housing transactions  \n",
       "270      16346.633                housing renovation  \n",
       "578      15619.310      construction of own property  \n",
       "1040     48639.062                      to own a car  \n",
       "1149     32296.389                   buy real estate  \n",
       "1175     50231.975  to get a supplementary education  \n",
       "1386     38483.779                 purchase of a car  \n",
       "1890           NaN                           housing  \n",
       "1898     20384.043                      to buy a car  "
      ]
     },
     "execution_count": 130,
     "metadata": {},
     "output_type": "execute_result"
    }
   ],
   "source": [
    "# View the first 10 of the 101 rows. \n",
    "data[data['dob_years'] == 0].head(10)"
   ]
  },
  {
   "cell_type": "markdown",
   "metadata": {},
   "source": [
    "[Observation] No obvious pattern jumps at me. "
   ]
  },
  {
   "cell_type": "markdown",
   "metadata": {},
   "source": [
    "In my research on loan eligibility in terms of age, the minimum lower boundary and the maximum upper boundary I saw were 18 and 76, respectively. So in our client's case, it looks like the range is 19-75.\n",
    "<br>\n",
    "<br>[Observation] So a 0 may indicate those applicants who are outside that age range."
   ]
  },
  {
   "cell_type": "markdown",
   "metadata": {},
   "source": [
    "### Conclusion"
   ]
  },
  {
   "cell_type": "markdown",
   "metadata": {},
   "source": [
    "'days_employed' \n",
    "* The float data type should be changed to int. (-> Change data types)\n",
    "* There are negative values.\n",
    "* There are high positive values (340266.072047 days ~= 932 years!!) \n",
    "* The high positive values are all assigned to 'income_type' = 'retiree', with 2 exceptions in 'unemployed' (perhaps a clerical error). \n",
    "<br>Note: In the financial industry, \n",
    "* a negative value refers to the number of days employed up until the loan application date. \n",
    "* a high positive value signifies NaN/Unknown. \n",
    "\n",
    "'education' \n",
    "* Capitalization and cases are mixed. Should be standardised to lowercase. (-> Change data types)\n",
    "\n",
    "'dob_years'\n",
    "* Better to rename to 'age' for clarity. (-> Rename variable)\n",
    "* '0' probably indicates the applicants are not eligible for a loan because they are outside the permitted age range. \n",
    "\n",
    "'debt' \n",
    "* The int data type should be changed to boolean. (-> Change data types)\n",
    "\n",
    "'days_employed', 'total_income'\n",
    "* Both have 2174 (=21525-19351) missing values. (-> Investigate further)\n",
    "\n",
    "'children'\n",
    "* -1 children: probably a clerical error; handle it as a '1'. (-> Change the value)\n",
    "* 20 children: probably a clerical error, too; handle it as a '2'. (Change the value)\n",
    "\n",
    "Verified:\n",
    "* No negative values: 'total_income', 'dob_years'\n",
    "* No anomalies: 'education_id', 'family_status_id', 'gender'\n",
    "* All in lowercase: 'family_status', 'income_type', 'purpose'"
   ]
  },
  {
   "cell_type": "markdown",
   "metadata": {},
   "source": [
    "<div class=\"alert alert-success\" style=\"box-shadow: 4px 4px 4px\">\n",
    "<b>Success:</b> I really like your conclusions, everything is clear and structured!\n",
    "</div>\n",
    "\n",
    "<div class=\"alert alert-danger\" style=\"box-shadow: 4px 4px 4px\">\n",
    "<s><b>Needs fixing:</b> \n",
    "Just to remind you of comment style ...\n",
    "</div>"
   ]
  },
  {
   "cell_type": "markdown",
   "metadata": {},
   "source": []
  },
  {
   "cell_type": "markdown",
   "metadata": {},
   "source": [
    "## Data preprocessing"
   ]
  },
  {
   "cell_type": "markdown",
   "metadata": {},
   "source": [
    "### Processing missing values"
   ]
  },
  {
   "cell_type": "markdown",
   "metadata": {},
   "source": [
    "**Determine how to fill missing values in such a way that the general characteristics of the dataset are maintained, and fill them.**"
   ]
  },
  {
   "cell_type": "markdown",
   "metadata": {},
   "source": [
    "The 'days_employed' and 'total_income' columns were the only columns with missing values. \n",
    "<br>[Observation] Are the two columns missing values in exactly the same rows?"
   ]
  },
  {
   "cell_type": "code",
   "execution_count": 131,
   "metadata": {},
   "outputs": [
    {
     "data": {
      "text/plain": [
       "children            2174\n",
       "days_employed          0\n",
       "dob_years           2174\n",
       "education           2174\n",
       "education_id        2174\n",
       "family_status       2174\n",
       "family_status_id    2174\n",
       "gender              2174\n",
       "income_type         2174\n",
       "debt                2174\n",
       "total_income           0\n",
       "purpose             2174\n",
       "dtype: int64"
      ]
     },
     "execution_count": 131,
     "metadata": {},
     "output_type": "execute_result"
    }
   ],
   "source": [
    "# Count the rows where both 'days_employed' and 'total_income' columns have missing values. \n",
    "data[data['days_employed'].isnull() & data['total_income'].isnull()].count()"
   ]
  },
  {
   "cell_type": "markdown",
   "metadata": {},
   "source": [
    "[Observation] The two columns are missing values in exactly the same rows. \n",
    "These customers are not working so there are neither 'days_employed' nor 'total_income' data? Or they just didn't want to reveal the information?"
   ]
  },
  {
   "cell_type": "markdown",
   "metadata": {},
   "source": [
    "<div class=\"alert alert-success\" style=\"box-shadow: 4px 4px 4px\">\n",
    "<b>Success:</b> Good!\n",
    "</div>"
   ]
  },
  {
   "cell_type": "code",
   "execution_count": 132,
   "metadata": {},
   "outputs": [
    {
     "data": {
      "text/plain": [
       "children            0.000000\n",
       "days_employed       0.100999\n",
       "dob_years           0.000000\n",
       "education           0.000000\n",
       "education_id        0.000000\n",
       "family_status       0.000000\n",
       "family_status_id    0.000000\n",
       "gender              0.000000\n",
       "income_type         0.000000\n",
       "debt                0.000000\n",
       "total_income        0.100999\n",
       "purpose             0.000000\n",
       "dtype: float64"
      ]
     },
     "execution_count": 132,
     "metadata": {},
     "output_type": "execute_result"
    }
   ],
   "source": [
    "# Divide the number of missing values per column by the size of the dataset to see the ratio of the missing values. \n",
    "data.isnull().sum() / len(data)"
   ]
  },
  {
   "cell_type": "markdown",
   "metadata": {},
   "source": [
    "[Observation] Approx. 10% of the rows are missing values in the two columns."
   ]
  },
  {
   "cell_type": "markdown",
   "metadata": {},
   "source": [
    "**Handle the missing values in the 'days-employed' column.**"
   ]
  },
  {
   "cell_type": "markdown",
   "metadata": {},
   "source": [
    "Are there high positive values that indicate a \"normal\" number of years? "
   ]
  },
  {
   "cell_type": "code",
   "execution_count": 133,
   "metadata": {},
   "outputs": [
    {
     "data": {
      "text/plain": [
       "children                             -1\n",
       "days_employed                    328729\n",
       "dob_years                             0\n",
       "education             BACHELOR'S DEGREE\n",
       "education_id                          0\n",
       "family_status         civil partnership\n",
       "family_status_id                      0\n",
       "gender                                F\n",
       "income_type                     retiree\n",
       "debt                                  0\n",
       "total_income                    3306.76\n",
       "purpose             building a property\n",
       "dtype: object"
      ]
     },
     "execution_count": 133,
     "metadata": {},
     "output_type": "execute_result"
    }
   ],
   "source": [
    "# Check the minimum positive value.\n",
    "data[data['days_employed'] > 0].min()"
   ]
  },
  {
   "cell_type": "markdown",
   "metadata": {},
   "source": [
    "[Observation] 328729 days are ~900 years!! \n",
    "So it is safe to conclude there is no positive value that indicates the number of days *since* the load application date."
   ]
  },
  {
   "cell_type": "markdown",
   "metadata": {},
   "source": [
    "So, in the 'days_employed' column, there are:\n",
    "<br>a) 2174 missing values containing NaN,\n",
    "<br>b) 3445 positive values, and\n",
    "<br>c) 15906 (=21525-(2174+3445)) negative values.\n",
    "\n",
    "[Observation] Only the negative values (c) are relevant to our research. Relate to the rest as 'missing values' (a, b). \n",
    "\n",
    "[Comment] I will try not to change the original data in future and save the new data in a new column since I never know when I will need them again. "
   ]
  },
  {
   "cell_type": "markdown",
   "metadata": {},
   "source": [
    "<div class=\"alert alert-success\" style=\"box-shadow: 4px 4px 4px\">\n",
    "<b>Success:</b> Good observations!\n",
    "</div>\n",
    "\n",
    "<div class=\"alert alert-warning\" style=\"box-shadow: 4px 4px 4px\">\n",
    "<b>Remarks:</b> Answering your questions:\n",
    "        <br> *  I usually save the changed data to a new column to accommodate the changes. But this is not necessary. You can leave new data in the old column if you are sure that you will not return to the old ones.\n",
    "    <br> * You can just assign np.nan instead of 999999.99\n",
    "\n",
    "</div>\n"
   ]
  },
  {
   "cell_type": "code",
   "execution_count": 134,
   "metadata": {},
   "outputs": [],
   "source": [
    "# Replace the high positive values with NaN. NaN is a float type, and mathematical operations can be performed.\n",
    "data.loc[data['days_employed'] > 0, 'days_employed'] = np.NaN\n",
    "\n",
    "# Verify it worked. \n",
    "#data.days_employed.head(10)"
   ]
  },
  {
   "cell_type": "markdown",
   "metadata": {},
   "source": [
    "[Observation] This brings up the ratio of missing values in the column from 10% to 26% (= 5619 / 21525). In general, up to 30% is acceptable and no need to drop the rows which are missing values, though there are no hard-and-fast rules. "
   ]
  },
  {
   "cell_type": "markdown",
   "metadata": {},
   "source": [
    "[Comment] I managed without using 999999.99 this time! :)"
   ]
  },
  {
   "cell_type": "markdown",
   "metadata": {},
   "source": [
    "<div class=\"alert alert-success\" style=\"box-shadow: 4px 4px 4px\">\n",
    "<b>Success:</b> Agree\n",
    "</div>\n",
    "\n",
    "<div class=\"alert alert-warning\" style=\"box-shadow: 4px 4px 4px\">\n",
    "<b>Remarks:</b> Answering your question:\n",
    "        <br> * There is no clear line when dropping rows is necessary. But in general, 30% missing values ​​are acceptable.\n",
    "\n",
    "\n",
    "</div>\n"
   ]
  },
  {
   "cell_type": "code",
   "execution_count": 135,
   "metadata": {},
   "outputs": [],
   "source": [
    "# Convert the negative values to number of years by applying abs() then dividing by 365. \n",
    "data['days_employed_years'] = data['days_employed'].abs() / 365\n",
    "\n",
    "# Verify it worked. \n",
    "#data.days_employed_years.head(10)"
   ]
  },
  {
   "cell_type": "markdown",
   "metadata": {},
   "source": [
    "<div class=\"alert alert-warning\" style=\"box-shadow: 4px 4px 4px\">\n",
    "<b>Remarks:</b> To get rid of negative values ​​it is better to use the abs() method\n",
    "\n",
    "\n",
    "</div>"
   ]
  },
  {
   "cell_type": "markdown",
   "metadata": {},
   "source": [
    "Unlike 'age', 'days_employed' is not something that everyone has. I cannot invent the number of days a person worked. \n",
    "If I were to fill the values with the mean or the median of the column, it will change the data significantly. \n",
    "The data are probably missing because the customers did not work or did not want to reveal the information (i.e. MNAR). \n",
    "I will handle them as a case where no data were provided. "
   ]
  },
  {
   "cell_type": "code",
   "execution_count": 136,
   "metadata": {},
   "outputs": [],
   "source": [
    "# So, fill the 'days_employed_years' column with zeros where there is NaN. \n",
    "data['days_employed_years'] = data['days_employed_years'].fillna(0)\n",
    "\n",
    "# Verify it worked. \n",
    "#print(data.days_employed_years.head(10))\n",
    "#data.days_employed_years.isnull().sum()"
   ]
  },
  {
   "cell_type": "markdown",
   "metadata": {},
   "source": [
    "<div class=\"alert alert-warning\" style=\"box-shadow: 4px 4px 4px\">\n",
    "<b>Remarks:</b> A good note about the mean and the median, but don't you confess that 30% of zeros will also significantly affect the data?\n",
    "<br>\n",
    "It may be better to separately fill in the initially empty values ​​and too large positive values. This is more a suggestion for thought, not a mandatory recommendation.\n",
    "</div>"
   ]
  },
  {
   "cell_type": "markdown",
   "metadata": {},
   "source": [
    "[RESPONSE TO REMARKS] Thank you - I very much wanted to consult this point. \n",
    "I wanted to distinguish between \"empty values\" and \"high positive values\" (\"unknown\"), but I didn't know how. \n",
    "\n",
    "In this project, I did not need to do any calculations on the 'days_employed' column. \n",
    "<br>The correct way, as I learned, is to handle these 3445 high positive values as outliers by reserving them in a separate dataframe of their own, and then removing them from the original dataframe. This way, the ratio of missing values will not increase significantly. "
   ]
  },
  {
   "cell_type": "markdown",
   "metadata": {},
   "source": [
    "<div class=\"alert alert-success\" style=\"box-shadow: 4px 4px 4px\">\n",
    "<b>Success #2:</b> I agree, this approach is good\n",
    "</div>"
   ]
  },
  {
   "cell_type": "markdown",
   "metadata": {},
   "source": [
    "**Handle the missing values in the 'total_income' column.**"
   ]
  },
  {
   "cell_type": "markdown",
   "metadata": {},
   "source": [
    "Filling the 'total_income' values with the median of the column will change the data significantly. The data are probably missing because the customers did not work or did not want to reveal the information (i.e. MNAR). I will handle them as a case where no data were provided. "
   ]
  },
  {
   "cell_type": "code",
   "execution_count": 137,
   "metadata": {},
   "outputs": [],
   "source": [
    "# So, fill the 'total_income' column with zeros where there is NaN. \n",
    "data['total_income'] = data['total_income'].fillna(0)\n",
    "\n",
    "# Verify it worked. \n",
    "#data.total_income.isnull().sum()"
   ]
  },
  {
   "cell_type": "markdown",
   "metadata": {},
   "source": [
    "### Conclusion"
   ]
  },
  {
   "cell_type": "markdown",
   "metadata": {},
   "source": [
    "The 'days_employed' and 'total_income' columns are the only columns with missing values. \n",
    "The two columns are missing values in exactly the same rows. Perhaps, customers did not want to share the information?\n",
    "The rows with missing values account for approx. 10% of the total rows in the dataset.\n",
    "\n",
    "'days_employed'\n",
    "<br>a) 2174 missing values containing NaN\n",
    "<br>-> Filled them with 0 rather than, say the median, since I felt I should not invent data where there is none. \n",
    "<br>\n",
    "<br>b) 3445 high positive values\n",
    "<br>-> Filled them with 0 to reflect the industry's convention in the use of high positive values, and\n",
    "<br>I should not invent data where there is none. That will change the general characteristics of the dataset significantly. \n",
    "<br>\n",
    "<br>c) 15906 (=21525-(2174+3445)) negative values.\n",
    "<br>-> These are the values that are relevant to our research. \n",
    "<br>\n",
    "<br>After filling the high positive values, the ratio of the rows with missing values increased to 26%. "
   ]
  },
  {
   "cell_type": "markdown",
   "metadata": {},
   "source": [
    "<div class=\"alert alert-success\" style=\"box-shadow: 4px 4px 4px\">\n",
    "<b>Success:</b> Good points!\n",
    "</div>"
   ]
  },
  {
   "cell_type": "markdown",
   "metadata": {},
   "source": []
  },
  {
   "cell_type": "markdown",
   "metadata": {},
   "source": [
    "### Data type replacement"
   ]
  },
  {
   "cell_type": "markdown",
   "metadata": {},
   "source": [
    "**Convert 'days_employed' to number of years.**"
   ]
  },
  {
   "cell_type": "markdown",
   "metadata": {},
   "source": [
    "It makes more sense to display number of years rounded to the whole number."
   ]
  },
  {
   "cell_type": "code",
   "execution_count": 138,
   "metadata": {},
   "outputs": [],
   "source": [
    "# Change the data type of 'days_employed_years' from float to int.\n",
    "data['days_employed_years'] = data['days_employed_years'].astype(int)\n",
    "\n",
    "# Verify it worked. \n",
    "#data['days_employed_years']"
   ]
  },
  {
   "cell_type": "markdown",
   "metadata": {},
   "source": [
    "<div class=\"alert alert-success\" style=\"box-shadow: 4px 4px 4px\">\n",
    "<b>Success:</b> +\n",
    "</div>\n",
    "\n",
    "<div class=\"alert alert-warning\" style=\"box-shadow: 4px 4px 4px\">\n",
    "<b>Remarks:</b> Code verifying is a good idea, but in the final version, it is better to remove the data output. Your code will become compact and fit in one cell.\n",
    "\n",
    "</div>\n"
   ]
  },
  {
   "cell_type": "markdown",
   "metadata": {},
   "source": [
    "**Convert 'debt' from integer to boolean.**"
   ]
  },
  {
   "cell_type": "markdown",
   "metadata": {},
   "source": [
    "It makes more sense to use boolean to represent \"a customer paid back a loan\" and \"a customer failed to pay back a loan\"."
   ]
  },
  {
   "cell_type": "code",
   "execution_count": 139,
   "metadata": {},
   "outputs": [],
   "source": [
    "# Change the data type of 'debt' from int to boolean.\n",
    "data['debt'] = data['debt'].astype(bool)\n",
    "\n",
    "# Verify it worked. \n",
    "#data['debt'].value_counts()"
   ]
  },
  {
   "cell_type": "markdown",
   "metadata": {},
   "source": [
    "**Rename 'dob_years' to 'age'.**"
   ]
  },
  {
   "cell_type": "code",
   "execution_count": 140,
   "metadata": {},
   "outputs": [],
   "source": [
    "# Rename 'dob_years' to 'age' for ease of understanding. \n",
    "data.set_axis(['children', 'days_employed', 'age', 'education', 'education_id', 'family_status', 'family_status_id', 'gender', 'income_type', 'debt', 'total_income', 'purpose', 'days_employed_years'], axis='columns', inplace=True)\n",
    "\n",
    "# Verify it worked. \n",
    "#data.info()"
   ]
  },
  {
   "cell_type": "markdown",
   "metadata": {},
   "source": [
    "**Convert illogical values in 'children' to logical guesses.**"
   ]
  },
  {
   "cell_type": "code",
   "execution_count": 141,
   "metadata": {},
   "outputs": [
    {
     "data": {
      "text/plain": [
       " 0     14149\n",
       " 1      4818\n",
       " 2      2055\n",
       " 3       330\n",
       " 20       76\n",
       "-1        47\n",
       " 4        41\n",
       " 5         9\n",
       "Name: children, dtype: int64"
      ]
     },
     "execution_count": 141,
     "metadata": {},
     "output_type": "execute_result"
    }
   ],
   "source": [
    "# Check the count for each unique value.\n",
    "data['children'].value_counts()"
   ]
  },
  {
   "cell_type": "markdown",
   "metadata": {},
   "source": [
    "[Observation] There are 47 entries for '-1' and 76 entries for '20'.\n",
    "After the conversions below, there ought to be:\n",
    "* -1: 47 + 4818 = 4865 entries\n",
    "* 20: 76 + 2055 = 2131 entries"
   ]
  },
  {
   "cell_type": "code",
   "execution_count": 143,
   "metadata": {},
   "outputs": [],
   "source": [
    "# Convert all the '-1' entries to '1'. \n",
    "data.loc[data['children'] == -1, 'children'] = 1"
   ]
  },
  {
   "cell_type": "code",
   "execution_count": 145,
   "metadata": {},
   "outputs": [],
   "source": [
    "# Similarly, convert all the '20' entries to '2'. \n",
    "data.loc[data['children'] == 20, 'children'] = 2\n",
    "\n",
    "# Verify it worked.\n",
    "#data['children'].value_counts()"
   ]
  },
  {
   "cell_type": "markdown",
   "metadata": {},
   "source": [
    "[Observation] 4865 - OK; 2131 - OK"
   ]
  },
  {
   "cell_type": "markdown",
   "metadata": {},
   "source": [
    "### Conclusion"
   ]
  },
  {
   "cell_type": "markdown",
   "metadata": {},
   "source": [
    "The following modifications were made to enhance ease of understanding and calculation:\n",
    "<br>\n",
    "<br>= Data type conversion =\n",
    "<br>'days_employed' \n",
    "* Changed from float to int.\n",
    "* Converted negative to positive and expressed as number of years, rounded off to the nearest one\n",
    "\n",
    "<br>'debt'\n",
    "* Changed from int to boolean.\n",
    "* Easier to understand to ask the question, \"did the customer pay back a loan on time?\" and then to ansewr \"True\" or \"False\"."
   ]
  },
  {
   "cell_type": "markdown",
   "metadata": {},
   "source": [
    "= Renaming =\n",
    "<br>'dob_years'\n",
    "* Renamed 'dob_years' to 'age'. "
   ]
  },
  {
   "cell_type": "markdown",
   "metadata": {},
   "source": [
    "= Value correction =\n",
    "<br>'children'\n",
    "* Changed -1 to 1.\n",
    "* Changed 20 to 2.\n",
    "\n",
    "<br>'dob_years'\n",
    "<br>[QUESTION] I did not change the value for those with the '0' entry. My guess is that they are not eligible for a loan because of their age. I would like to leave the data since the project does not relate to the age factor, and the data can provide valuable insights on the history of loan repayment with regard to other variables. Is this OK?"
   ]
  },
  {
   "cell_type": "markdown",
   "metadata": {},
   "source": [
    "<div class=\"alert alert-danger\" style=\"box-shadow: 4px 4px 4px\">\n",
    "<s><b>Needs fixing:</b> As you noted earlier, there are illogical values ​​in the children column. They should be processed at this stage. Also, take a closer look at the rest of the columns, somewhere else there may be similar errors that need to be corrected</s>\n",
    "</div>\n",
    "\n",
    "<div class=\"alert alert-success\" style=\"box-shadow: 4px 4px 4px\">\n",
    "<b>Success #2:</b> I agree, this approach is good. Keep in mind that usually such values ​​must be processed (replaced correctly or dropped). But sometimes with sufficient argumentation, you can leave them\n",
    "</div>"
   ]
  },
  {
   "cell_type": "markdown",
   "metadata": {},
   "source": []
  },
  {
   "cell_type": "markdown",
   "metadata": {},
   "source": [
    "### Processing duplicates"
   ]
  },
  {
   "cell_type": "markdown",
   "metadata": {},
   "source": [
    "**Take care of the most obvious possible cause for duplicates - 'education'.**"
   ]
  },
  {
   "cell_type": "code",
   "execution_count": 146,
   "metadata": {},
   "outputs": [],
   "source": [
    "# Standardize the 'education' values to lowercase. \n",
    "data['education'] = data['education'].str.lower()\n",
    "\n",
    "# Verify it worked. \n",
    "#data.education.value_counts()"
   ]
  },
  {
   "cell_type": "markdown",
   "metadata": {},
   "source": [
    "<div class=\"alert alert-success\" style=\"box-shadow: 4px 4px 4px\">\n",
    "<b>Success:</b> Nice approach!\n",
    "</div>"
   ]
  },
  {
   "cell_type": "markdown",
   "metadata": {},
   "source": [
    "**Now onto identical repetitions of entire rows.**"
   ]
  },
  {
   "cell_type": "code",
   "execution_count": 147,
   "metadata": {},
   "outputs": [
    {
     "data": {
      "text/plain": [
       "71"
      ]
     },
     "execution_count": 147,
     "metadata": {},
     "output_type": "execute_result"
    }
   ],
   "source": [
    "# Count the number of duplicates.\n",
    "data.duplicated().sum()"
   ]
  },
  {
   "cell_type": "markdown",
   "metadata": {},
   "source": [
    "[Observation] There are 71 duplicates where the entire rows are identical \"column for column\". "
   ]
  },
  {
   "cell_type": "code",
   "execution_count": 148,
   "metadata": {},
   "outputs": [
    {
     "data": {
      "text/html": [
       "<div>\n",
       "<style scoped>\n",
       "    .dataframe tbody tr th:only-of-type {\n",
       "        vertical-align: middle;\n",
       "    }\n",
       "\n",
       "    .dataframe tbody tr th {\n",
       "        vertical-align: top;\n",
       "    }\n",
       "\n",
       "    .dataframe thead th {\n",
       "        text-align: right;\n",
       "    }\n",
       "</style>\n",
       "<table border=\"1\" class=\"dataframe\">\n",
       "  <thead>\n",
       "    <tr style=\"text-align: right;\">\n",
       "      <th></th>\n",
       "      <th>children</th>\n",
       "      <th>days_employed</th>\n",
       "      <th>age</th>\n",
       "      <th>education</th>\n",
       "      <th>education_id</th>\n",
       "      <th>family_status</th>\n",
       "      <th>family_status_id</th>\n",
       "      <th>gender</th>\n",
       "      <th>income_type</th>\n",
       "      <th>debt</th>\n",
       "      <th>total_income</th>\n",
       "      <th>purpose</th>\n",
       "      <th>days_employed_years</th>\n",
       "    </tr>\n",
       "  </thead>\n",
       "  <tbody>\n",
       "    <tr>\n",
       "      <td>2849</td>\n",
       "      <td>0</td>\n",
       "      <td>NaN</td>\n",
       "      <td>41</td>\n",
       "      <td>secondary education</td>\n",
       "      <td>1</td>\n",
       "      <td>married</td>\n",
       "      <td>0</td>\n",
       "      <td>F</td>\n",
       "      <td>employee</td>\n",
       "      <td>False</td>\n",
       "      <td>0.0</td>\n",
       "      <td>purchase of the house for my family</td>\n",
       "      <td>0</td>\n",
       "    </tr>\n",
       "    <tr>\n",
       "      <td>3290</td>\n",
       "      <td>0</td>\n",
       "      <td>NaN</td>\n",
       "      <td>58</td>\n",
       "      <td>secondary education</td>\n",
       "      <td>1</td>\n",
       "      <td>civil partnership</td>\n",
       "      <td>1</td>\n",
       "      <td>F</td>\n",
       "      <td>retiree</td>\n",
       "      <td>False</td>\n",
       "      <td>0.0</td>\n",
       "      <td>to have a wedding</td>\n",
       "      <td>0</td>\n",
       "    </tr>\n",
       "    <tr>\n",
       "      <td>4182</td>\n",
       "      <td>1</td>\n",
       "      <td>NaN</td>\n",
       "      <td>34</td>\n",
       "      <td>bachelor's degree</td>\n",
       "      <td>0</td>\n",
       "      <td>civil partnership</td>\n",
       "      <td>1</td>\n",
       "      <td>F</td>\n",
       "      <td>employee</td>\n",
       "      <td>False</td>\n",
       "      <td>0.0</td>\n",
       "      <td>wedding ceremony</td>\n",
       "      <td>0</td>\n",
       "    </tr>\n",
       "    <tr>\n",
       "      <td>4851</td>\n",
       "      <td>0</td>\n",
       "      <td>NaN</td>\n",
       "      <td>60</td>\n",
       "      <td>secondary education</td>\n",
       "      <td>1</td>\n",
       "      <td>civil partnership</td>\n",
       "      <td>1</td>\n",
       "      <td>F</td>\n",
       "      <td>retiree</td>\n",
       "      <td>False</td>\n",
       "      <td>0.0</td>\n",
       "      <td>wedding ceremony</td>\n",
       "      <td>0</td>\n",
       "    </tr>\n",
       "    <tr>\n",
       "      <td>5557</td>\n",
       "      <td>0</td>\n",
       "      <td>NaN</td>\n",
       "      <td>58</td>\n",
       "      <td>secondary education</td>\n",
       "      <td>1</td>\n",
       "      <td>civil partnership</td>\n",
       "      <td>1</td>\n",
       "      <td>F</td>\n",
       "      <td>retiree</td>\n",
       "      <td>False</td>\n",
       "      <td>0.0</td>\n",
       "      <td>to have a wedding</td>\n",
       "      <td>0</td>\n",
       "    </tr>\n",
       "    <tr>\n",
       "      <td>...</td>\n",
       "      <td>...</td>\n",
       "      <td>...</td>\n",
       "      <td>...</td>\n",
       "      <td>...</td>\n",
       "      <td>...</td>\n",
       "      <td>...</td>\n",
       "      <td>...</td>\n",
       "      <td>...</td>\n",
       "      <td>...</td>\n",
       "      <td>...</td>\n",
       "      <td>...</td>\n",
       "      <td>...</td>\n",
       "      <td>...</td>\n",
       "    </tr>\n",
       "    <tr>\n",
       "      <td>20702</td>\n",
       "      <td>0</td>\n",
       "      <td>NaN</td>\n",
       "      <td>64</td>\n",
       "      <td>secondary education</td>\n",
       "      <td>1</td>\n",
       "      <td>married</td>\n",
       "      <td>0</td>\n",
       "      <td>F</td>\n",
       "      <td>retiree</td>\n",
       "      <td>False</td>\n",
       "      <td>0.0</td>\n",
       "      <td>supplementary education</td>\n",
       "      <td>0</td>\n",
       "    </tr>\n",
       "    <tr>\n",
       "      <td>21032</td>\n",
       "      <td>0</td>\n",
       "      <td>NaN</td>\n",
       "      <td>60</td>\n",
       "      <td>secondary education</td>\n",
       "      <td>1</td>\n",
       "      <td>married</td>\n",
       "      <td>0</td>\n",
       "      <td>F</td>\n",
       "      <td>retiree</td>\n",
       "      <td>False</td>\n",
       "      <td>0.0</td>\n",
       "      <td>to become educated</td>\n",
       "      <td>0</td>\n",
       "    </tr>\n",
       "    <tr>\n",
       "      <td>21132</td>\n",
       "      <td>0</td>\n",
       "      <td>NaN</td>\n",
       "      <td>47</td>\n",
       "      <td>secondary education</td>\n",
       "      <td>1</td>\n",
       "      <td>married</td>\n",
       "      <td>0</td>\n",
       "      <td>F</td>\n",
       "      <td>employee</td>\n",
       "      <td>False</td>\n",
       "      <td>0.0</td>\n",
       "      <td>housing renovation</td>\n",
       "      <td>0</td>\n",
       "    </tr>\n",
       "    <tr>\n",
       "      <td>21281</td>\n",
       "      <td>1</td>\n",
       "      <td>NaN</td>\n",
       "      <td>30</td>\n",
       "      <td>bachelor's degree</td>\n",
       "      <td>0</td>\n",
       "      <td>married</td>\n",
       "      <td>0</td>\n",
       "      <td>F</td>\n",
       "      <td>employee</td>\n",
       "      <td>False</td>\n",
       "      <td>0.0</td>\n",
       "      <td>buy commercial real estate</td>\n",
       "      <td>0</td>\n",
       "    </tr>\n",
       "    <tr>\n",
       "      <td>21415</td>\n",
       "      <td>0</td>\n",
       "      <td>NaN</td>\n",
       "      <td>54</td>\n",
       "      <td>secondary education</td>\n",
       "      <td>1</td>\n",
       "      <td>married</td>\n",
       "      <td>0</td>\n",
       "      <td>F</td>\n",
       "      <td>retiree</td>\n",
       "      <td>False</td>\n",
       "      <td>0.0</td>\n",
       "      <td>housing transactions</td>\n",
       "      <td>0</td>\n",
       "    </tr>\n",
       "  </tbody>\n",
       "</table>\n",
       "<p>71 rows × 13 columns</p>\n",
       "</div>"
      ],
      "text/plain": [
       "       children  days_employed  age            education  education_id  \\\n",
       "2849          0            NaN   41  secondary education             1   \n",
       "3290          0            NaN   58  secondary education             1   \n",
       "4182          1            NaN   34    bachelor's degree             0   \n",
       "4851          0            NaN   60  secondary education             1   \n",
       "5557          0            NaN   58  secondary education             1   \n",
       "...         ...            ...  ...                  ...           ...   \n",
       "20702         0            NaN   64  secondary education             1   \n",
       "21032         0            NaN   60  secondary education             1   \n",
       "21132         0            NaN   47  secondary education             1   \n",
       "21281         1            NaN   30    bachelor's degree             0   \n",
       "21415         0            NaN   54  secondary education             1   \n",
       "\n",
       "           family_status  family_status_id gender income_type   debt  \\\n",
       "2849             married                 0      F    employee  False   \n",
       "3290   civil partnership                 1      F     retiree  False   \n",
       "4182   civil partnership                 1      F    employee  False   \n",
       "4851   civil partnership                 1      F     retiree  False   \n",
       "5557   civil partnership                 1      F     retiree  False   \n",
       "...                  ...               ...    ...         ...    ...   \n",
       "20702            married                 0      F     retiree  False   \n",
       "21032            married                 0      F     retiree  False   \n",
       "21132            married                 0      F    employee  False   \n",
       "21281            married                 0      F    employee  False   \n",
       "21415            married                 0      F     retiree  False   \n",
       "\n",
       "       total_income                              purpose  days_employed_years  \n",
       "2849            0.0  purchase of the house for my family                    0  \n",
       "3290            0.0                    to have a wedding                    0  \n",
       "4182            0.0                     wedding ceremony                    0  \n",
       "4851            0.0                     wedding ceremony                    0  \n",
       "5557            0.0                    to have a wedding                    0  \n",
       "...             ...                                  ...                  ...  \n",
       "20702           0.0              supplementary education                    0  \n",
       "21032           0.0                   to become educated                    0  \n",
       "21132           0.0                   housing renovation                    0  \n",
       "21281           0.0           buy commercial real estate                    0  \n",
       "21415           0.0                 housing transactions                    0  \n",
       "\n",
       "[71 rows x 13 columns]"
      ]
     },
     "execution_count": 148,
     "metadata": {},
     "output_type": "execute_result"
    }
   ],
   "source": [
    "# View the duplicate rows based on all columns. \n",
    "data[data.duplicated()]"
   ]
  },
  {
   "cell_type": "markdown",
   "metadata": {},
   "source": [
    "[Observation] The duplicates were probably caused either by automatically importing them from another system, or more than one clerk working on the same customers' forms. \n",
    "It is highly unlikely that multiple people made loan requests that are identical \"column for column\". "
   ]
  },
  {
   "cell_type": "markdown",
   "metadata": {},
   "source": [
    "<div class=\"alert alert-success\" style=\"box-shadow: 4px 4px 4px\">\n",
    "<b>Success:</b> Good reasoning 👍\n",
    "</div>"
   ]
  },
  {
   "cell_type": "code",
   "execution_count": 149,
   "metadata": {},
   "outputs": [],
   "source": [
    "# So remove the duplicates and reset the indices. \n",
    "data = data.drop_duplicates().reset_index(drop=True)\n",
    "\n",
    "# Verify it worked. \n",
    "#data.duplicated().sum()"
   ]
  },
  {
   "cell_type": "markdown",
   "metadata": {},
   "source": [
    "[Observation] there are no more duplicates in the dataset. "
   ]
  },
  {
   "cell_type": "code",
   "execution_count": 150,
   "metadata": {},
   "outputs": [
    {
     "name": "stdout",
     "output_type": "stream",
     "text": [
      "<class 'pandas.core.frame.DataFrame'>\n",
      "RangeIndex: 21454 entries, 0 to 21453\n",
      "Data columns (total 13 columns):\n",
      "children               21454 non-null int64\n",
      "days_employed          15906 non-null float64\n",
      "age                    21454 non-null int64\n",
      "education              21454 non-null object\n",
      "education_id           21454 non-null int64\n",
      "family_status          21454 non-null object\n",
      "family_status_id       21454 non-null int64\n",
      "gender                 21454 non-null object\n",
      "income_type            21454 non-null object\n",
      "debt                   21454 non-null bool\n",
      "total_income           21454 non-null float64\n",
      "purpose                21454 non-null object\n",
      "days_employed_years    21454 non-null int64\n",
      "dtypes: bool(1), float64(2), int64(5), object(5)\n",
      "memory usage: 2.0+ MB\n"
     ]
    }
   ],
   "source": [
    "# Check the size of the dataset.\n",
    "data.info()"
   ]
  },
  {
   "cell_type": "markdown",
   "metadata": {},
   "source": [
    "[Observation] After removing the duplicates, there are now 21454 rows in total. "
   ]
  },
  {
   "cell_type": "markdown",
   "metadata": {},
   "source": [
    "<div class=\"alert alert-warning\" style=\"box-shadow: 4px 4px 4px\">\n",
    "<b>Remarks:</b> Answering your question:\n",
    "        <br> * It's ok, you don't have to save duplicates\n",
    "\n",
    "\n",
    "</div>"
   ]
  },
  {
   "cell_type": "markdown",
   "metadata": {},
   "source": [
    "[RESPONSE TO REMARKS] understood. I will not save the data in a new dataset after removing duplicates."
   ]
  },
  {
   "cell_type": "markdown",
   "metadata": {},
   "source": [
    "### Conclusion"
   ]
  },
  {
   "cell_type": "markdown",
   "metadata": {},
   "source": [
    "71 duplicates were found where the entire rows were identical \"column for column\". \n",
    "They were probably caused either by the rows being automatically imported from another system, or by more than one clerk working on the same customers' forms. \n",
    "It is highly unlikely that multiple people made loan requests that are identical \"column for column\", and therefore were deemed safe to remove them. "
   ]
  },
  {
   "cell_type": "markdown",
   "metadata": {},
   "source": [
    "<div class=\"alert alert-success\" style=\"box-shadow: 4px 4px 4px\">\n",
    "<b>Success:</b> Well done! You are one step closer to completion\n",
    "</div>"
   ]
  },
  {
   "cell_type": "markdown",
   "metadata": {},
   "source": []
  },
  {
   "cell_type": "markdown",
   "metadata": {},
   "source": [
    "### Categorizing Data"
   ]
  },
  {
   "cell_type": "code",
   "execution_count": 151,
   "metadata": {},
   "outputs": [
    {
     "data": {
      "text/plain": [
       "False    19713\n",
       "True      1741\n",
       "Name: debt, dtype: int64"
      ]
     },
     "execution_count": 151,
     "metadata": {},
     "output_type": "execute_result"
    }
   ],
   "source": [
    "# To get a general idea, check the ratio of customers who paid off a loan on time to those who did not. \n",
    "data.debt.value_counts()"
   ]
  },
  {
   "cell_type": "markdown",
   "metadata": {},
   "source": [
    "[Observation] out of all 21454 customers, 91.88% (= 19713 / 21454) have managed to repay a loan on time whereas 8.12% did not. "
   ]
  },
  {
   "cell_type": "markdown",
   "metadata": {},
   "source": [
    "Since what and how to categorize depends on the question, I will study each question in turn."
   ]
  },
  {
   "cell_type": "markdown",
   "metadata": {},
   "source": [
    "**[Question] Is there a connection between having kids and repaying a loan on time?**"
   ]
  },
  {
   "cell_type": "markdown",
   "metadata": {},
   "source": [
    "To answer this question, I will create a pivot table with the 'children' as the index and the 'debt' as the column. "
   ]
  },
  {
   "cell_type": "code",
   "execution_count": 152,
   "metadata": {},
   "outputs": [
    {
     "data": {
      "text/plain": [
       "array([1, 0, 3, 2, 4, 5])"
      ]
     },
     "execution_count": 152,
     "metadata": {},
     "output_type": "execute_result"
    }
   ],
   "source": [
    "# Note that there are no more '-1' and '20' entries. \n",
    "data.children.unique()"
   ]
  },
  {
   "cell_type": "code",
   "execution_count": 154,
   "metadata": {},
   "outputs": [],
   "source": [
    "# Categorize 'children' into groups as follows:\n",
    "# o 'children'=0: \"Have no children\"\n",
    "# o 'children'=1: \"Have 1 child\"\n",
    "# o 'children'=2: \"Have 2 children\"\n",
    "# o 'children'=3: \"Have 3 children\"\n",
    "# o 'children'=4: \"Have 4 children\"\n",
    "# o 'children'=5: \"Have 5 children\" \n",
    "def count_children(number):\n",
    "    if number == 0:\n",
    "        return '0'\n",
    "    elif number == 1:\n",
    "        return '1'\n",
    "    elif number == 2:\n",
    "        return '2'\n",
    "    elif number == 3:\n",
    "        return '3'\n",
    "    elif number == 4:\n",
    "        return '4'\n",
    "    else: \n",
    "        return '5' # i.e. num = 5\n",
    "\n",
    "# Verify it works.\n",
    "#print(count_children(0))\n",
    "#print(count_children(1))\n",
    "#print(count_children(2))\n",
    "#print(count_children(3))\n",
    "#print(count_children(4))\n",
    "#print(count_children(5))"
   ]
  },
  {
   "cell_type": "markdown",
   "metadata": {},
   "source": [
    "<div class=\"alert alert-warning\" style=\"box-shadow: 4px 4px 4px\">\n",
    "<b>Remarks:</b> What about 20 kids? If this is an artifact, then it is worth somehow processing it at an earlier stage.\n",
    "\n",
    "\n",
    "</div>"
   ]
  },
  {
   "cell_type": "code",
   "execution_count": 156,
   "metadata": {},
   "outputs": [],
   "source": [
    "# Assign each row to a \"child_group\" category by applying count_children() to the dataset. \n",
    "data['children_group'] = data['children'].apply(count_children)\n",
    "\n",
    "# View the first 10 rows.\n",
    "#data.head(10)"
   ]
  },
  {
   "cell_type": "markdown",
   "metadata": {},
   "source": [
    "<div class=\"alert alert-success\" style=\"box-shadow: 4px 4px 4px\">\n",
    "<b>Success:</b> \n",
    "    Well done for using the apply method\n",
    "</div>"
   ]
  },
  {
   "cell_type": "code",
   "execution_count": 157,
   "metadata": {
    "scrolled": true
   },
   "outputs": [
    {
     "data": {
      "text/html": [
       "<div>\n",
       "<style scoped>\n",
       "    .dataframe tbody tr th:only-of-type {\n",
       "        vertical-align: middle;\n",
       "    }\n",
       "\n",
       "    .dataframe tbody tr th {\n",
       "        vertical-align: top;\n",
       "    }\n",
       "\n",
       "    .dataframe thead th {\n",
       "        text-align: right;\n",
       "    }\n",
       "</style>\n",
       "<table border=\"1\" class=\"dataframe\">\n",
       "  <thead>\n",
       "    <tr style=\"text-align: right;\">\n",
       "      <th>debt</th>\n",
       "      <th>children_group</th>\n",
       "      <th>False</th>\n",
       "      <th>True</th>\n",
       "      <th>All</th>\n",
       "    </tr>\n",
       "  </thead>\n",
       "  <tbody>\n",
       "    <tr>\n",
       "      <td>0</td>\n",
       "      <td>0</td>\n",
       "      <td>13028.0</td>\n",
       "      <td>1063.0</td>\n",
       "      <td>14091</td>\n",
       "    </tr>\n",
       "    <tr>\n",
       "      <td>1</td>\n",
       "      <td>1</td>\n",
       "      <td>4410.0</td>\n",
       "      <td>445.0</td>\n",
       "      <td>4855</td>\n",
       "    </tr>\n",
       "    <tr>\n",
       "      <td>2</td>\n",
       "      <td>2</td>\n",
       "      <td>1926.0</td>\n",
       "      <td>202.0</td>\n",
       "      <td>2128</td>\n",
       "    </tr>\n",
       "    <tr>\n",
       "      <td>3</td>\n",
       "      <td>3</td>\n",
       "      <td>303.0</td>\n",
       "      <td>27.0</td>\n",
       "      <td>330</td>\n",
       "    </tr>\n",
       "    <tr>\n",
       "      <td>4</td>\n",
       "      <td>4</td>\n",
       "      <td>37.0</td>\n",
       "      <td>4.0</td>\n",
       "      <td>41</td>\n",
       "    </tr>\n",
       "    <tr>\n",
       "      <td>5</td>\n",
       "      <td>5</td>\n",
       "      <td>9.0</td>\n",
       "      <td>NaN</td>\n",
       "      <td>9</td>\n",
       "    </tr>\n",
       "    <tr>\n",
       "      <td>6</td>\n",
       "      <td>All</td>\n",
       "      <td>19713.0</td>\n",
       "      <td>1741.0</td>\n",
       "      <td>21454</td>\n",
       "    </tr>\n",
       "  </tbody>\n",
       "</table>\n",
       "</div>"
      ],
      "text/plain": [
       "debt children_group    False    True    All\n",
       "0                 0  13028.0  1063.0  14091\n",
       "1                 1   4410.0   445.0   4855\n",
       "2                 2   1926.0   202.0   2128\n",
       "3                 3    303.0    27.0    330\n",
       "4                 4     37.0     4.0     41\n",
       "5                 5      9.0     NaN      9\n",
       "6               All  19713.0  1741.0  21454"
      ]
     },
     "execution_count": 157,
     "metadata": {},
     "output_type": "execute_result"
    }
   ],
   "source": [
    "# Check the ratio of customers who paid off a loan on time to those who did not, grouped by the number of children they have.\n",
    "debt_vs_children = data.pivot_table(index = 'children_group', columns = 'debt', values='children', aggfunc = 'count', margins = True).reset_index()\n",
    "\n",
    "# View the pivot table. \n",
    "debt_vs_children"
   ]
  },
  {
   "cell_type": "markdown",
   "metadata": {},
   "source": [
    "**[Question] Is there a connection between marital status and repaying a loan on time?**"
   ]
  },
  {
   "cell_type": "markdown",
   "metadata": {},
   "source": [
    "To answer this question, I will create a pivot table with the 'family_status' as the index and the 'debt' as the column."
   ]
  },
  {
   "cell_type": "code",
   "execution_count": 159,
   "metadata": {},
   "outputs": [
    {
     "data": {
      "text/html": [
       "<div>\n",
       "<style scoped>\n",
       "    .dataframe tbody tr th:only-of-type {\n",
       "        vertical-align: middle;\n",
       "    }\n",
       "\n",
       "    .dataframe tbody tr th {\n",
       "        vertical-align: top;\n",
       "    }\n",
       "\n",
       "    .dataframe thead th {\n",
       "        text-align: right;\n",
       "    }\n",
       "</style>\n",
       "<table border=\"1\" class=\"dataframe\">\n",
       "  <thead>\n",
       "    <tr style=\"text-align: right;\">\n",
       "      <th>debt</th>\n",
       "      <th>family_status</th>\n",
       "      <th>False</th>\n",
       "      <th>True</th>\n",
       "      <th>All</th>\n",
       "    </tr>\n",
       "  </thead>\n",
       "  <tbody>\n",
       "    <tr>\n",
       "      <td>0</td>\n",
       "      <td>civil partnership</td>\n",
       "      <td>3763</td>\n",
       "      <td>388</td>\n",
       "      <td>4151</td>\n",
       "    </tr>\n",
       "    <tr>\n",
       "      <td>1</td>\n",
       "      <td>divorced</td>\n",
       "      <td>1110</td>\n",
       "      <td>85</td>\n",
       "      <td>1195</td>\n",
       "    </tr>\n",
       "    <tr>\n",
       "      <td>2</td>\n",
       "      <td>married</td>\n",
       "      <td>11408</td>\n",
       "      <td>931</td>\n",
       "      <td>12339</td>\n",
       "    </tr>\n",
       "    <tr>\n",
       "      <td>3</td>\n",
       "      <td>unmarried</td>\n",
       "      <td>2536</td>\n",
       "      <td>274</td>\n",
       "      <td>2810</td>\n",
       "    </tr>\n",
       "    <tr>\n",
       "      <td>4</td>\n",
       "      <td>widow / widower</td>\n",
       "      <td>896</td>\n",
       "      <td>63</td>\n",
       "      <td>959</td>\n",
       "    </tr>\n",
       "    <tr>\n",
       "      <td>5</td>\n",
       "      <td>All</td>\n",
       "      <td>19713</td>\n",
       "      <td>1741</td>\n",
       "      <td>21454</td>\n",
       "    </tr>\n",
       "  </tbody>\n",
       "</table>\n",
       "</div>"
      ],
      "text/plain": [
       "debt      family_status  False  True    All\n",
       "0     civil partnership   3763   388   4151\n",
       "1              divorced   1110    85   1195\n",
       "2               married  11408   931  12339\n",
       "3             unmarried   2536   274   2810\n",
       "4       widow / widower    896    63    959\n",
       "5                   All  19713  1741  21454"
      ]
     },
     "execution_count": 159,
     "metadata": {},
     "output_type": "execute_result"
    }
   ],
   "source": [
    "# Check the ratio of customers who paid off a loan on time to those who did not, grouped by their family status.\n",
    "debt_vs_family_status = data.pivot_table(index = 'family_status', columns = 'debt', values = 'family_status_id', aggfunc='count', margins = True).reset_index()\n",
    "\n",
    "# View the pivot table. \n",
    "debt_vs_family_status"
   ]
  },
  {
   "cell_type": "code",
   "execution_count": 160,
   "metadata": {},
   "outputs": [
    {
     "data": {
      "text/html": [
       "<div>\n",
       "<style scoped>\n",
       "    .dataframe tbody tr th:only-of-type {\n",
       "        vertical-align: middle;\n",
       "    }\n",
       "\n",
       "    .dataframe tbody tr th {\n",
       "        vertical-align: top;\n",
       "    }\n",
       "\n",
       "    .dataframe thead th {\n",
       "        text-align: right;\n",
       "    }\n",
       "</style>\n",
       "<table border=\"1\" class=\"dataframe\">\n",
       "  <thead>\n",
       "    <tr style=\"text-align: right;\">\n",
       "      <th>debt</th>\n",
       "      <th>family_status</th>\n",
       "      <th>children_group</th>\n",
       "      <th>False</th>\n",
       "      <th>True</th>\n",
       "      <th>All</th>\n",
       "    </tr>\n",
       "  </thead>\n",
       "  <tbody>\n",
       "    <tr>\n",
       "      <td>0</td>\n",
       "      <td>civil partnership</td>\n",
       "      <td>0</td>\n",
       "      <td>2501.0</td>\n",
       "      <td>229.0</td>\n",
       "      <td>2730</td>\n",
       "    </tr>\n",
       "    <tr>\n",
       "      <td>1</td>\n",
       "      <td>civil partnership</td>\n",
       "      <td>1</td>\n",
       "      <td>882.0</td>\n",
       "      <td>118.0</td>\n",
       "      <td>1000</td>\n",
       "    </tr>\n",
       "    <tr>\n",
       "      <td>2</td>\n",
       "      <td>civil partnership</td>\n",
       "      <td>2</td>\n",
       "      <td>322.0</td>\n",
       "      <td>33.0</td>\n",
       "      <td>355</td>\n",
       "    </tr>\n",
       "    <tr>\n",
       "      <td>3</td>\n",
       "      <td>civil partnership</td>\n",
       "      <td>3</td>\n",
       "      <td>48.0</td>\n",
       "      <td>8.0</td>\n",
       "      <td>56</td>\n",
       "    </tr>\n",
       "    <tr>\n",
       "      <td>4</td>\n",
       "      <td>civil partnership</td>\n",
       "      <td>4</td>\n",
       "      <td>8.0</td>\n",
       "      <td>0.0</td>\n",
       "      <td>8</td>\n",
       "    </tr>\n",
       "    <tr>\n",
       "      <td>5</td>\n",
       "      <td>civil partnership</td>\n",
       "      <td>5</td>\n",
       "      <td>2.0</td>\n",
       "      <td>0.0</td>\n",
       "      <td>2</td>\n",
       "    </tr>\n",
       "    <tr>\n",
       "      <td>6</td>\n",
       "      <td>divorced</td>\n",
       "      <td>0</td>\n",
       "      <td>729.0</td>\n",
       "      <td>55.0</td>\n",
       "      <td>784</td>\n",
       "    </tr>\n",
       "    <tr>\n",
       "      <td>7</td>\n",
       "      <td>divorced</td>\n",
       "      <td>1</td>\n",
       "      <td>295.0</td>\n",
       "      <td>21.0</td>\n",
       "      <td>316</td>\n",
       "    </tr>\n",
       "    <tr>\n",
       "      <td>8</td>\n",
       "      <td>divorced</td>\n",
       "      <td>2</td>\n",
       "      <td>75.0</td>\n",
       "      <td>8.0</td>\n",
       "      <td>83</td>\n",
       "    </tr>\n",
       "    <tr>\n",
       "      <td>9</td>\n",
       "      <td>divorced</td>\n",
       "      <td>3</td>\n",
       "      <td>10.0</td>\n",
       "      <td>1.0</td>\n",
       "      <td>11</td>\n",
       "    </tr>\n",
       "    <tr>\n",
       "      <td>10</td>\n",
       "      <td>divorced</td>\n",
       "      <td>4</td>\n",
       "      <td>1.0</td>\n",
       "      <td>0.0</td>\n",
       "      <td>1</td>\n",
       "    </tr>\n",
       "    <tr>\n",
       "      <td>11</td>\n",
       "      <td>married</td>\n",
       "      <td>0</td>\n",
       "      <td>6952.0</td>\n",
       "      <td>516.0</td>\n",
       "      <td>7468</td>\n",
       "    </tr>\n",
       "    <tr>\n",
       "      <td>12</td>\n",
       "      <td>married</td>\n",
       "      <td>1</td>\n",
       "      <td>2757.0</td>\n",
       "      <td>247.0</td>\n",
       "      <td>3004</td>\n",
       "    </tr>\n",
       "    <tr>\n",
       "      <td>13</td>\n",
       "      <td>married</td>\n",
       "      <td>2</td>\n",
       "      <td>1434.0</td>\n",
       "      <td>148.0</td>\n",
       "      <td>1582</td>\n",
       "    </tr>\n",
       "    <tr>\n",
       "      <td>14</td>\n",
       "      <td>married</td>\n",
       "      <td>3</td>\n",
       "      <td>232.0</td>\n",
       "      <td>17.0</td>\n",
       "      <td>249</td>\n",
       "    </tr>\n",
       "    <tr>\n",
       "      <td>15</td>\n",
       "      <td>married</td>\n",
       "      <td>4</td>\n",
       "      <td>26.0</td>\n",
       "      <td>3.0</td>\n",
       "      <td>29</td>\n",
       "    </tr>\n",
       "    <tr>\n",
       "      <td>16</td>\n",
       "      <td>married</td>\n",
       "      <td>5</td>\n",
       "      <td>7.0</td>\n",
       "      <td>0.0</td>\n",
       "      <td>7</td>\n",
       "    </tr>\n",
       "    <tr>\n",
       "      <td>17</td>\n",
       "      <td>unmarried</td>\n",
       "      <td>0</td>\n",
       "      <td>2052.0</td>\n",
       "      <td>210.0</td>\n",
       "      <td>2262</td>\n",
       "    </tr>\n",
       "    <tr>\n",
       "      <td>18</td>\n",
       "      <td>unmarried</td>\n",
       "      <td>1</td>\n",
       "      <td>402.0</td>\n",
       "      <td>52.0</td>\n",
       "      <td>454</td>\n",
       "    </tr>\n",
       "    <tr>\n",
       "      <td>19</td>\n",
       "      <td>unmarried</td>\n",
       "      <td>2</td>\n",
       "      <td>74.0</td>\n",
       "      <td>10.0</td>\n",
       "      <td>84</td>\n",
       "    </tr>\n",
       "    <tr>\n",
       "      <td>20</td>\n",
       "      <td>unmarried</td>\n",
       "      <td>3</td>\n",
       "      <td>7.0</td>\n",
       "      <td>1.0</td>\n",
       "      <td>8</td>\n",
       "    </tr>\n",
       "    <tr>\n",
       "      <td>21</td>\n",
       "      <td>unmarried</td>\n",
       "      <td>4</td>\n",
       "      <td>1.0</td>\n",
       "      <td>1.0</td>\n",
       "      <td>2</td>\n",
       "    </tr>\n",
       "    <tr>\n",
       "      <td>22</td>\n",
       "      <td>widow / widower</td>\n",
       "      <td>0</td>\n",
       "      <td>794.0</td>\n",
       "      <td>53.0</td>\n",
       "      <td>847</td>\n",
       "    </tr>\n",
       "    <tr>\n",
       "      <td>23</td>\n",
       "      <td>widow / widower</td>\n",
       "      <td>1</td>\n",
       "      <td>74.0</td>\n",
       "      <td>7.0</td>\n",
       "      <td>81</td>\n",
       "    </tr>\n",
       "    <tr>\n",
       "      <td>24</td>\n",
       "      <td>widow / widower</td>\n",
       "      <td>2</td>\n",
       "      <td>21.0</td>\n",
       "      <td>3.0</td>\n",
       "      <td>24</td>\n",
       "    </tr>\n",
       "    <tr>\n",
       "      <td>25</td>\n",
       "      <td>widow / widower</td>\n",
       "      <td>3</td>\n",
       "      <td>6.0</td>\n",
       "      <td>0.0</td>\n",
       "      <td>6</td>\n",
       "    </tr>\n",
       "    <tr>\n",
       "      <td>26</td>\n",
       "      <td>widow / widower</td>\n",
       "      <td>4</td>\n",
       "      <td>1.0</td>\n",
       "      <td>0.0</td>\n",
       "      <td>1</td>\n",
       "    </tr>\n",
       "    <tr>\n",
       "      <td>27</td>\n",
       "      <td>All</td>\n",
       "      <td></td>\n",
       "      <td>19713.0</td>\n",
       "      <td>1741.0</td>\n",
       "      <td>21454</td>\n",
       "    </tr>\n",
       "  </tbody>\n",
       "</table>\n",
       "</div>"
      ],
      "text/plain": [
       "debt      family_status children_group    False    True    All\n",
       "0     civil partnership              0   2501.0   229.0   2730\n",
       "1     civil partnership              1    882.0   118.0   1000\n",
       "2     civil partnership              2    322.0    33.0    355\n",
       "3     civil partnership              3     48.0     8.0     56\n",
       "4     civil partnership              4      8.0     0.0      8\n",
       "5     civil partnership              5      2.0     0.0      2\n",
       "6              divorced              0    729.0    55.0    784\n",
       "7              divorced              1    295.0    21.0    316\n",
       "8              divorced              2     75.0     8.0     83\n",
       "9              divorced              3     10.0     1.0     11\n",
       "10             divorced              4      1.0     0.0      1\n",
       "11              married              0   6952.0   516.0   7468\n",
       "12              married              1   2757.0   247.0   3004\n",
       "13              married              2   1434.0   148.0   1582\n",
       "14              married              3    232.0    17.0    249\n",
       "15              married              4     26.0     3.0     29\n",
       "16              married              5      7.0     0.0      7\n",
       "17            unmarried              0   2052.0   210.0   2262\n",
       "18            unmarried              1    402.0    52.0    454\n",
       "19            unmarried              2     74.0    10.0     84\n",
       "20            unmarried              3      7.0     1.0      8\n",
       "21            unmarried              4      1.0     1.0      2\n",
       "22      widow / widower              0    794.0    53.0    847\n",
       "23      widow / widower              1     74.0     7.0     81\n",
       "24      widow / widower              2     21.0     3.0     24\n",
       "25      widow / widower              3      6.0     0.0      6\n",
       "26      widow / widower              4      1.0     0.0      1\n",
       "27                  All                 19713.0  1741.0  21454"
      ]
     },
     "execution_count": 160,
     "metadata": {},
     "output_type": "execute_result"
    }
   ],
   "source": [
    "# The family status together with the number of children may affect the ability to repay a loan. \n",
    "debt_vs_children_and_family_status = data.pivot_table(index = ['family_status', 'children_group'], columns = 'debt', values='family_status_id', aggfunc = 'count', margins = True).reset_index()\n",
    "\n",
    "# View the pivot table. \n",
    "debt_vs_children_and_family_status.fillna(0)"
   ]
  },
  {
   "cell_type": "markdown",
   "metadata": {},
   "source": [
    "**[Question] Is there a connection between income level and repaying a loan on time?**"
   ]
  },
  {
   "cell_type": "markdown",
   "metadata": {},
   "source": [
    "To answer this question, I will create a pivot table with the 'income_level' as the index and the 'debt' as the column."
   ]
  },
  {
   "cell_type": "markdown",
   "metadata": {},
   "source": [
    "First, categorize 'total_income' values into \"income levels\" to remove redundant details. \n",
    "<br> Take into account: min = 3306.762000; max = 362496.645000; interval = 10K; include the 'Data not provided' category\n",
    "<br>Display '1000' as 'K' to present the data in a concise manner. "
   ]
  },
  {
   "cell_type": "code",
   "execution_count": 162,
   "metadata": {
    "scrolled": true
   },
   "outputs": [],
   "source": [
    "def assign_income_level(amount):\n",
    "    if amount == 0:\n",
    "        return 'Data not provided'\n",
    "    elif amount < 5000:\n",
    "        return '< 5K'\n",
    "    elif amount < 15000:\n",
    "        return '5K - 15K'\n",
    "    elif amount < 25000:\n",
    "        return '15K - 25K'\n",
    "    elif amount < 35000:\n",
    "        return '25K - 35K'\n",
    "    elif amount < 45000:\n",
    "        return '35K - 45K'\n",
    "    elif amount < 55000:\n",
    "        return '45K - 55K'\n",
    "    elif amount < 65000:\n",
    "        return '55K - 65K'\n",
    "    elif amount < 75000:\n",
    "        return '55K - 75K'\n",
    "    elif amount < 85000:\n",
    "        return '75K - 85K'\n",
    "    elif amount < 95000:\n",
    "        return '85K - 95K'\n",
    "    elif amount < 105000:\n",
    "        return '95K - 105K'\n",
    "    elif amount < 115000:\n",
    "        return '105K - 115K'\n",
    "    elif amount < 125000:\n",
    "        return '115K - 125K'\n",
    "    elif amount < 135000:\n",
    "        return '125K - 135K'\n",
    "    elif amount < 145000:\n",
    "        return '135K - 145K'\n",
    "    elif amount < 155000:\n",
    "        return '145K - 155K'\n",
    "    elif amount < 165000:\n",
    "        return '155K - 165K'\n",
    "    elif amount < 175000:\n",
    "        return '164K - 175K'\n",
    "    elif amount < 185000:\n",
    "        return '174K - 185K'    \n",
    "    elif amount < 195000:\n",
    "        return '184K - 195K'    \n",
    "    elif amount < 205000:\n",
    "        return '194K - 205K'    \n",
    "    elif amount < 215000:\n",
    "        return '204K - 215K'    \n",
    "    elif amount < 225000:\n",
    "        return '214K - 225K'    \n",
    "    elif amount < 235000:\n",
    "        return '224K - 235K'    \n",
    "    elif amount < 245000:\n",
    "        return '234K - 245K' \n",
    "    elif amount < 255000:\n",
    "        return '244K - 255K'    \n",
    "    elif amount < 265000:\n",
    "        return '254K - 265K'        \n",
    "    elif amount < 275000:\n",
    "        return '264K - 275K'        \n",
    "    elif amount < 285000:\n",
    "        return '274K - 285K'   \n",
    "    elif amount < 295000:\n",
    "        return '284K - 295K'       \n",
    "    elif amount < 305000:\n",
    "        return '294K - 305K'       \n",
    "    elif amount < 315000:\n",
    "        return '304K - 315K'  \n",
    "    elif amount < 325000:\n",
    "        return '314K - 325K'  \n",
    "    elif amount < 335000:\n",
    "        return '324K - 335K'  \n",
    "    elif amount < 345000:\n",
    "        return '334K - 345K'  \n",
    "    elif amount < 355000:\n",
    "        return '344K - 355K'      \n",
    "    elif amount < 365000:\n",
    "        return '354K - 365K'  \n",
    "    elif amount < 375000:\n",
    "        return '364K - 375K'      \n",
    "    else:\n",
    "        return 'Data not provided' # i.e. amount == 0\n",
    "\n",
    "# Check the function works.\n",
    "#print(assign_income_level(0))\n",
    "#print(assign_income_level(3471.216))\n",
    "#print(assign_income_level(8635.452))\n",
    "#print(assign_income_level(12331.077))\n",
    "#print(assign_income_level(21952.103))\n",
    "#print(assign_income_level(32489.952))\n",
    "#print(assign_income_level(43345.667))\n",
    "#print(assign_income_level(54294.355))\n",
    "#print(assign_income_level(60972.258))\n",
    "#print(assign_income_level(73249.354))\n",
    "#print(assign_income_level(84050.762))\n",
    "#print(assign_income_level(99944.952))\n",
    "#print(assign_income_level(100422.296))\n",
    "#print(assign_income_level(112084.059))\n",
    "#print(assign_income_level(121411.489))\n",
    "#print(assign_income_level(130009.491))\n",
    "#print(assign_income_level(147343.635))\n",
    "#print(assign_income_level(153349.533))\n",
    "#print(assign_income_level(160716.231))\n",
    "#print(assign_income_level(174259.249))\n",
    "#print(assign_income_level(180613.801))\n",
    "#print(assign_income_level(195686.797))\n",
    "#print(assign_income_level(205804.96))\n",
    "#print(assign_income_level(216039.297))\n",
    "#print(assign_income_level(228469.514))\n",
    "#print(assign_income_level(234579.617))\n",
    "#print(assign_income_level(248184.463))\n",
    "#print(assign_income_level(255618.158))\n",
    "#print(assign_income_level(264402.943))\n",
    "#print(assign_income_level(273809.483))\n",
    "#print(assign_income_level(286204.162))\n",
    "#print(assign_income_level(295804.96))\n",
    "#print(assign_income_level(312136.354))\n",
    "#print(assign_income_level(322136.354))\n",
    "#print(assign_income_level(332136.354))\n",
    "#print(assign_income_level(342136.354))\n",
    "#print(assign_income_level(352136.354))\n",
    "#print(assign_income_level(362496.645))"
   ]
  },
  {
   "cell_type": "markdown",
   "metadata": {},
   "source": [
    "<div class=\"alert alert-warning\" style=\"box-shadow: 4px 4px 4px\">\n",
    "<b>Remarks:</b> Some kind of bulky cell, don't you think? I would shorten the conclusion: it is superfluous\n",
    "\n",
    "</div>"
   ]
  },
  {
   "cell_type": "code",
   "execution_count": 163,
   "metadata": {},
   "outputs": [
    {
     "data": {
      "text/html": [
       "<div>\n",
       "<style scoped>\n",
       "    .dataframe tbody tr th:only-of-type {\n",
       "        vertical-align: middle;\n",
       "    }\n",
       "\n",
       "    .dataframe tbody tr th {\n",
       "        vertical-align: top;\n",
       "    }\n",
       "\n",
       "    .dataframe thead th {\n",
       "        text-align: right;\n",
       "    }\n",
       "</style>\n",
       "<table border=\"1\" class=\"dataframe\">\n",
       "  <thead>\n",
       "    <tr style=\"text-align: right;\">\n",
       "      <th></th>\n",
       "      <th>children</th>\n",
       "      <th>days_employed</th>\n",
       "      <th>age</th>\n",
       "      <th>education</th>\n",
       "      <th>education_id</th>\n",
       "      <th>family_status</th>\n",
       "      <th>family_status_id</th>\n",
       "      <th>gender</th>\n",
       "      <th>income_type</th>\n",
       "      <th>debt</th>\n",
       "      <th>total_income</th>\n",
       "      <th>purpose</th>\n",
       "      <th>days_employed_years</th>\n",
       "      <th>children_group</th>\n",
       "      <th>income_level</th>\n",
       "    </tr>\n",
       "  </thead>\n",
       "  <tbody>\n",
       "    <tr>\n",
       "      <td>0</td>\n",
       "      <td>1</td>\n",
       "      <td>-8437.673028</td>\n",
       "      <td>42</td>\n",
       "      <td>bachelor's degree</td>\n",
       "      <td>0</td>\n",
       "      <td>married</td>\n",
       "      <td>0</td>\n",
       "      <td>F</td>\n",
       "      <td>employee</td>\n",
       "      <td>False</td>\n",
       "      <td>40620.102</td>\n",
       "      <td>purchase of the house</td>\n",
       "      <td>23</td>\n",
       "      <td>1</td>\n",
       "      <td>35K - 45K</td>\n",
       "    </tr>\n",
       "    <tr>\n",
       "      <td>1</td>\n",
       "      <td>1</td>\n",
       "      <td>-4024.803754</td>\n",
       "      <td>36</td>\n",
       "      <td>secondary education</td>\n",
       "      <td>1</td>\n",
       "      <td>married</td>\n",
       "      <td>0</td>\n",
       "      <td>F</td>\n",
       "      <td>employee</td>\n",
       "      <td>False</td>\n",
       "      <td>17932.802</td>\n",
       "      <td>car purchase</td>\n",
       "      <td>11</td>\n",
       "      <td>1</td>\n",
       "      <td>15K - 25K</td>\n",
       "    </tr>\n",
       "    <tr>\n",
       "      <td>2</td>\n",
       "      <td>0</td>\n",
       "      <td>-5623.422610</td>\n",
       "      <td>33</td>\n",
       "      <td>secondary education</td>\n",
       "      <td>1</td>\n",
       "      <td>married</td>\n",
       "      <td>0</td>\n",
       "      <td>M</td>\n",
       "      <td>employee</td>\n",
       "      <td>False</td>\n",
       "      <td>23341.752</td>\n",
       "      <td>purchase of the house</td>\n",
       "      <td>15</td>\n",
       "      <td>0</td>\n",
       "      <td>15K - 25K</td>\n",
       "    </tr>\n",
       "    <tr>\n",
       "      <td>3</td>\n",
       "      <td>3</td>\n",
       "      <td>-4124.747207</td>\n",
       "      <td>32</td>\n",
       "      <td>secondary education</td>\n",
       "      <td>1</td>\n",
       "      <td>married</td>\n",
       "      <td>0</td>\n",
       "      <td>M</td>\n",
       "      <td>employee</td>\n",
       "      <td>False</td>\n",
       "      <td>42820.568</td>\n",
       "      <td>supplementary education</td>\n",
       "      <td>11</td>\n",
       "      <td>3</td>\n",
       "      <td>35K - 45K</td>\n",
       "    </tr>\n",
       "    <tr>\n",
       "      <td>4</td>\n",
       "      <td>0</td>\n",
       "      <td>NaN</td>\n",
       "      <td>53</td>\n",
       "      <td>secondary education</td>\n",
       "      <td>1</td>\n",
       "      <td>civil partnership</td>\n",
       "      <td>1</td>\n",
       "      <td>F</td>\n",
       "      <td>retiree</td>\n",
       "      <td>False</td>\n",
       "      <td>25378.572</td>\n",
       "      <td>to have a wedding</td>\n",
       "      <td>0</td>\n",
       "      <td>0</td>\n",
       "      <td>25K - 35K</td>\n",
       "    </tr>\n",
       "    <tr>\n",
       "      <td>5</td>\n",
       "      <td>0</td>\n",
       "      <td>-926.185831</td>\n",
       "      <td>27</td>\n",
       "      <td>bachelor's degree</td>\n",
       "      <td>0</td>\n",
       "      <td>civil partnership</td>\n",
       "      <td>1</td>\n",
       "      <td>M</td>\n",
       "      <td>business</td>\n",
       "      <td>False</td>\n",
       "      <td>40922.170</td>\n",
       "      <td>purchase of the house</td>\n",
       "      <td>2</td>\n",
       "      <td>0</td>\n",
       "      <td>35K - 45K</td>\n",
       "    </tr>\n",
       "    <tr>\n",
       "      <td>6</td>\n",
       "      <td>0</td>\n",
       "      <td>-2879.202052</td>\n",
       "      <td>43</td>\n",
       "      <td>bachelor's degree</td>\n",
       "      <td>0</td>\n",
       "      <td>married</td>\n",
       "      <td>0</td>\n",
       "      <td>F</td>\n",
       "      <td>business</td>\n",
       "      <td>False</td>\n",
       "      <td>38484.156</td>\n",
       "      <td>housing transactions</td>\n",
       "      <td>7</td>\n",
       "      <td>0</td>\n",
       "      <td>35K - 45K</td>\n",
       "    </tr>\n",
       "    <tr>\n",
       "      <td>7</td>\n",
       "      <td>0</td>\n",
       "      <td>-152.779569</td>\n",
       "      <td>50</td>\n",
       "      <td>secondary education</td>\n",
       "      <td>1</td>\n",
       "      <td>married</td>\n",
       "      <td>0</td>\n",
       "      <td>M</td>\n",
       "      <td>employee</td>\n",
       "      <td>False</td>\n",
       "      <td>21731.829</td>\n",
       "      <td>education</td>\n",
       "      <td>0</td>\n",
       "      <td>0</td>\n",
       "      <td>15K - 25K</td>\n",
       "    </tr>\n",
       "    <tr>\n",
       "      <td>8</td>\n",
       "      <td>2</td>\n",
       "      <td>-6929.865299</td>\n",
       "      <td>35</td>\n",
       "      <td>bachelor's degree</td>\n",
       "      <td>0</td>\n",
       "      <td>civil partnership</td>\n",
       "      <td>1</td>\n",
       "      <td>F</td>\n",
       "      <td>employee</td>\n",
       "      <td>False</td>\n",
       "      <td>15337.093</td>\n",
       "      <td>having a wedding</td>\n",
       "      <td>18</td>\n",
       "      <td>2</td>\n",
       "      <td>15K - 25K</td>\n",
       "    </tr>\n",
       "    <tr>\n",
       "      <td>9</td>\n",
       "      <td>0</td>\n",
       "      <td>-2188.756445</td>\n",
       "      <td>41</td>\n",
       "      <td>secondary education</td>\n",
       "      <td>1</td>\n",
       "      <td>married</td>\n",
       "      <td>0</td>\n",
       "      <td>M</td>\n",
       "      <td>employee</td>\n",
       "      <td>False</td>\n",
       "      <td>23108.150</td>\n",
       "      <td>purchase of the house for my family</td>\n",
       "      <td>5</td>\n",
       "      <td>0</td>\n",
       "      <td>15K - 25K</td>\n",
       "    </tr>\n",
       "  </tbody>\n",
       "</table>\n",
       "</div>"
      ],
      "text/plain": [
       "   children  days_employed  age            education  education_id  \\\n",
       "0         1   -8437.673028   42    bachelor's degree             0   \n",
       "1         1   -4024.803754   36  secondary education             1   \n",
       "2         0   -5623.422610   33  secondary education             1   \n",
       "3         3   -4124.747207   32  secondary education             1   \n",
       "4         0            NaN   53  secondary education             1   \n",
       "5         0    -926.185831   27    bachelor's degree             0   \n",
       "6         0   -2879.202052   43    bachelor's degree             0   \n",
       "7         0    -152.779569   50  secondary education             1   \n",
       "8         2   -6929.865299   35    bachelor's degree             0   \n",
       "9         0   -2188.756445   41  secondary education             1   \n",
       "\n",
       "       family_status  family_status_id gender income_type   debt  \\\n",
       "0            married                 0      F    employee  False   \n",
       "1            married                 0      F    employee  False   \n",
       "2            married                 0      M    employee  False   \n",
       "3            married                 0      M    employee  False   \n",
       "4  civil partnership                 1      F     retiree  False   \n",
       "5  civil partnership                 1      M    business  False   \n",
       "6            married                 0      F    business  False   \n",
       "7            married                 0      M    employee  False   \n",
       "8  civil partnership                 1      F    employee  False   \n",
       "9            married                 0      M    employee  False   \n",
       "\n",
       "   total_income                              purpose  days_employed_years  \\\n",
       "0     40620.102                purchase of the house                   23   \n",
       "1     17932.802                         car purchase                   11   \n",
       "2     23341.752                purchase of the house                   15   \n",
       "3     42820.568              supplementary education                   11   \n",
       "4     25378.572                    to have a wedding                    0   \n",
       "5     40922.170                purchase of the house                    2   \n",
       "6     38484.156                 housing transactions                    7   \n",
       "7     21731.829                            education                    0   \n",
       "8     15337.093                     having a wedding                   18   \n",
       "9     23108.150  purchase of the house for my family                    5   \n",
       "\n",
       "  children_group income_level  \n",
       "0              1    35K - 45K  \n",
       "1              1    15K - 25K  \n",
       "2              0    15K - 25K  \n",
       "3              3    35K - 45K  \n",
       "4              0    25K - 35K  \n",
       "5              0    35K - 45K  \n",
       "6              0    35K - 45K  \n",
       "7              0    15K - 25K  \n",
       "8              2    15K - 25K  \n",
       "9              0    15K - 25K  "
      ]
     },
     "execution_count": 163,
     "metadata": {},
     "output_type": "execute_result"
    }
   ],
   "source": [
    "# Assign each row to an \"income_level\" category by applying assign_income_level() to the dataset. \n",
    "data['income_level'] = data['total_income'].apply(assign_income_level)\n",
    "\n",
    "# View the first 10 rows.\n",
    "data.head(10)"
   ]
  },
  {
   "cell_type": "code",
   "execution_count": 164,
   "metadata": {},
   "outputs": [
    {
     "data": {
      "text/html": [
       "<div>\n",
       "<style scoped>\n",
       "    .dataframe tbody tr th:only-of-type {\n",
       "        vertical-align: middle;\n",
       "    }\n",
       "\n",
       "    .dataframe tbody tr th {\n",
       "        vertical-align: top;\n",
       "    }\n",
       "\n",
       "    .dataframe thead th {\n",
       "        text-align: right;\n",
       "    }\n",
       "</style>\n",
       "<table border=\"1\" class=\"dataframe\">\n",
       "  <thead>\n",
       "    <tr style=\"text-align: right;\">\n",
       "      <th>debt</th>\n",
       "      <th>income_level</th>\n",
       "      <th>False</th>\n",
       "      <th>True</th>\n",
       "      <th>All</th>\n",
       "    </tr>\n",
       "  </thead>\n",
       "  <tbody>\n",
       "    <tr>\n",
       "      <td>0</td>\n",
       "      <td>105K - 115K</td>\n",
       "      <td>29.0</td>\n",
       "      <td>1.0</td>\n",
       "      <td>30</td>\n",
       "    </tr>\n",
       "    <tr>\n",
       "      <td>1</td>\n",
       "      <td>115K - 125K</td>\n",
       "      <td>9.0</td>\n",
       "      <td>NaN</td>\n",
       "      <td>9</td>\n",
       "    </tr>\n",
       "    <tr>\n",
       "      <td>2</td>\n",
       "      <td>125K - 135K</td>\n",
       "      <td>6.0</td>\n",
       "      <td>1.0</td>\n",
       "      <td>7</td>\n",
       "    </tr>\n",
       "    <tr>\n",
       "      <td>3</td>\n",
       "      <td>135K - 145K</td>\n",
       "      <td>6.0</td>\n",
       "      <td>1.0</td>\n",
       "      <td>7</td>\n",
       "    </tr>\n",
       "    <tr>\n",
       "      <td>4</td>\n",
       "      <td>145K - 155K</td>\n",
       "      <td>4.0</td>\n",
       "      <td>NaN</td>\n",
       "      <td>4</td>\n",
       "    </tr>\n",
       "    <tr>\n",
       "      <td>5</td>\n",
       "      <td>155K - 165K</td>\n",
       "      <td>4.0</td>\n",
       "      <td>1.0</td>\n",
       "      <td>5</td>\n",
       "    </tr>\n",
       "    <tr>\n",
       "      <td>6</td>\n",
       "      <td>15K - 25K</td>\n",
       "      <td>6407.0</td>\n",
       "      <td>598.0</td>\n",
       "      <td>7005</td>\n",
       "    </tr>\n",
       "    <tr>\n",
       "      <td>7</td>\n",
       "      <td>164K - 175K</td>\n",
       "      <td>4.0</td>\n",
       "      <td>NaN</td>\n",
       "      <td>4</td>\n",
       "    </tr>\n",
       "    <tr>\n",
       "      <td>8</td>\n",
       "      <td>174K - 185K</td>\n",
       "      <td>3.0</td>\n",
       "      <td>NaN</td>\n",
       "      <td>3</td>\n",
       "    </tr>\n",
       "    <tr>\n",
       "      <td>9</td>\n",
       "      <td>184K - 195K</td>\n",
       "      <td>1.0</td>\n",
       "      <td>NaN</td>\n",
       "      <td>1</td>\n",
       "    </tr>\n",
       "    <tr>\n",
       "      <td>10</td>\n",
       "      <td>194K - 205K</td>\n",
       "      <td>3.0</td>\n",
       "      <td>NaN</td>\n",
       "      <td>3</td>\n",
       "    </tr>\n",
       "    <tr>\n",
       "      <td>11</td>\n",
       "      <td>204K - 215K</td>\n",
       "      <td>1.0</td>\n",
       "      <td>NaN</td>\n",
       "      <td>1</td>\n",
       "    </tr>\n",
       "    <tr>\n",
       "      <td>12</td>\n",
       "      <td>214K - 225K</td>\n",
       "      <td>1.0</td>\n",
       "      <td>NaN</td>\n",
       "      <td>1</td>\n",
       "    </tr>\n",
       "    <tr>\n",
       "      <td>13</td>\n",
       "      <td>224K - 235K</td>\n",
       "      <td>1.0</td>\n",
       "      <td>NaN</td>\n",
       "      <td>1</td>\n",
       "    </tr>\n",
       "    <tr>\n",
       "      <td>14</td>\n",
       "      <td>244K - 255K</td>\n",
       "      <td>1.0</td>\n",
       "      <td>NaN</td>\n",
       "      <td>1</td>\n",
       "    </tr>\n",
       "    <tr>\n",
       "      <td>15</td>\n",
       "      <td>254K - 265K</td>\n",
       "      <td>1.0</td>\n",
       "      <td>NaN</td>\n",
       "      <td>1</td>\n",
       "    </tr>\n",
       "    <tr>\n",
       "      <td>16</td>\n",
       "      <td>25K - 35K</td>\n",
       "      <td>4150.0</td>\n",
       "      <td>385.0</td>\n",
       "      <td>4535</td>\n",
       "    </tr>\n",
       "    <tr>\n",
       "      <td>17</td>\n",
       "      <td>264K - 275K</td>\n",
       "      <td>2.0</td>\n",
       "      <td>NaN</td>\n",
       "      <td>2</td>\n",
       "    </tr>\n",
       "    <tr>\n",
       "      <td>18</td>\n",
       "      <td>274K - 285K</td>\n",
       "      <td>1.0</td>\n",
       "      <td>NaN</td>\n",
       "      <td>1</td>\n",
       "    </tr>\n",
       "    <tr>\n",
       "      <td>19</td>\n",
       "      <td>344K - 355K</td>\n",
       "      <td>NaN</td>\n",
       "      <td>1.0</td>\n",
       "      <td>1</td>\n",
       "    </tr>\n",
       "    <tr>\n",
       "      <td>20</td>\n",
       "      <td>354K - 365K</td>\n",
       "      <td>1.0</td>\n",
       "      <td>NaN</td>\n",
       "      <td>1</td>\n",
       "    </tr>\n",
       "    <tr>\n",
       "      <td>21</td>\n",
       "      <td>35K - 45K</td>\n",
       "      <td>2051.0</td>\n",
       "      <td>158.0</td>\n",
       "      <td>2209</td>\n",
       "    </tr>\n",
       "    <tr>\n",
       "      <td>22</td>\n",
       "      <td>45K - 55K</td>\n",
       "      <td>854.0</td>\n",
       "      <td>70.0</td>\n",
       "      <td>924</td>\n",
       "    </tr>\n",
       "    <tr>\n",
       "      <td>23</td>\n",
       "      <td>55K - 65K</td>\n",
       "      <td>408.0</td>\n",
       "      <td>33.0</td>\n",
       "      <td>441</td>\n",
       "    </tr>\n",
       "    <tr>\n",
       "      <td>24</td>\n",
       "      <td>55K - 75K</td>\n",
       "      <td>193.0</td>\n",
       "      <td>13.0</td>\n",
       "      <td>206</td>\n",
       "    </tr>\n",
       "    <tr>\n",
       "      <td>25</td>\n",
       "      <td>5K - 15K</td>\n",
       "      <td>3421.0</td>\n",
       "      <td>296.0</td>\n",
       "      <td>3717</td>\n",
       "    </tr>\n",
       "    <tr>\n",
       "      <td>26</td>\n",
       "      <td>75K - 85K</td>\n",
       "      <td>110.0</td>\n",
       "      <td>6.0</td>\n",
       "      <td>116</td>\n",
       "    </tr>\n",
       "    <tr>\n",
       "      <td>27</td>\n",
       "      <td>85K - 95K</td>\n",
       "      <td>56.0</td>\n",
       "      <td>2.0</td>\n",
       "      <td>58</td>\n",
       "    </tr>\n",
       "    <tr>\n",
       "      <td>28</td>\n",
       "      <td>95K - 105K</td>\n",
       "      <td>28.0</td>\n",
       "      <td>3.0</td>\n",
       "      <td>31</td>\n",
       "    </tr>\n",
       "    <tr>\n",
       "      <td>29</td>\n",
       "      <td>&lt; 5K</td>\n",
       "      <td>24.0</td>\n",
       "      <td>2.0</td>\n",
       "      <td>26</td>\n",
       "    </tr>\n",
       "    <tr>\n",
       "      <td>30</td>\n",
       "      <td>Data not provided</td>\n",
       "      <td>1933.0</td>\n",
       "      <td>170.0</td>\n",
       "      <td>2103</td>\n",
       "    </tr>\n",
       "    <tr>\n",
       "      <td>31</td>\n",
       "      <td>All</td>\n",
       "      <td>19713.0</td>\n",
       "      <td>1741.0</td>\n",
       "      <td>21454</td>\n",
       "    </tr>\n",
       "  </tbody>\n",
       "</table>\n",
       "</div>"
      ],
      "text/plain": [
       "debt       income_level    False    True    All\n",
       "0           105K - 115K     29.0     1.0     30\n",
       "1           115K - 125K      9.0     NaN      9\n",
       "2           125K - 135K      6.0     1.0      7\n",
       "3           135K - 145K      6.0     1.0      7\n",
       "4           145K - 155K      4.0     NaN      4\n",
       "5           155K - 165K      4.0     1.0      5\n",
       "6             15K - 25K   6407.0   598.0   7005\n",
       "7           164K - 175K      4.0     NaN      4\n",
       "8           174K - 185K      3.0     NaN      3\n",
       "9           184K - 195K      1.0     NaN      1\n",
       "10          194K - 205K      3.0     NaN      3\n",
       "11          204K - 215K      1.0     NaN      1\n",
       "12          214K - 225K      1.0     NaN      1\n",
       "13          224K - 235K      1.0     NaN      1\n",
       "14          244K - 255K      1.0     NaN      1\n",
       "15          254K - 265K      1.0     NaN      1\n",
       "16            25K - 35K   4150.0   385.0   4535\n",
       "17          264K - 275K      2.0     NaN      2\n",
       "18          274K - 285K      1.0     NaN      1\n",
       "19          344K - 355K      NaN     1.0      1\n",
       "20          354K - 365K      1.0     NaN      1\n",
       "21            35K - 45K   2051.0   158.0   2209\n",
       "22            45K - 55K    854.0    70.0    924\n",
       "23            55K - 65K    408.0    33.0    441\n",
       "24            55K - 75K    193.0    13.0    206\n",
       "25             5K - 15K   3421.0   296.0   3717\n",
       "26            75K - 85K    110.0     6.0    116\n",
       "27            85K - 95K     56.0     2.0     58\n",
       "28           95K - 105K     28.0     3.0     31\n",
       "29                 < 5K     24.0     2.0     26\n",
       "30    Data not provided   1933.0   170.0   2103\n",
       "31                  All  19713.0  1741.0  21454"
      ]
     },
     "execution_count": 164,
     "metadata": {},
     "output_type": "execute_result"
    }
   ],
   "source": [
    "# Check the ratio of customers who paid off a loan on time to those who did not, grouped by their income level.\n",
    "debt_vs_income_level = data.pivot_table(index = 'income_level', columns = 'debt', values='total_income', aggfunc = 'count', margins = True).reset_index()\n",
    "\n",
    "# View the pivot table. \n",
    "debt_vs_income_level"
   ]
  },
  {
   "cell_type": "markdown",
   "metadata": {},
   "source": [
    "[Observation] Income levels above 115K can be put in a single group because the distribution is small. "
   ]
  },
  {
   "cell_type": "code",
   "execution_count": 166,
   "metadata": {},
   "outputs": [],
   "source": [
    "# Adjust the interval to remove redundant details.\n",
    "def assign_income_level(amount):\n",
    "    if amount == 0:\n",
    "        return 'Data not provided'\n",
    "    elif amount < 5000:\n",
    "        return '< 5K'\n",
    "    elif amount < 15000:\n",
    "        return '5K - 15K'\n",
    "    elif amount < 25000:\n",
    "        return '15K - 25K'\n",
    "    elif amount < 35000:\n",
    "        return '25K - 35K'\n",
    "    elif amount < 45000:\n",
    "        return '35K - 45K'\n",
    "    elif amount < 55000:\n",
    "        return '45K - 55K'\n",
    "    elif amount < 65000:\n",
    "        return '55K - 65K'\n",
    "    elif amount < 75000:\n",
    "        return '55K - 75K'\n",
    "    elif amount < 85000:\n",
    "        return '75K - 85K'\n",
    "    elif amount < 95000:\n",
    "        return '85K - 95K'\n",
    "    elif amount < 105000:\n",
    "        return '95K - 105K'\n",
    "    elif amount < 115000:\n",
    "        return '105K - 115K'\n",
    "    else:\n",
    "        return '> 115K' # i.e. amount > 115000\n",
    "\n",
    "# Check the function works.\n",
    "#print(assign_income_level(121411.489))\n",
    "#print(assign_income_level(130009.491))\n",
    "#print(assign_income_level(147343.635))\n",
    "#print(assign_income_level(153349.533))\n",
    "#print(assign_income_level(160716.231))\n",
    "#print(assign_income_level(174259.249))\n",
    "#print(assign_income_level(180613.801))\n",
    "#print(assign_income_level(195686.797))\n",
    "#print(assign_income_level(205804.96))\n",
    "#print(assign_income_level(216039.297))\n",
    "#print(assign_income_level(228469.514))\n",
    "#print(assign_income_level(234579.617))\n",
    "#print(assign_income_level(248184.463))\n",
    "#print(assign_income_level(255618.158))\n",
    "#print(assign_income_level(264402.943))\n",
    "#print(assign_income_level(273809.483))\n",
    "#print(assign_income_level(286204.162))\n",
    "#print(assign_income_level(295804.96))\n",
    "#print(assign_income_level(312136.354))\n",
    "#print(assign_income_level(322136.354))\n",
    "#print(assign_income_level(332136.354))\n",
    "#print(assign_income_level(342136.354))\n",
    "#print(assign_income_level(352136.354))\n",
    "#print(assign_income_level(362496.645))"
   ]
  },
  {
   "cell_type": "code",
   "execution_count": 167,
   "metadata": {},
   "outputs": [
    {
     "data": {
      "text/html": [
       "<div>\n",
       "<style scoped>\n",
       "    .dataframe tbody tr th:only-of-type {\n",
       "        vertical-align: middle;\n",
       "    }\n",
       "\n",
       "    .dataframe tbody tr th {\n",
       "        vertical-align: top;\n",
       "    }\n",
       "\n",
       "    .dataframe thead th {\n",
       "        text-align: right;\n",
       "    }\n",
       "</style>\n",
       "<table border=\"1\" class=\"dataframe\">\n",
       "  <thead>\n",
       "    <tr style=\"text-align: right;\">\n",
       "      <th></th>\n",
       "      <th>children</th>\n",
       "      <th>days_employed</th>\n",
       "      <th>age</th>\n",
       "      <th>education</th>\n",
       "      <th>education_id</th>\n",
       "      <th>family_status</th>\n",
       "      <th>family_status_id</th>\n",
       "      <th>gender</th>\n",
       "      <th>income_type</th>\n",
       "      <th>debt</th>\n",
       "      <th>total_income</th>\n",
       "      <th>purpose</th>\n",
       "      <th>days_employed_years</th>\n",
       "      <th>children_group</th>\n",
       "      <th>income_level</th>\n",
       "    </tr>\n",
       "  </thead>\n",
       "  <tbody>\n",
       "    <tr>\n",
       "      <td>0</td>\n",
       "      <td>1</td>\n",
       "      <td>-8437.673028</td>\n",
       "      <td>42</td>\n",
       "      <td>bachelor's degree</td>\n",
       "      <td>0</td>\n",
       "      <td>married</td>\n",
       "      <td>0</td>\n",
       "      <td>F</td>\n",
       "      <td>employee</td>\n",
       "      <td>False</td>\n",
       "      <td>40620.102</td>\n",
       "      <td>purchase of the house</td>\n",
       "      <td>23</td>\n",
       "      <td>1</td>\n",
       "      <td>35K - 45K</td>\n",
       "    </tr>\n",
       "    <tr>\n",
       "      <td>1</td>\n",
       "      <td>1</td>\n",
       "      <td>-4024.803754</td>\n",
       "      <td>36</td>\n",
       "      <td>secondary education</td>\n",
       "      <td>1</td>\n",
       "      <td>married</td>\n",
       "      <td>0</td>\n",
       "      <td>F</td>\n",
       "      <td>employee</td>\n",
       "      <td>False</td>\n",
       "      <td>17932.802</td>\n",
       "      <td>car purchase</td>\n",
       "      <td>11</td>\n",
       "      <td>1</td>\n",
       "      <td>15K - 25K</td>\n",
       "    </tr>\n",
       "    <tr>\n",
       "      <td>2</td>\n",
       "      <td>0</td>\n",
       "      <td>-5623.422610</td>\n",
       "      <td>33</td>\n",
       "      <td>secondary education</td>\n",
       "      <td>1</td>\n",
       "      <td>married</td>\n",
       "      <td>0</td>\n",
       "      <td>M</td>\n",
       "      <td>employee</td>\n",
       "      <td>False</td>\n",
       "      <td>23341.752</td>\n",
       "      <td>purchase of the house</td>\n",
       "      <td>15</td>\n",
       "      <td>0</td>\n",
       "      <td>15K - 25K</td>\n",
       "    </tr>\n",
       "    <tr>\n",
       "      <td>3</td>\n",
       "      <td>3</td>\n",
       "      <td>-4124.747207</td>\n",
       "      <td>32</td>\n",
       "      <td>secondary education</td>\n",
       "      <td>1</td>\n",
       "      <td>married</td>\n",
       "      <td>0</td>\n",
       "      <td>M</td>\n",
       "      <td>employee</td>\n",
       "      <td>False</td>\n",
       "      <td>42820.568</td>\n",
       "      <td>supplementary education</td>\n",
       "      <td>11</td>\n",
       "      <td>3</td>\n",
       "      <td>35K - 45K</td>\n",
       "    </tr>\n",
       "    <tr>\n",
       "      <td>4</td>\n",
       "      <td>0</td>\n",
       "      <td>NaN</td>\n",
       "      <td>53</td>\n",
       "      <td>secondary education</td>\n",
       "      <td>1</td>\n",
       "      <td>civil partnership</td>\n",
       "      <td>1</td>\n",
       "      <td>F</td>\n",
       "      <td>retiree</td>\n",
       "      <td>False</td>\n",
       "      <td>25378.572</td>\n",
       "      <td>to have a wedding</td>\n",
       "      <td>0</td>\n",
       "      <td>0</td>\n",
       "      <td>25K - 35K</td>\n",
       "    </tr>\n",
       "    <tr>\n",
       "      <td>5</td>\n",
       "      <td>0</td>\n",
       "      <td>-926.185831</td>\n",
       "      <td>27</td>\n",
       "      <td>bachelor's degree</td>\n",
       "      <td>0</td>\n",
       "      <td>civil partnership</td>\n",
       "      <td>1</td>\n",
       "      <td>M</td>\n",
       "      <td>business</td>\n",
       "      <td>False</td>\n",
       "      <td>40922.170</td>\n",
       "      <td>purchase of the house</td>\n",
       "      <td>2</td>\n",
       "      <td>0</td>\n",
       "      <td>35K - 45K</td>\n",
       "    </tr>\n",
       "    <tr>\n",
       "      <td>6</td>\n",
       "      <td>0</td>\n",
       "      <td>-2879.202052</td>\n",
       "      <td>43</td>\n",
       "      <td>bachelor's degree</td>\n",
       "      <td>0</td>\n",
       "      <td>married</td>\n",
       "      <td>0</td>\n",
       "      <td>F</td>\n",
       "      <td>business</td>\n",
       "      <td>False</td>\n",
       "      <td>38484.156</td>\n",
       "      <td>housing transactions</td>\n",
       "      <td>7</td>\n",
       "      <td>0</td>\n",
       "      <td>35K - 45K</td>\n",
       "    </tr>\n",
       "    <tr>\n",
       "      <td>7</td>\n",
       "      <td>0</td>\n",
       "      <td>-152.779569</td>\n",
       "      <td>50</td>\n",
       "      <td>secondary education</td>\n",
       "      <td>1</td>\n",
       "      <td>married</td>\n",
       "      <td>0</td>\n",
       "      <td>M</td>\n",
       "      <td>employee</td>\n",
       "      <td>False</td>\n",
       "      <td>21731.829</td>\n",
       "      <td>education</td>\n",
       "      <td>0</td>\n",
       "      <td>0</td>\n",
       "      <td>15K - 25K</td>\n",
       "    </tr>\n",
       "    <tr>\n",
       "      <td>8</td>\n",
       "      <td>2</td>\n",
       "      <td>-6929.865299</td>\n",
       "      <td>35</td>\n",
       "      <td>bachelor's degree</td>\n",
       "      <td>0</td>\n",
       "      <td>civil partnership</td>\n",
       "      <td>1</td>\n",
       "      <td>F</td>\n",
       "      <td>employee</td>\n",
       "      <td>False</td>\n",
       "      <td>15337.093</td>\n",
       "      <td>having a wedding</td>\n",
       "      <td>18</td>\n",
       "      <td>2</td>\n",
       "      <td>15K - 25K</td>\n",
       "    </tr>\n",
       "    <tr>\n",
       "      <td>9</td>\n",
       "      <td>0</td>\n",
       "      <td>-2188.756445</td>\n",
       "      <td>41</td>\n",
       "      <td>secondary education</td>\n",
       "      <td>1</td>\n",
       "      <td>married</td>\n",
       "      <td>0</td>\n",
       "      <td>M</td>\n",
       "      <td>employee</td>\n",
       "      <td>False</td>\n",
       "      <td>23108.150</td>\n",
       "      <td>purchase of the house for my family</td>\n",
       "      <td>5</td>\n",
       "      <td>0</td>\n",
       "      <td>15K - 25K</td>\n",
       "    </tr>\n",
       "  </tbody>\n",
       "</table>\n",
       "</div>"
      ],
      "text/plain": [
       "   children  days_employed  age            education  education_id  \\\n",
       "0         1   -8437.673028   42    bachelor's degree             0   \n",
       "1         1   -4024.803754   36  secondary education             1   \n",
       "2         0   -5623.422610   33  secondary education             1   \n",
       "3         3   -4124.747207   32  secondary education             1   \n",
       "4         0            NaN   53  secondary education             1   \n",
       "5         0    -926.185831   27    bachelor's degree             0   \n",
       "6         0   -2879.202052   43    bachelor's degree             0   \n",
       "7         0    -152.779569   50  secondary education             1   \n",
       "8         2   -6929.865299   35    bachelor's degree             0   \n",
       "9         0   -2188.756445   41  secondary education             1   \n",
       "\n",
       "       family_status  family_status_id gender income_type   debt  \\\n",
       "0            married                 0      F    employee  False   \n",
       "1            married                 0      F    employee  False   \n",
       "2            married                 0      M    employee  False   \n",
       "3            married                 0      M    employee  False   \n",
       "4  civil partnership                 1      F     retiree  False   \n",
       "5  civil partnership                 1      M    business  False   \n",
       "6            married                 0      F    business  False   \n",
       "7            married                 0      M    employee  False   \n",
       "8  civil partnership                 1      F    employee  False   \n",
       "9            married                 0      M    employee  False   \n",
       "\n",
       "   total_income                              purpose  days_employed_years  \\\n",
       "0     40620.102                purchase of the house                   23   \n",
       "1     17932.802                         car purchase                   11   \n",
       "2     23341.752                purchase of the house                   15   \n",
       "3     42820.568              supplementary education                   11   \n",
       "4     25378.572                    to have a wedding                    0   \n",
       "5     40922.170                purchase of the house                    2   \n",
       "6     38484.156                 housing transactions                    7   \n",
       "7     21731.829                            education                    0   \n",
       "8     15337.093                     having a wedding                   18   \n",
       "9     23108.150  purchase of the house for my family                    5   \n",
       "\n",
       "  children_group income_level  \n",
       "0              1    35K - 45K  \n",
       "1              1    15K - 25K  \n",
       "2              0    15K - 25K  \n",
       "3              3    35K - 45K  \n",
       "4              0    25K - 35K  \n",
       "5              0    35K - 45K  \n",
       "6              0    35K - 45K  \n",
       "7              0    15K - 25K  \n",
       "8              2    15K - 25K  \n",
       "9              0    15K - 25K  "
      ]
     },
     "execution_count": 167,
     "metadata": {},
     "output_type": "execute_result"
    }
   ],
   "source": [
    "# Assign each row to an \"income_level\" category by applying assign_income_level() to the dataset. \n",
    "data['income_level'] = data['total_income'].apply(assign_income_level)\n",
    "\n",
    "# View the first 10 rows.\n",
    "data.head(10)"
   ]
  },
  {
   "cell_type": "code",
   "execution_count": 169,
   "metadata": {},
   "outputs": [
    {
     "data": {
      "text/html": [
       "<div>\n",
       "<style scoped>\n",
       "    .dataframe tbody tr th:only-of-type {\n",
       "        vertical-align: middle;\n",
       "    }\n",
       "\n",
       "    .dataframe tbody tr th {\n",
       "        vertical-align: top;\n",
       "    }\n",
       "\n",
       "    .dataframe thead th {\n",
       "        text-align: right;\n",
       "    }\n",
       "</style>\n",
       "<table border=\"1\" class=\"dataframe\">\n",
       "  <thead>\n",
       "    <tr style=\"text-align: right;\">\n",
       "      <th>debt</th>\n",
       "      <th>income_level</th>\n",
       "      <th>False</th>\n",
       "      <th>True</th>\n",
       "      <th>All</th>\n",
       "    </tr>\n",
       "  </thead>\n",
       "  <tbody>\n",
       "    <tr>\n",
       "      <td>0</td>\n",
       "      <td>105K - 115K</td>\n",
       "      <td>29</td>\n",
       "      <td>1</td>\n",
       "      <td>30</td>\n",
       "    </tr>\n",
       "    <tr>\n",
       "      <td>1</td>\n",
       "      <td>15K - 25K</td>\n",
       "      <td>6407</td>\n",
       "      <td>598</td>\n",
       "      <td>7005</td>\n",
       "    </tr>\n",
       "    <tr>\n",
       "      <td>2</td>\n",
       "      <td>25K - 35K</td>\n",
       "      <td>4150</td>\n",
       "      <td>385</td>\n",
       "      <td>4535</td>\n",
       "    </tr>\n",
       "    <tr>\n",
       "      <td>3</td>\n",
       "      <td>35K - 45K</td>\n",
       "      <td>2051</td>\n",
       "      <td>158</td>\n",
       "      <td>2209</td>\n",
       "    </tr>\n",
       "    <tr>\n",
       "      <td>4</td>\n",
       "      <td>45K - 55K</td>\n",
       "      <td>854</td>\n",
       "      <td>70</td>\n",
       "      <td>924</td>\n",
       "    </tr>\n",
       "    <tr>\n",
       "      <td>5</td>\n",
       "      <td>55K - 65K</td>\n",
       "      <td>408</td>\n",
       "      <td>33</td>\n",
       "      <td>441</td>\n",
       "    </tr>\n",
       "    <tr>\n",
       "      <td>6</td>\n",
       "      <td>55K - 75K</td>\n",
       "      <td>193</td>\n",
       "      <td>13</td>\n",
       "      <td>206</td>\n",
       "    </tr>\n",
       "    <tr>\n",
       "      <td>7</td>\n",
       "      <td>5K - 15K</td>\n",
       "      <td>3421</td>\n",
       "      <td>296</td>\n",
       "      <td>3717</td>\n",
       "    </tr>\n",
       "    <tr>\n",
       "      <td>8</td>\n",
       "      <td>75K - 85K</td>\n",
       "      <td>110</td>\n",
       "      <td>6</td>\n",
       "      <td>116</td>\n",
       "    </tr>\n",
       "    <tr>\n",
       "      <td>9</td>\n",
       "      <td>85K - 95K</td>\n",
       "      <td>56</td>\n",
       "      <td>2</td>\n",
       "      <td>58</td>\n",
       "    </tr>\n",
       "    <tr>\n",
       "      <td>10</td>\n",
       "      <td>95K - 105K</td>\n",
       "      <td>28</td>\n",
       "      <td>3</td>\n",
       "      <td>31</td>\n",
       "    </tr>\n",
       "    <tr>\n",
       "      <td>11</td>\n",
       "      <td>&lt; 5K</td>\n",
       "      <td>24</td>\n",
       "      <td>2</td>\n",
       "      <td>26</td>\n",
       "    </tr>\n",
       "    <tr>\n",
       "      <td>12</td>\n",
       "      <td>&gt; 115K</td>\n",
       "      <td>49</td>\n",
       "      <td>4</td>\n",
       "      <td>53</td>\n",
       "    </tr>\n",
       "    <tr>\n",
       "      <td>13</td>\n",
       "      <td>Data not provided</td>\n",
       "      <td>1933</td>\n",
       "      <td>170</td>\n",
       "      <td>2103</td>\n",
       "    </tr>\n",
       "    <tr>\n",
       "      <td>14</td>\n",
       "      <td>All</td>\n",
       "      <td>19713</td>\n",
       "      <td>1741</td>\n",
       "      <td>21454</td>\n",
       "    </tr>\n",
       "  </tbody>\n",
       "</table>\n",
       "</div>"
      ],
      "text/plain": [
       "debt       income_level  False  True    All\n",
       "0           105K - 115K     29     1     30\n",
       "1             15K - 25K   6407   598   7005\n",
       "2             25K - 35K   4150   385   4535\n",
       "3             35K - 45K   2051   158   2209\n",
       "4             45K - 55K    854    70    924\n",
       "5             55K - 65K    408    33    441\n",
       "6             55K - 75K    193    13    206\n",
       "7              5K - 15K   3421   296   3717\n",
       "8             75K - 85K    110     6    116\n",
       "9             85K - 95K     56     2     58\n",
       "10           95K - 105K     28     3     31\n",
       "11                 < 5K     24     2     26\n",
       "12               > 115K     49     4     53\n",
       "13    Data not provided   1933   170   2103\n",
       "14                  All  19713  1741  21454"
      ]
     },
     "execution_count": 169,
     "metadata": {},
     "output_type": "execute_result"
    }
   ],
   "source": [
    "# Check the ratio of customers who paid off a loan on time to those who did not, grouped by their income level.\n",
    "debt_vs_income_level = data.pivot_table(index = 'income_level', columns = 'debt', values='total_income', aggfunc = 'count', margins = True).reset_index()\n",
    "\n",
    "# View the pivot table. \n",
    "debt_vs_income_level"
   ]
  },
  {
   "cell_type": "markdown",
   "metadata": {},
   "source": [
    "<div class=\"alert alert-success\" style=\"box-shadow: 4px 4px 4px\">\n",
    "<b>Success:</b> Well done for making a pivot table: the result is clear\n",
    "</div>\n",
    "\n",
    "<div class=\"alert alert-warning\" style=\"box-shadow: 4px 4px 4px\">\n",
    "<b>Remarks:</b> Answering your question:\n",
    "        <br> * Your approach to solving this problem is good enough. I would not change anything in it\n",
    "</div>"
   ]
  },
  {
   "cell_type": "markdown",
   "metadata": {},
   "source": [
    "[RESPONSE TO REMARK] Understood. Thank you. "
   ]
  },
  {
   "cell_type": "markdown",
   "metadata": {},
   "source": [
    "**[Question] How do different loan purposes affect on-time loan repayment?**"
   ]
  },
  {
   "cell_type": "markdown",
   "metadata": {},
   "source": [
    "To answer this question, I will analyze the texts in the 'purpose' column to find categories."
   ]
  },
  {
   "cell_type": "code",
   "execution_count": 170,
   "metadata": {},
   "outputs": [
    {
     "data": {
      "text/plain": [
       "wedding ceremony                            791\n",
       "having a wedding                            768\n",
       "to have a wedding                           765\n",
       "real estate transactions                    675\n",
       "buy commercial real estate                  661\n",
       "housing transactions                        652\n",
       "buying property for renting out             651\n",
       "transactions with commercial real estate    650\n",
       "housing                                     646\n",
       "purchase of the house                       646\n",
       "purchase of the house for my family         638\n",
       "construction of own property                635\n",
       "property                                    633\n",
       "transactions with my real estate            627\n",
       "building a real estate                      624\n",
       "buy real estate                             621\n",
       "purchase of my own house                    620\n",
       "building a property                         619\n",
       "housing renovation                          607\n",
       "buy residential real estate                 606\n",
       "buying my own car                           505\n",
       "going to university                         496\n",
       "car                                         494\n",
       "second-hand car purchase                    486\n",
       "cars                                        478\n",
       "to own a car                                478\n",
       "buying a second-hand car                    478\n",
       "to buy a car                                471\n",
       "car purchase                                461\n",
       "supplementary education                     460\n",
       "purchase of a car                           455\n",
       "university education                        452\n",
       "education                                   447\n",
       "to get a supplementary education            446\n",
       "getting an education                        442\n",
       "profile education                           436\n",
       "getting higher education                    426\n",
       "to become educated                          408\n",
       "Name: purpose, dtype: int64"
      ]
     },
     "execution_count": 170,
     "metadata": {},
     "output_type": "execute_result"
    }
   ],
   "source": [
    "# First, obtain a unique list of the column values.\n",
    "data.purpose.value_counts()"
   ]
  },
  {
   "cell_type": "markdown",
   "metadata": {},
   "source": [
    "[Observation] The values can be classified into 4 main categories: wedding, real estate, car, education"
   ]
  },
  {
   "cell_type": "markdown",
   "metadata": {},
   "source": [
    "Now find a list of all the words related to each category."
   ]
  },
  {
   "cell_type": "code",
   "execution_count": 171,
   "metadata": {},
   "outputs": [
    {
     "name": "stdout",
     "output_type": "stream",
     "text": [
      "purchase of the house car purchase supplementary education to have a wedding housing transactions education having a wedding purchase of the house for my family buy real estate buy commercial real estate buy residential real estate construction of own property property building a property buying a second-hand car buying my own car transactions with commercial real estate building a real estate housing transactions with my real estate cars to become educated second-hand car purchase getting an education car wedding ceremony to get a supplementary education purchase of my own house real estate transactions getting higher education to own a car purchase of a car profile education university education buying property for renting out to buy a car housing renovation going to university\n"
     ]
    }
   ],
   "source": [
    "# Combine all the texts in the 'purpose' column into a single string. Do not include repeated values. \n",
    "purposes = ' '.join(data.purpose.unique())\n",
    "\n",
    "# Print the string. \n",
    "print(purposes)"
   ]
  },
  {
   "cell_type": "code",
   "execution_count": 172,
   "metadata": {},
   "outputs": [
    {
     "name": "stdout",
     "output_type": "stream",
     "text": [
      "['purchase', 'of', 'the', 'house', 'car', 'purchase', 'supplementary', 'education', 'to', 'have', 'a', 'wedding', 'housing', 'transactions', 'education', 'having', 'a', 'wedding', 'purchase', 'of', 'the', 'house', 'for', 'my', 'family', 'buy', 'real', 'estate', 'buy', 'commercial', 'real', 'estate', 'buy', 'residential', 'real', 'estate', 'construction', 'of', 'own', 'property', 'property', 'building', 'a', 'property', 'buying', 'a', 'second-hand', 'car', 'buying', 'my', 'own', 'car', 'transactions', 'with', 'commercial', 'real', 'estate', 'building', 'a', 'real', 'estate', 'housing', 'transactions', 'with', 'my', 'real', 'estate', 'cars', 'to', 'become', 'educated', 'second-hand', 'car', 'purchase', 'getting', 'an', 'education', 'car', 'wedding', 'ceremony', 'to', 'get', 'a', 'supplementary', 'education', 'purchase', 'of', 'my', 'own', 'house', 'real', 'estate', 'transactions', 'getting', 'higher', 'education', 'to', 'own', 'a', 'car', 'purchase', 'of', 'a', 'car', 'profile', 'education', 'university', 'education', 'buying', 'property', 'for', 'renting', 'out', 'to', 'buy', 'a', 'car', 'housing', 'renovation', 'going', 'to', 'university']\n"
     ]
    }
   ],
   "source": [
    "# Convert 'purposes' into a list or words.\n",
    "words = nltk.word_tokenize(purposes)\n",
    "print(words)"
   ]
  },
  {
   "cell_type": "code",
   "execution_count": 173,
   "metadata": {},
   "outputs": [
    {
     "name": "stdout",
     "output_type": "stream",
     "text": [
      "['purchase', 'of', 'the', 'house', 'car', 'supplementary', 'education', 'to', 'have', 'a', 'wedding', 'housing', 'transactions', 'having', 'for', 'my', 'family', 'buy', 'real', 'estate', 'commercial', 'residential', 'construction', 'own', 'property', 'building', 'buying', 'second-hand', 'with', 'cars', 'become', 'educated', 'getting', 'an', 'ceremony', 'get', 'higher', 'profile', 'university', 'renting', 'out', 'renovation', 'going']\n"
     ]
    }
   ],
   "source": [
    "# Remove duplicates to shorten the list as much as possible for optimization. \n",
    "all_words = []\n",
    "\n",
    "for word in words:\n",
    "    if word not in all_words:\n",
    "        all_words.append(word)\n",
    "\n",
    "# Verify it worked.\n",
    "print(all_words)"
   ]
  },
  {
   "cell_type": "code",
   "execution_count": 174,
   "metadata": {},
   "outputs": [
    {
     "name": "stdout",
     "output_type": "stream",
     "text": [
      "['purchase', 'house', 'car', 'supplementary', 'education', 'wedding', 'housing', 'transactions', 'family', 'buy', 'real', 'estate', 'commercial', 'residential', 'construction', 'property', 'building', 'buying', 'second-hand', 'cars', 'become', 'educated', 'getting', 'ceremony', 'get', 'higher', 'profile', 'university', 'renting', 'renovation', 'going']\n"
     ]
    }
   ],
   "source": [
    "# Remove stop words to shorten the list as much as possible for optimization. \n",
    "stop_words = set(stopwords.words('english'))\n",
    "\n",
    "filtered_list = []\n",
    " \n",
    "for word in all_words:\n",
    "    if word not in stop_words:\n",
    "        filtered_list.append(word)\n",
    "\n",
    "print(filtered_list)"
   ]
  },
  {
   "cell_type": "code",
   "execution_count": 176,
   "metadata": {},
   "outputs": [
    {
     "name": "stdout",
     "output_type": "stream",
     "text": [
      "['purchase', 'house', 'car', 'supplementary', 'education', 'wed', 'house', 'transaction', 'family', 'buy', 'real', 'estate', 'commercial', 'residential', 'construction', 'property', 'build', 'buy', 'second-hand', 'car', 'become', 'educate', 'get', 'ceremony', 'get', 'higher', 'profile', 'university', 'rent', 'renovation', 'go']\n"
     ]
    }
   ],
   "source": [
    "# Find and save the lemma of each word.\n",
    "lemmas = [wordnet_lemma.lemmatize(word, pos = 'n') for word in filtered_list]\n",
    "lemmas_v = [wordnet_lemma.lemmatize(word, pos = 'v') for word in lemmas]\n",
    "\n",
    "# Verify it worked. \n",
    "print(lemmas_v)"
   ]
  },
  {
   "cell_type": "markdown",
   "metadata": {},
   "source": [
    "<div class=\"alert alert-success\" style=\"box-shadow: 4px 4px 4px\">\n",
    "<b>Success #2:</b> \n",
    "    \n",
    "Here ⬆⬆⬆ you can create list of lemmas based on filtered_list excluding 'wedding'. Then you can manually add 'wedding' to the resulting list lemmas_v. But after finding the stem, wedding becomes wed\n",
    "</div>"
   ]
  },
  {
   "cell_type": "markdown",
   "metadata": {},
   "source": [
    "[Comment] Not applying pos = 'a' (adjective) or 'r' (adverb) in order to keep words like 'higher'. "
   ]
  },
  {
   "cell_type": "code",
   "execution_count": 177,
   "metadata": {},
   "outputs": [
    {
     "name": "stdout",
     "output_type": "stream",
     "text": [
      "['purchas', 'hous', 'car', 'supplementari', 'educ', 'wed', 'hous', 'transact', 'famili', 'buy', 'real', 'estat', 'commerci', 'residenti', 'construct', 'properti', 'build', 'buy', 'second-hand', 'car', 'becom', 'educ', 'get', 'ceremoni', 'get', 'higher', 'profil', 'univers', 'rent', 'renov', 'go']\n"
     ]
    }
   ],
   "source": [
    "# Find the stem of each word.\n",
    "stems = [english_stemmer.stem(word) for word in lemmas_v]\n",
    "\n",
    "# Verify it worked. \n",
    "print(stems)"
   ]
  },
  {
   "cell_type": "code",
   "execution_count": 69,
   "metadata": {},
   "outputs": [
    {
     "name": "stdout",
     "output_type": "stream",
     "text": [
      "['purchas', 'hous', 'car', 'supplementari', 'educ', 'wed', 'transact', 'famili', 'buy', 'real', 'estat', 'commerci', 'residenti', 'construct', 'properti', 'build', 'second-hand', 'becom', 'get', 'ceremoni', 'higher', 'profil', 'univers', 'rent', 'renov', 'go']\n"
     ]
    }
   ],
   "source": [
    "# Remove duplicates again to shorten the list as much as possible for optimization. \n",
    "all_words = []\n",
    "\n",
    "for word in stems:\n",
    "    if word not in all_words:\n",
    "        all_words.append(word)\n",
    "\n",
    "# Verify it worked.\n",
    "print(all_words)"
   ]
  },
  {
   "cell_type": "markdown",
   "metadata": {},
   "source": [
    "[QUESTION] How can I keep 'wedding' (before lemmatization) but unify 'car' and 'cars' (after lemmatization)?"
   ]
  },
  {
   "cell_type": "code",
   "execution_count": 182,
   "metadata": {},
   "outputs": [
    {
     "data": {
      "text/plain": [
       "{'wedding': ['wed', 'ceremon'],\n",
       " 'real estate': ['purchas',\n",
       "  'hous',\n",
       "  'transact',\n",
       "  'buy',\n",
       "  'famil',\n",
       "  'estate',\n",
       "  'commerci',\n",
       "  'residenti',\n",
       "  'construct',\n",
       "  'propert',\n",
       "  'build',\n",
       "  'rent',\n",
       "  'renov'],\n",
       " 'car': ['car', 'second-hand'],\n",
       " 'education': ['educ',\n",
       "  'supplementar',\n",
       "  'becom',\n",
       "  'get',\n",
       "  'higher',\n",
       "  'profil',\n",
       "  'univers',\n",
       "  'go']}"
      ]
     },
     "execution_count": 182,
     "metadata": {},
     "output_type": "execute_result"
    }
   ],
   "source": [
    "# Define a dictionary and fill the values for each category from the list above.\n",
    "categories = {\n",
    "        'wedding': ['wed', 'ceremon'],\n",
    "        'real estate': ['purchas', 'hous', 'transact', 'buy', 'famil', 'estate', 'commerci', 'residenti', 'construct', 'propert', 'build', 'rent', 'renov'],\n",
    "        'car': ['car', 'second-hand'],\n",
    "        'education': ['educ', 'supplementar', 'becom', 'get', 'higher', 'profil', 'univers', 'go']\n",
    "}\n",
    "\n",
    "# View the dictionary. \n",
    "categories"
   ]
  },
  {
   "cell_type": "markdown",
   "metadata": {},
   "source": [
    "Assign a 'purpose' value to a purpose category. "
   ]
  },
  {
   "cell_type": "code",
   "execution_count": 183,
   "metadata": {},
   "outputs": [
    {
     "data": {
      "text/plain": [
       "0                  purchase of the house\n",
       "1                           car purchase\n",
       "2                  purchase of the house\n",
       "3                supplementary education\n",
       "4                      to have a wedding\n",
       "5                  purchase of the house\n",
       "6                   housing transactions\n",
       "7                              education\n",
       "8                       having a wedding\n",
       "9    purchase of the house for my family\n",
       "Name: purpose_category, dtype: object"
      ]
     },
     "execution_count": 183,
     "metadata": {},
     "output_type": "execute_result"
    }
   ],
   "source": [
    "# Make a copy of the 'purpose' column so as not to overwite the values.\n",
    "purpose_copy = data['purpose']\n",
    "data['purpose_category'] = purpose_copy\n",
    "\n",
    "# Verify it worked.\n",
    "data.purpose_category.head(10)"
   ]
  },
  {
   "cell_type": "markdown",
   "metadata": {},
   "source": [
    "[QUESTION] All the attemps below issued a SettingWithCopyWarning warning. These are all legitimate operations. So why?\n",
    "<br>data.loc[data['purpose'], 'purpose_copy'] = data['purpose']\n",
    "<br>data.purpose_copy = data.purpose_copy.fillna(data.purpose)\n",
    "<br>data.purpose_copy = data.purpose.copy()"
   ]
  },
  {
   "cell_type": "markdown",
   "metadata": {},
   "source": [
    "<div class=\"alert alert-warning\" style=\"box-shadow: 4px 4px 4px\">\n",
    "<b>Remarks:</b> Answering your question:\n",
    "        <br> * Maybe this guide will help you\n",
    "    <a href=\"https://pandas.pydata.org/pandas-docs/stable/user_guide/indexing.html\">Data Selecting</a><br>\n",
    "</div>\n",
    "\n",
    "\n",
    "\n"
   ]
  },
  {
   "cell_type": "markdown",
   "metadata": {},
   "source": [
    "[RESPONSE TO REMARKS] Thank you for sending me the reference. Now I need to digest the info. :)"
   ]
  },
  {
   "cell_type": "code",
   "execution_count": 184,
   "metadata": {
    "scrolled": true
   },
   "outputs": [],
   "source": [
    "# Check if the 'purpose' value is in the categories dictionary. \n",
    "for key, value in categories.items():\n",
    "    filter_column = data['purpose_category'].str.contains('|'.join(value))\n",
    "    data['purpose_category'][filter_column] = key"
   ]
  },
  {
   "cell_type": "markdown",
   "metadata": {},
   "source": [
    "[QUESION] I do not want to overwrite the 'purpose' column so I made a copy and worked on that copy. \n",
    "<br>What is the way that Python will not issue a warning?"
   ]
  },
  {
   "cell_type": "markdown",
   "metadata": {},
   "source": [
    "<div class=\"alert alert-warning\" style=\"box-shadow: 4px 4px 4px\">\n",
    "<b>Remarks:</b> Answering your question:\n",
    "    * Read the documentation carefully, there you will find all the answers\n",
    "       <br> <a href=\"https://pandas.pydata.org/pandas-docs/stable/user_guide/indexing.html#returning-a-view-versus-a-copy\">Returning versus a copy</a><br> \n",
    "</div>"
   ]
  },
  {
   "cell_type": "markdown",
   "metadata": {},
   "source": [
    "[RESPONSE TO REMARKS] I have now included the 'import sys' lines in the project header. "
   ]
  },
  {
   "cell_type": "code",
   "execution_count": 186,
   "metadata": {},
   "outputs": [
    {
     "data": {
      "text/html": [
       "<div>\n",
       "<style scoped>\n",
       "    .dataframe tbody tr th:only-of-type {\n",
       "        vertical-align: middle;\n",
       "    }\n",
       "\n",
       "    .dataframe tbody tr th {\n",
       "        vertical-align: top;\n",
       "    }\n",
       "\n",
       "    .dataframe thead th {\n",
       "        text-align: right;\n",
       "    }\n",
       "</style>\n",
       "<table border=\"1\" class=\"dataframe\">\n",
       "  <thead>\n",
       "    <tr style=\"text-align: right;\">\n",
       "      <th></th>\n",
       "      <th>children</th>\n",
       "      <th>days_employed</th>\n",
       "      <th>age</th>\n",
       "      <th>education</th>\n",
       "      <th>education_id</th>\n",
       "      <th>family_status</th>\n",
       "      <th>family_status_id</th>\n",
       "      <th>gender</th>\n",
       "      <th>income_type</th>\n",
       "      <th>debt</th>\n",
       "      <th>total_income</th>\n",
       "      <th>purpose</th>\n",
       "      <th>days_employed_years</th>\n",
       "      <th>children_group</th>\n",
       "      <th>income_level</th>\n",
       "      <th>purpose_category</th>\n",
       "    </tr>\n",
       "  </thead>\n",
       "  <tbody>\n",
       "    <tr>\n",
       "      <td>0</td>\n",
       "      <td>1</td>\n",
       "      <td>-8437.673028</td>\n",
       "      <td>42</td>\n",
       "      <td>bachelor's degree</td>\n",
       "      <td>0</td>\n",
       "      <td>married</td>\n",
       "      <td>0</td>\n",
       "      <td>F</td>\n",
       "      <td>employee</td>\n",
       "      <td>False</td>\n",
       "      <td>40620.102</td>\n",
       "      <td>purchase of the house</td>\n",
       "      <td>23</td>\n",
       "      <td>1</td>\n",
       "      <td>35K - 45K</td>\n",
       "      <td>real estate</td>\n",
       "    </tr>\n",
       "    <tr>\n",
       "      <td>1</td>\n",
       "      <td>1</td>\n",
       "      <td>-4024.803754</td>\n",
       "      <td>36</td>\n",
       "      <td>secondary education</td>\n",
       "      <td>1</td>\n",
       "      <td>married</td>\n",
       "      <td>0</td>\n",
       "      <td>F</td>\n",
       "      <td>employee</td>\n",
       "      <td>False</td>\n",
       "      <td>17932.802</td>\n",
       "      <td>car purchase</td>\n",
       "      <td>11</td>\n",
       "      <td>1</td>\n",
       "      <td>15K - 25K</td>\n",
       "      <td>real estate</td>\n",
       "    </tr>\n",
       "    <tr>\n",
       "      <td>2</td>\n",
       "      <td>0</td>\n",
       "      <td>-5623.422610</td>\n",
       "      <td>33</td>\n",
       "      <td>secondary education</td>\n",
       "      <td>1</td>\n",
       "      <td>married</td>\n",
       "      <td>0</td>\n",
       "      <td>M</td>\n",
       "      <td>employee</td>\n",
       "      <td>False</td>\n",
       "      <td>23341.752</td>\n",
       "      <td>purchase of the house</td>\n",
       "      <td>15</td>\n",
       "      <td>0</td>\n",
       "      <td>15K - 25K</td>\n",
       "      <td>real estate</td>\n",
       "    </tr>\n",
       "    <tr>\n",
       "      <td>3</td>\n",
       "      <td>3</td>\n",
       "      <td>-4124.747207</td>\n",
       "      <td>32</td>\n",
       "      <td>secondary education</td>\n",
       "      <td>1</td>\n",
       "      <td>married</td>\n",
       "      <td>0</td>\n",
       "      <td>M</td>\n",
       "      <td>employee</td>\n",
       "      <td>False</td>\n",
       "      <td>42820.568</td>\n",
       "      <td>supplementary education</td>\n",
       "      <td>11</td>\n",
       "      <td>3</td>\n",
       "      <td>35K - 45K</td>\n",
       "      <td>education</td>\n",
       "    </tr>\n",
       "    <tr>\n",
       "      <td>4</td>\n",
       "      <td>0</td>\n",
       "      <td>NaN</td>\n",
       "      <td>53</td>\n",
       "      <td>secondary education</td>\n",
       "      <td>1</td>\n",
       "      <td>civil partnership</td>\n",
       "      <td>1</td>\n",
       "      <td>F</td>\n",
       "      <td>retiree</td>\n",
       "      <td>False</td>\n",
       "      <td>25378.572</td>\n",
       "      <td>to have a wedding</td>\n",
       "      <td>0</td>\n",
       "      <td>0</td>\n",
       "      <td>25K - 35K</td>\n",
       "      <td>wedding</td>\n",
       "    </tr>\n",
       "    <tr>\n",
       "      <td>5</td>\n",
       "      <td>0</td>\n",
       "      <td>-926.185831</td>\n",
       "      <td>27</td>\n",
       "      <td>bachelor's degree</td>\n",
       "      <td>0</td>\n",
       "      <td>civil partnership</td>\n",
       "      <td>1</td>\n",
       "      <td>M</td>\n",
       "      <td>business</td>\n",
       "      <td>False</td>\n",
       "      <td>40922.170</td>\n",
       "      <td>purchase of the house</td>\n",
       "      <td>2</td>\n",
       "      <td>0</td>\n",
       "      <td>35K - 45K</td>\n",
       "      <td>real estate</td>\n",
       "    </tr>\n",
       "    <tr>\n",
       "      <td>6</td>\n",
       "      <td>0</td>\n",
       "      <td>-2879.202052</td>\n",
       "      <td>43</td>\n",
       "      <td>bachelor's degree</td>\n",
       "      <td>0</td>\n",
       "      <td>married</td>\n",
       "      <td>0</td>\n",
       "      <td>F</td>\n",
       "      <td>business</td>\n",
       "      <td>False</td>\n",
       "      <td>38484.156</td>\n",
       "      <td>housing transactions</td>\n",
       "      <td>7</td>\n",
       "      <td>0</td>\n",
       "      <td>35K - 45K</td>\n",
       "      <td>real estate</td>\n",
       "    </tr>\n",
       "    <tr>\n",
       "      <td>7</td>\n",
       "      <td>0</td>\n",
       "      <td>-152.779569</td>\n",
       "      <td>50</td>\n",
       "      <td>secondary education</td>\n",
       "      <td>1</td>\n",
       "      <td>married</td>\n",
       "      <td>0</td>\n",
       "      <td>M</td>\n",
       "      <td>employee</td>\n",
       "      <td>False</td>\n",
       "      <td>21731.829</td>\n",
       "      <td>education</td>\n",
       "      <td>0</td>\n",
       "      <td>0</td>\n",
       "      <td>15K - 25K</td>\n",
       "      <td>education</td>\n",
       "    </tr>\n",
       "    <tr>\n",
       "      <td>8</td>\n",
       "      <td>2</td>\n",
       "      <td>-6929.865299</td>\n",
       "      <td>35</td>\n",
       "      <td>bachelor's degree</td>\n",
       "      <td>0</td>\n",
       "      <td>civil partnership</td>\n",
       "      <td>1</td>\n",
       "      <td>F</td>\n",
       "      <td>employee</td>\n",
       "      <td>False</td>\n",
       "      <td>15337.093</td>\n",
       "      <td>having a wedding</td>\n",
       "      <td>18</td>\n",
       "      <td>2</td>\n",
       "      <td>15K - 25K</td>\n",
       "      <td>wedding</td>\n",
       "    </tr>\n",
       "    <tr>\n",
       "      <td>9</td>\n",
       "      <td>0</td>\n",
       "      <td>-2188.756445</td>\n",
       "      <td>41</td>\n",
       "      <td>secondary education</td>\n",
       "      <td>1</td>\n",
       "      <td>married</td>\n",
       "      <td>0</td>\n",
       "      <td>M</td>\n",
       "      <td>employee</td>\n",
       "      <td>False</td>\n",
       "      <td>23108.150</td>\n",
       "      <td>purchase of the house for my family</td>\n",
       "      <td>5</td>\n",
       "      <td>0</td>\n",
       "      <td>15K - 25K</td>\n",
       "      <td>real estate</td>\n",
       "    </tr>\n",
       "  </tbody>\n",
       "</table>\n",
       "</div>"
      ],
      "text/plain": [
       "   children  days_employed  age            education  education_id  \\\n",
       "0         1   -8437.673028   42    bachelor's degree             0   \n",
       "1         1   -4024.803754   36  secondary education             1   \n",
       "2         0   -5623.422610   33  secondary education             1   \n",
       "3         3   -4124.747207   32  secondary education             1   \n",
       "4         0            NaN   53  secondary education             1   \n",
       "5         0    -926.185831   27    bachelor's degree             0   \n",
       "6         0   -2879.202052   43    bachelor's degree             0   \n",
       "7         0    -152.779569   50  secondary education             1   \n",
       "8         2   -6929.865299   35    bachelor's degree             0   \n",
       "9         0   -2188.756445   41  secondary education             1   \n",
       "\n",
       "       family_status  family_status_id gender income_type   debt  \\\n",
       "0            married                 0      F    employee  False   \n",
       "1            married                 0      F    employee  False   \n",
       "2            married                 0      M    employee  False   \n",
       "3            married                 0      M    employee  False   \n",
       "4  civil partnership                 1      F     retiree  False   \n",
       "5  civil partnership                 1      M    business  False   \n",
       "6            married                 0      F    business  False   \n",
       "7            married                 0      M    employee  False   \n",
       "8  civil partnership                 1      F    employee  False   \n",
       "9            married                 0      M    employee  False   \n",
       "\n",
       "   total_income                              purpose  days_employed_years  \\\n",
       "0     40620.102                purchase of the house                   23   \n",
       "1     17932.802                         car purchase                   11   \n",
       "2     23341.752                purchase of the house                   15   \n",
       "3     42820.568              supplementary education                   11   \n",
       "4     25378.572                    to have a wedding                    0   \n",
       "5     40922.170                purchase of the house                    2   \n",
       "6     38484.156                 housing transactions                    7   \n",
       "7     21731.829                            education                    0   \n",
       "8     15337.093                     having a wedding                   18   \n",
       "9     23108.150  purchase of the house for my family                    5   \n",
       "\n",
       "  children_group income_level purpose_category  \n",
       "0              1    35K - 45K      real estate  \n",
       "1              1    15K - 25K      real estate  \n",
       "2              0    15K - 25K      real estate  \n",
       "3              3    35K - 45K        education  \n",
       "4              0    25K - 35K          wedding  \n",
       "5              0    35K - 45K      real estate  \n",
       "6              0    35K - 45K      real estate  \n",
       "7              0    15K - 25K        education  \n",
       "8              2    15K - 25K          wedding  \n",
       "9              0    15K - 25K      real estate  "
      ]
     },
     "execution_count": 186,
     "metadata": {},
     "output_type": "execute_result"
    }
   ],
   "source": [
    "# View the first 10 rows of the dataset.\n",
    "data.head(10)"
   ]
  },
  {
   "cell_type": "code",
   "execution_count": 187,
   "metadata": {},
   "outputs": [
    {
     "data": {
      "text/html": [
       "<div>\n",
       "<style scoped>\n",
       "    .dataframe tbody tr th:only-of-type {\n",
       "        vertical-align: middle;\n",
       "    }\n",
       "\n",
       "    .dataframe tbody tr th {\n",
       "        vertical-align: top;\n",
       "    }\n",
       "\n",
       "    .dataframe thead th {\n",
       "        text-align: right;\n",
       "    }\n",
       "</style>\n",
       "<table border=\"1\" class=\"dataframe\">\n",
       "  <thead>\n",
       "    <tr style=\"text-align: right;\">\n",
       "      <th>debt</th>\n",
       "      <th>purpose_category</th>\n",
       "      <th>False</th>\n",
       "      <th>True</th>\n",
       "      <th>All</th>\n",
       "    </tr>\n",
       "  </thead>\n",
       "  <tbody>\n",
       "    <tr>\n",
       "      <td>0</td>\n",
       "      <td>car</td>\n",
       "      <td>1316</td>\n",
       "      <td>134</td>\n",
       "      <td>1450</td>\n",
       "    </tr>\n",
       "    <tr>\n",
       "      <td>1</td>\n",
       "      <td>education</td>\n",
       "      <td>3643</td>\n",
       "      <td>370</td>\n",
       "      <td>4013</td>\n",
       "    </tr>\n",
       "    <tr>\n",
       "      <td>2</td>\n",
       "      <td>real estate</td>\n",
       "      <td>12616</td>\n",
       "      <td>1051</td>\n",
       "      <td>13667</td>\n",
       "    </tr>\n",
       "    <tr>\n",
       "      <td>3</td>\n",
       "      <td>wedding</td>\n",
       "      <td>2138</td>\n",
       "      <td>186</td>\n",
       "      <td>2324</td>\n",
       "    </tr>\n",
       "    <tr>\n",
       "      <td>4</td>\n",
       "      <td>All</td>\n",
       "      <td>19713</td>\n",
       "      <td>1741</td>\n",
       "      <td>21454</td>\n",
       "    </tr>\n",
       "  </tbody>\n",
       "</table>\n",
       "</div>"
      ],
      "text/plain": [
       "debt purpose_category  False  True    All\n",
       "0                 car   1316   134   1450\n",
       "1           education   3643   370   4013\n",
       "2         real estate  12616  1051  13667\n",
       "3             wedding   2138   186   2324\n",
       "4                 All  19713  1741  21454"
      ]
     },
     "execution_count": 187,
     "metadata": {},
     "output_type": "execute_result"
    }
   ],
   "source": [
    "# Check the ratio of customers who paid off a loan on time to those who did not, grouped by the corresponding purpose category.\n",
    "debt_vs_purpose = data.pivot_table(index = 'purpose_category', columns = 'debt', values='purpose', aggfunc = 'count', margins = True).reset_index()\n",
    "\n",
    "# View the pivot table. \n",
    "debt_vs_purpose"
   ]
  },
  {
   "cell_type": "markdown",
   "metadata": {},
   "source": [
    "<div class=\"alert alert-success\" style=\"box-shadow: 4px 4px 4px\">\n",
    "<b>Success:</b> Everything was done well, but the tables with the results are repeated. I would advise to combine them to make the solution more visual.\n",
    "</div>\n",
    "\n"
   ]
  },
  {
   "cell_type": "markdown",
   "metadata": {},
   "source": [
    "### Conclusion"
   ]
  },
  {
   "cell_type": "markdown",
   "metadata": {},
   "source": [
    "What to categorize depends on what is being asked. \n",
    "\n",
    "<br>To find the relationship between the number of children and whether or not a loan was repaid, I thought it was important to present the data for each age group between 0 and 5. \n",
    "\n",
    "<br>Finding the relationship between the family status and whether or not a loan was repaid was starightforward, and I felt no need to do any custom categorization. \n",
    "\n",
    "<br>To find the relationship between the income levels and whether or not a loan was repaid, I used the minimum and maximum total income values as guides for the lower and upper boundaries of the range. I first set an interval of 10K, and found an unnecessary level of detail for above 115K. I grouped all the income levels above 115K and managed to reduce the number of levels. Also, I wanted to present those rows where the 'total_income' values were missing in a separate category of its own because I felt that there was a story there. \n",
    "\n",
    "<br>To find the relationship between the reason for asking for a loan (i.e. 'purpose') and whether or not a loan was repaid, I identified 4 main categories by looking at the unique values. I defined the categories as a dictionary and listed all the words commonly found in the 'purpose' with the help of tokenization, stemming and lemmatization. "
   ]
  },
  {
   "cell_type": "markdown",
   "metadata": {},
   "source": []
  },
  {
   "cell_type": "markdown",
   "metadata": {},
   "source": [
    "## Answer these questions"
   ]
  },
  {
   "cell_type": "markdown",
   "metadata": {},
   "source": [
    "- Is there a relation between having kids and repaying a loan on time?"
   ]
  },
  {
   "cell_type": "code",
   "execution_count": 189,
   "metadata": {},
   "outputs": [
    {
     "data": {
      "text/html": [
       "<div>\n",
       "<style scoped>\n",
       "    .dataframe tbody tr th:only-of-type {\n",
       "        vertical-align: middle;\n",
       "    }\n",
       "\n",
       "    .dataframe tbody tr th {\n",
       "        vertical-align: top;\n",
       "    }\n",
       "\n",
       "    .dataframe thead th {\n",
       "        text-align: right;\n",
       "    }\n",
       "</style>\n",
       "<table border=\"1\" class=\"dataframe\">\n",
       "  <thead>\n",
       "    <tr style=\"text-align: right;\">\n",
       "      <th>debt</th>\n",
       "      <th>children_group</th>\n",
       "      <th>False</th>\n",
       "      <th>True</th>\n",
       "      <th>All</th>\n",
       "      <th>default_rate</th>\n",
       "    </tr>\n",
       "  </thead>\n",
       "  <tbody>\n",
       "    <tr>\n",
       "      <td>4</td>\n",
       "      <td>4</td>\n",
       "      <td>37.0</td>\n",
       "      <td>4.0</td>\n",
       "      <td>41</td>\n",
       "      <td>9.756098</td>\n",
       "    </tr>\n",
       "    <tr>\n",
       "      <td>2</td>\n",
       "      <td>2</td>\n",
       "      <td>1926.0</td>\n",
       "      <td>202.0</td>\n",
       "      <td>2128</td>\n",
       "      <td>9.492481</td>\n",
       "    </tr>\n",
       "    <tr>\n",
       "      <td>1</td>\n",
       "      <td>1</td>\n",
       "      <td>4410.0</td>\n",
       "      <td>445.0</td>\n",
       "      <td>4855</td>\n",
       "      <td>9.165808</td>\n",
       "    </tr>\n",
       "    <tr>\n",
       "      <td>3</td>\n",
       "      <td>3</td>\n",
       "      <td>303.0</td>\n",
       "      <td>27.0</td>\n",
       "      <td>330</td>\n",
       "      <td>8.181818</td>\n",
       "    </tr>\n",
       "    <tr>\n",
       "      <td>6</td>\n",
       "      <td>All</td>\n",
       "      <td>19713.0</td>\n",
       "      <td>1741.0</td>\n",
       "      <td>21454</td>\n",
       "      <td>8.115037</td>\n",
       "    </tr>\n",
       "    <tr>\n",
       "      <td>0</td>\n",
       "      <td>0</td>\n",
       "      <td>13028.0</td>\n",
       "      <td>1063.0</td>\n",
       "      <td>14091</td>\n",
       "      <td>7.543822</td>\n",
       "    </tr>\n",
       "    <tr>\n",
       "      <td>5</td>\n",
       "      <td>5</td>\n",
       "      <td>9.0</td>\n",
       "      <td>0.0</td>\n",
       "      <td>9</td>\n",
       "      <td>0.000000</td>\n",
       "    </tr>\n",
       "  </tbody>\n",
       "</table>\n",
       "</div>"
      ],
      "text/plain": [
       "debt children_group    False    True    All  default_rate\n",
       "4                 4     37.0     4.0     41      9.756098\n",
       "2                 2   1926.0   202.0   2128      9.492481\n",
       "1                 1   4410.0   445.0   4855      9.165808\n",
       "3                 3    303.0    27.0    330      8.181818\n",
       "6               All  19713.0  1741.0  21454      8.115037\n",
       "0                 0  13028.0  1063.0  14091      7.543822\n",
       "5                 5      9.0     0.0      9      0.000000"
      ]
     },
     "execution_count": 189,
     "metadata": {},
     "output_type": "execute_result"
    }
   ],
   "source": [
    "# Calculate the default rates. \n",
    "debt_vs_children['default_rate'] = (debt_vs_children[1] / debt_vs_children['All']) * 100\n",
    "\n",
    "# View the pivot table with the default rate sorted in descending order. \n",
    "debt_vs_children.sort_values('default_rate', ascending = False).fillna(0)"
   ]
  },
  {
   "cell_type": "markdown",
   "metadata": {},
   "source": [
    "### Conclusion"
   ]
  },
  {
   "cell_type": "markdown",
   "metadata": {},
   "source": [
    "* Customers with no children have the lowest default rate at 7.54%, which is 0.58 percentage points below average. \n",
    "* Interestingly,all the  customers with 5 children manage to repay the loan on time, though the data volume is too small for it to be statistically viable.  \n",
    "* Customers with 4 children have the highest default rate at 9.76%, which is above average by 1.64 percentage points. \n",
    "* However, the default rate is not directly proportional to the number of children. "
   ]
  },
  {
   "cell_type": "markdown",
   "metadata": {},
   "source": [
    "<div class=\"alert alert-success\" style=\"box-shadow: 4px 4px 4px\">\n",
    "<b>Success:</b> Very interesting result, you did a good job with the data. Well done for using sorting!\n",
    "</div>"
   ]
  },
  {
   "cell_type": "markdown",
   "metadata": {},
   "source": []
  },
  {
   "cell_type": "markdown",
   "metadata": {},
   "source": [
    "- Is there a relation between marital status and repaying a loan on time?"
   ]
  },
  {
   "cell_type": "code",
   "execution_count": 190,
   "metadata": {},
   "outputs": [
    {
     "data": {
      "text/html": [
       "<div>\n",
       "<style scoped>\n",
       "    .dataframe tbody tr th:only-of-type {\n",
       "        vertical-align: middle;\n",
       "    }\n",
       "\n",
       "    .dataframe tbody tr th {\n",
       "        vertical-align: top;\n",
       "    }\n",
       "\n",
       "    .dataframe thead th {\n",
       "        text-align: right;\n",
       "    }\n",
       "</style>\n",
       "<table border=\"1\" class=\"dataframe\">\n",
       "  <thead>\n",
       "    <tr style=\"text-align: right;\">\n",
       "      <th>debt</th>\n",
       "      <th>family_status</th>\n",
       "      <th>False</th>\n",
       "      <th>True</th>\n",
       "      <th>All</th>\n",
       "      <th>default_rate</th>\n",
       "    </tr>\n",
       "  </thead>\n",
       "  <tbody>\n",
       "    <tr>\n",
       "      <td>3</td>\n",
       "      <td>unmarried</td>\n",
       "      <td>2536</td>\n",
       "      <td>274</td>\n",
       "      <td>2810</td>\n",
       "      <td>9.750890</td>\n",
       "    </tr>\n",
       "    <tr>\n",
       "      <td>0</td>\n",
       "      <td>civil partnership</td>\n",
       "      <td>3763</td>\n",
       "      <td>388</td>\n",
       "      <td>4151</td>\n",
       "      <td>9.347145</td>\n",
       "    </tr>\n",
       "    <tr>\n",
       "      <td>5</td>\n",
       "      <td>All</td>\n",
       "      <td>19713</td>\n",
       "      <td>1741</td>\n",
       "      <td>21454</td>\n",
       "      <td>8.115037</td>\n",
       "    </tr>\n",
       "    <tr>\n",
       "      <td>2</td>\n",
       "      <td>married</td>\n",
       "      <td>11408</td>\n",
       "      <td>931</td>\n",
       "      <td>12339</td>\n",
       "      <td>7.545182</td>\n",
       "    </tr>\n",
       "    <tr>\n",
       "      <td>1</td>\n",
       "      <td>divorced</td>\n",
       "      <td>1110</td>\n",
       "      <td>85</td>\n",
       "      <td>1195</td>\n",
       "      <td>7.112971</td>\n",
       "    </tr>\n",
       "    <tr>\n",
       "      <td>4</td>\n",
       "      <td>widow / widower</td>\n",
       "      <td>896</td>\n",
       "      <td>63</td>\n",
       "      <td>959</td>\n",
       "      <td>6.569343</td>\n",
       "    </tr>\n",
       "  </tbody>\n",
       "</table>\n",
       "</div>"
      ],
      "text/plain": [
       "debt      family_status  False  True    All  default_rate\n",
       "3             unmarried   2536   274   2810      9.750890\n",
       "0     civil partnership   3763   388   4151      9.347145\n",
       "5                   All  19713  1741  21454      8.115037\n",
       "2               married  11408   931  12339      7.545182\n",
       "1              divorced   1110    85   1195      7.112971\n",
       "4       widow / widower    896    63    959      6.569343"
      ]
     },
     "execution_count": 190,
     "metadata": {},
     "output_type": "execute_result"
    }
   ],
   "source": [
    "# Calculate the default rates per family status. \n",
    "debt_vs_family_status['default_rate'] = (debt_vs_family_status[1] / debt_vs_family_status['All']) * 100\n",
    "\n",
    "# View the pivot table with the default rate sorted in descending order. \n",
    "debt_vs_family_status.sort_values('default_rate', ascending = False)"
   ]
  },
  {
   "cell_type": "code",
   "execution_count": 191,
   "metadata": {},
   "outputs": [
    {
     "data": {
      "text/html": [
       "<div>\n",
       "<style scoped>\n",
       "    .dataframe tbody tr th:only-of-type {\n",
       "        vertical-align: middle;\n",
       "    }\n",
       "\n",
       "    .dataframe tbody tr th {\n",
       "        vertical-align: top;\n",
       "    }\n",
       "\n",
       "    .dataframe thead th {\n",
       "        text-align: right;\n",
       "    }\n",
       "</style>\n",
       "<table border=\"1\" class=\"dataframe\">\n",
       "  <thead>\n",
       "    <tr style=\"text-align: right;\">\n",
       "      <th>debt</th>\n",
       "      <th>family_status</th>\n",
       "      <th>children_group</th>\n",
       "      <th>False</th>\n",
       "      <th>True</th>\n",
       "      <th>All</th>\n",
       "      <th>default_rate</th>\n",
       "    </tr>\n",
       "  </thead>\n",
       "  <tbody>\n",
       "    <tr>\n",
       "      <td>21</td>\n",
       "      <td>unmarried</td>\n",
       "      <td>4</td>\n",
       "      <td>1.0</td>\n",
       "      <td>1.0</td>\n",
       "      <td>2</td>\n",
       "      <td>50.000000</td>\n",
       "    </tr>\n",
       "    <tr>\n",
       "      <td>3</td>\n",
       "      <td>civil partnership</td>\n",
       "      <td>3</td>\n",
       "      <td>48.0</td>\n",
       "      <td>8.0</td>\n",
       "      <td>56</td>\n",
       "      <td>14.285714</td>\n",
       "    </tr>\n",
       "    <tr>\n",
       "      <td>20</td>\n",
       "      <td>unmarried</td>\n",
       "      <td>3</td>\n",
       "      <td>7.0</td>\n",
       "      <td>1.0</td>\n",
       "      <td>8</td>\n",
       "      <td>12.500000</td>\n",
       "    </tr>\n",
       "    <tr>\n",
       "      <td>24</td>\n",
       "      <td>widow / widower</td>\n",
       "      <td>2</td>\n",
       "      <td>21.0</td>\n",
       "      <td>3.0</td>\n",
       "      <td>24</td>\n",
       "      <td>12.500000</td>\n",
       "    </tr>\n",
       "    <tr>\n",
       "      <td>19</td>\n",
       "      <td>unmarried</td>\n",
       "      <td>2</td>\n",
       "      <td>74.0</td>\n",
       "      <td>10.0</td>\n",
       "      <td>84</td>\n",
       "      <td>11.904762</td>\n",
       "    </tr>\n",
       "    <tr>\n",
       "      <td>1</td>\n",
       "      <td>civil partnership</td>\n",
       "      <td>1</td>\n",
       "      <td>882.0</td>\n",
       "      <td>118.0</td>\n",
       "      <td>1000</td>\n",
       "      <td>11.800000</td>\n",
       "    </tr>\n",
       "    <tr>\n",
       "      <td>18</td>\n",
       "      <td>unmarried</td>\n",
       "      <td>1</td>\n",
       "      <td>402.0</td>\n",
       "      <td>52.0</td>\n",
       "      <td>454</td>\n",
       "      <td>11.453744</td>\n",
       "    </tr>\n",
       "    <tr>\n",
       "      <td>15</td>\n",
       "      <td>married</td>\n",
       "      <td>4</td>\n",
       "      <td>26.0</td>\n",
       "      <td>3.0</td>\n",
       "      <td>29</td>\n",
       "      <td>10.344828</td>\n",
       "    </tr>\n",
       "    <tr>\n",
       "      <td>8</td>\n",
       "      <td>divorced</td>\n",
       "      <td>2</td>\n",
       "      <td>75.0</td>\n",
       "      <td>8.0</td>\n",
       "      <td>83</td>\n",
       "      <td>9.638554</td>\n",
       "    </tr>\n",
       "    <tr>\n",
       "      <td>13</td>\n",
       "      <td>married</td>\n",
       "      <td>2</td>\n",
       "      <td>1434.0</td>\n",
       "      <td>148.0</td>\n",
       "      <td>1582</td>\n",
       "      <td>9.355247</td>\n",
       "    </tr>\n",
       "    <tr>\n",
       "      <td>2</td>\n",
       "      <td>civil partnership</td>\n",
       "      <td>2</td>\n",
       "      <td>322.0</td>\n",
       "      <td>33.0</td>\n",
       "      <td>355</td>\n",
       "      <td>9.295775</td>\n",
       "    </tr>\n",
       "    <tr>\n",
       "      <td>17</td>\n",
       "      <td>unmarried</td>\n",
       "      <td>0</td>\n",
       "      <td>2052.0</td>\n",
       "      <td>210.0</td>\n",
       "      <td>2262</td>\n",
       "      <td>9.283820</td>\n",
       "    </tr>\n",
       "    <tr>\n",
       "      <td>9</td>\n",
       "      <td>divorced</td>\n",
       "      <td>3</td>\n",
       "      <td>10.0</td>\n",
       "      <td>1.0</td>\n",
       "      <td>11</td>\n",
       "      <td>9.090909</td>\n",
       "    </tr>\n",
       "    <tr>\n",
       "      <td>23</td>\n",
       "      <td>widow / widower</td>\n",
       "      <td>1</td>\n",
       "      <td>74.0</td>\n",
       "      <td>7.0</td>\n",
       "      <td>81</td>\n",
       "      <td>8.641975</td>\n",
       "    </tr>\n",
       "    <tr>\n",
       "      <td>0</td>\n",
       "      <td>civil partnership</td>\n",
       "      <td>0</td>\n",
       "      <td>2501.0</td>\n",
       "      <td>229.0</td>\n",
       "      <td>2730</td>\n",
       "      <td>8.388278</td>\n",
       "    </tr>\n",
       "    <tr>\n",
       "      <td>12</td>\n",
       "      <td>married</td>\n",
       "      <td>1</td>\n",
       "      <td>2757.0</td>\n",
       "      <td>247.0</td>\n",
       "      <td>3004</td>\n",
       "      <td>8.222370</td>\n",
       "    </tr>\n",
       "    <tr>\n",
       "      <td>27</td>\n",
       "      <td>All</td>\n",
       "      <td></td>\n",
       "      <td>19713.0</td>\n",
       "      <td>1741.0</td>\n",
       "      <td>21454</td>\n",
       "      <td>8.115037</td>\n",
       "    </tr>\n",
       "    <tr>\n",
       "      <td>6</td>\n",
       "      <td>divorced</td>\n",
       "      <td>0</td>\n",
       "      <td>729.0</td>\n",
       "      <td>55.0</td>\n",
       "      <td>784</td>\n",
       "      <td>7.015306</td>\n",
       "    </tr>\n",
       "    <tr>\n",
       "      <td>11</td>\n",
       "      <td>married</td>\n",
       "      <td>0</td>\n",
       "      <td>6952.0</td>\n",
       "      <td>516.0</td>\n",
       "      <td>7468</td>\n",
       "      <td>6.909480</td>\n",
       "    </tr>\n",
       "    <tr>\n",
       "      <td>14</td>\n",
       "      <td>married</td>\n",
       "      <td>3</td>\n",
       "      <td>232.0</td>\n",
       "      <td>17.0</td>\n",
       "      <td>249</td>\n",
       "      <td>6.827309</td>\n",
       "    </tr>\n",
       "    <tr>\n",
       "      <td>7</td>\n",
       "      <td>divorced</td>\n",
       "      <td>1</td>\n",
       "      <td>295.0</td>\n",
       "      <td>21.0</td>\n",
       "      <td>316</td>\n",
       "      <td>6.645570</td>\n",
       "    </tr>\n",
       "    <tr>\n",
       "      <td>22</td>\n",
       "      <td>widow / widower</td>\n",
       "      <td>0</td>\n",
       "      <td>794.0</td>\n",
       "      <td>53.0</td>\n",
       "      <td>847</td>\n",
       "      <td>6.257379</td>\n",
       "    </tr>\n",
       "    <tr>\n",
       "      <td>4</td>\n",
       "      <td>civil partnership</td>\n",
       "      <td>4</td>\n",
       "      <td>8.0</td>\n",
       "      <td>0.0</td>\n",
       "      <td>8</td>\n",
       "      <td>0.000000</td>\n",
       "    </tr>\n",
       "    <tr>\n",
       "      <td>5</td>\n",
       "      <td>civil partnership</td>\n",
       "      <td>5</td>\n",
       "      <td>2.0</td>\n",
       "      <td>0.0</td>\n",
       "      <td>2</td>\n",
       "      <td>0.000000</td>\n",
       "    </tr>\n",
       "    <tr>\n",
       "      <td>10</td>\n",
       "      <td>divorced</td>\n",
       "      <td>4</td>\n",
       "      <td>1.0</td>\n",
       "      <td>0.0</td>\n",
       "      <td>1</td>\n",
       "      <td>0.000000</td>\n",
       "    </tr>\n",
       "    <tr>\n",
       "      <td>16</td>\n",
       "      <td>married</td>\n",
       "      <td>5</td>\n",
       "      <td>7.0</td>\n",
       "      <td>0.0</td>\n",
       "      <td>7</td>\n",
       "      <td>0.000000</td>\n",
       "    </tr>\n",
       "    <tr>\n",
       "      <td>25</td>\n",
       "      <td>widow / widower</td>\n",
       "      <td>3</td>\n",
       "      <td>6.0</td>\n",
       "      <td>0.0</td>\n",
       "      <td>6</td>\n",
       "      <td>0.000000</td>\n",
       "    </tr>\n",
       "    <tr>\n",
       "      <td>26</td>\n",
       "      <td>widow / widower</td>\n",
       "      <td>4</td>\n",
       "      <td>1.0</td>\n",
       "      <td>0.0</td>\n",
       "      <td>1</td>\n",
       "      <td>0.000000</td>\n",
       "    </tr>\n",
       "  </tbody>\n",
       "</table>\n",
       "</div>"
      ],
      "text/plain": [
       "debt      family_status children_group    False    True    All  default_rate\n",
       "21            unmarried              4      1.0     1.0      2     50.000000\n",
       "3     civil partnership              3     48.0     8.0     56     14.285714\n",
       "20            unmarried              3      7.0     1.0      8     12.500000\n",
       "24      widow / widower              2     21.0     3.0     24     12.500000\n",
       "19            unmarried              2     74.0    10.0     84     11.904762\n",
       "1     civil partnership              1    882.0   118.0   1000     11.800000\n",
       "18            unmarried              1    402.0    52.0    454     11.453744\n",
       "15              married              4     26.0     3.0     29     10.344828\n",
       "8              divorced              2     75.0     8.0     83      9.638554\n",
       "13              married              2   1434.0   148.0   1582      9.355247\n",
       "2     civil partnership              2    322.0    33.0    355      9.295775\n",
       "17            unmarried              0   2052.0   210.0   2262      9.283820\n",
       "9              divorced              3     10.0     1.0     11      9.090909\n",
       "23      widow / widower              1     74.0     7.0     81      8.641975\n",
       "0     civil partnership              0   2501.0   229.0   2730      8.388278\n",
       "12              married              1   2757.0   247.0   3004      8.222370\n",
       "27                  All                 19713.0  1741.0  21454      8.115037\n",
       "6              divorced              0    729.0    55.0    784      7.015306\n",
       "11              married              0   6952.0   516.0   7468      6.909480\n",
       "14              married              3    232.0    17.0    249      6.827309\n",
       "7              divorced              1    295.0    21.0    316      6.645570\n",
       "22      widow / widower              0    794.0    53.0    847      6.257379\n",
       "4     civil partnership              4      8.0     0.0      8      0.000000\n",
       "5     civil partnership              5      2.0     0.0      2      0.000000\n",
       "10             divorced              4      1.0     0.0      1      0.000000\n",
       "16              married              5      7.0     0.0      7      0.000000\n",
       "25      widow / widower              3      6.0     0.0      6      0.000000\n",
       "26      widow / widower              4      1.0     0.0      1      0.000000"
      ]
     },
     "execution_count": 191,
     "metadata": {},
     "output_type": "execute_result"
    }
   ],
   "source": [
    "# Calculate the default rates per family status and the number of children in the family. \n",
    "debt_vs_children_and_family_status['default_rate'] = (debt_vs_children_and_family_status[1] / debt_vs_children_and_family_status['All']) * 100\n",
    "\n",
    "# View the pivot table with the default rate sorted in descending order. \n",
    "debt_vs_children_and_family_status.sort_values('default_rate', ascending = False).fillna(0)"
   ]
  },
  {
   "cell_type": "markdown",
   "metadata": {},
   "source": [
    "### Conclusion"
   ]
  },
  {
   "cell_type": "markdown",
   "metadata": {},
   "source": [
    "* Customers whose spouse has deceased have the lowest default rate at 6.57%, 1.55 percentage points less than the average. \n",
    "* Customers who are single have the highest default rate at 9.75%, 1.64 percentage points above the average. \n",
    "* The average default rate is 8.12%, which concurs with the figure from the statistics regarding the number of children. \n",
    "* Statistically, single parents with four children have the highest default rate. Although this is not surprising, since there is only one such case recorded out of two, we will need a much larger number of records to be able to draw a statistically significant conclusion. Also, this should be treated as an outlier since its difference from the common law couples figure in the second place is way too large (50 in comparison to 14.29). \n",
    "* Interestingly enough, common law couples with the highest numbers of children seem to be very good at repaying a loan.\n",
    "* It is also interesting to see that widows/widowers, married and divorced couples have the highest likelihood of paying off a loan successfully, despite the large number of children."
   ]
  },
  {
   "cell_type": "markdown",
   "metadata": {},
   "source": []
  },
  {
   "cell_type": "markdown",
   "metadata": {},
   "source": [
    "- Is there a relation between income level and repaying a loan on time?"
   ]
  },
  {
   "cell_type": "code",
   "execution_count": 192,
   "metadata": {},
   "outputs": [
    {
     "data": {
      "text/html": [
       "<div>\n",
       "<style scoped>\n",
       "    .dataframe tbody tr th:only-of-type {\n",
       "        vertical-align: middle;\n",
       "    }\n",
       "\n",
       "    .dataframe tbody tr th {\n",
       "        vertical-align: top;\n",
       "    }\n",
       "\n",
       "    .dataframe thead th {\n",
       "        text-align: right;\n",
       "    }\n",
       "</style>\n",
       "<table border=\"1\" class=\"dataframe\">\n",
       "  <thead>\n",
       "    <tr style=\"text-align: right;\">\n",
       "      <th>debt</th>\n",
       "      <th>income_level</th>\n",
       "      <th>False</th>\n",
       "      <th>True</th>\n",
       "      <th>All</th>\n",
       "      <th>default_rate</th>\n",
       "    </tr>\n",
       "  </thead>\n",
       "  <tbody>\n",
       "    <tr>\n",
       "      <td>10</td>\n",
       "      <td>95K - 105K</td>\n",
       "      <td>28</td>\n",
       "      <td>3</td>\n",
       "      <td>31</td>\n",
       "      <td>9.677419</td>\n",
       "    </tr>\n",
       "    <tr>\n",
       "      <td>1</td>\n",
       "      <td>15K - 25K</td>\n",
       "      <td>6407</td>\n",
       "      <td>598</td>\n",
       "      <td>7005</td>\n",
       "      <td>8.536759</td>\n",
       "    </tr>\n",
       "    <tr>\n",
       "      <td>2</td>\n",
       "      <td>25K - 35K</td>\n",
       "      <td>4150</td>\n",
       "      <td>385</td>\n",
       "      <td>4535</td>\n",
       "      <td>8.489526</td>\n",
       "    </tr>\n",
       "    <tr>\n",
       "      <td>14</td>\n",
       "      <td>All</td>\n",
       "      <td>19713</td>\n",
       "      <td>1741</td>\n",
       "      <td>21454</td>\n",
       "      <td>8.115037</td>\n",
       "    </tr>\n",
       "    <tr>\n",
       "      <td>13</td>\n",
       "      <td>Data not provided</td>\n",
       "      <td>1933</td>\n",
       "      <td>170</td>\n",
       "      <td>2103</td>\n",
       "      <td>8.083690</td>\n",
       "    </tr>\n",
       "    <tr>\n",
       "      <td>7</td>\n",
       "      <td>5K - 15K</td>\n",
       "      <td>3421</td>\n",
       "      <td>296</td>\n",
       "      <td>3717</td>\n",
       "      <td>7.963411</td>\n",
       "    </tr>\n",
       "    <tr>\n",
       "      <td>11</td>\n",
       "      <td>&lt; 5K</td>\n",
       "      <td>24</td>\n",
       "      <td>2</td>\n",
       "      <td>26</td>\n",
       "      <td>7.692308</td>\n",
       "    </tr>\n",
       "    <tr>\n",
       "      <td>4</td>\n",
       "      <td>45K - 55K</td>\n",
       "      <td>854</td>\n",
       "      <td>70</td>\n",
       "      <td>924</td>\n",
       "      <td>7.575758</td>\n",
       "    </tr>\n",
       "    <tr>\n",
       "      <td>12</td>\n",
       "      <td>&gt; 115K</td>\n",
       "      <td>49</td>\n",
       "      <td>4</td>\n",
       "      <td>53</td>\n",
       "      <td>7.547170</td>\n",
       "    </tr>\n",
       "    <tr>\n",
       "      <td>5</td>\n",
       "      <td>55K - 65K</td>\n",
       "      <td>408</td>\n",
       "      <td>33</td>\n",
       "      <td>441</td>\n",
       "      <td>7.482993</td>\n",
       "    </tr>\n",
       "    <tr>\n",
       "      <td>3</td>\n",
       "      <td>35K - 45K</td>\n",
       "      <td>2051</td>\n",
       "      <td>158</td>\n",
       "      <td>2209</td>\n",
       "      <td>7.152558</td>\n",
       "    </tr>\n",
       "    <tr>\n",
       "      <td>6</td>\n",
       "      <td>55K - 75K</td>\n",
       "      <td>193</td>\n",
       "      <td>13</td>\n",
       "      <td>206</td>\n",
       "      <td>6.310680</td>\n",
       "    </tr>\n",
       "    <tr>\n",
       "      <td>8</td>\n",
       "      <td>75K - 85K</td>\n",
       "      <td>110</td>\n",
       "      <td>6</td>\n",
       "      <td>116</td>\n",
       "      <td>5.172414</td>\n",
       "    </tr>\n",
       "    <tr>\n",
       "      <td>9</td>\n",
       "      <td>85K - 95K</td>\n",
       "      <td>56</td>\n",
       "      <td>2</td>\n",
       "      <td>58</td>\n",
       "      <td>3.448276</td>\n",
       "    </tr>\n",
       "    <tr>\n",
       "      <td>0</td>\n",
       "      <td>105K - 115K</td>\n",
       "      <td>29</td>\n",
       "      <td>1</td>\n",
       "      <td>30</td>\n",
       "      <td>3.333333</td>\n",
       "    </tr>\n",
       "  </tbody>\n",
       "</table>\n",
       "</div>"
      ],
      "text/plain": [
       "debt       income_level  False  True    All  default_rate\n",
       "10           95K - 105K     28     3     31      9.677419\n",
       "1             15K - 25K   6407   598   7005      8.536759\n",
       "2             25K - 35K   4150   385   4535      8.489526\n",
       "14                  All  19713  1741  21454      8.115037\n",
       "13    Data not provided   1933   170   2103      8.083690\n",
       "7              5K - 15K   3421   296   3717      7.963411\n",
       "11                 < 5K     24     2     26      7.692308\n",
       "4             45K - 55K    854    70    924      7.575758\n",
       "12               > 115K     49     4     53      7.547170\n",
       "5             55K - 65K    408    33    441      7.482993\n",
       "3             35K - 45K   2051   158   2209      7.152558\n",
       "6             55K - 75K    193    13    206      6.310680\n",
       "8             75K - 85K    110     6    116      5.172414\n",
       "9             85K - 95K     56     2     58      3.448276\n",
       "0           105K - 115K     29     1     30      3.333333"
      ]
     },
     "execution_count": 192,
     "metadata": {},
     "output_type": "execute_result"
    }
   ],
   "source": [
    "# Calculate the default rates. \n",
    "debt_vs_income_level['default_rate'] = (debt_vs_income_level[1] / debt_vs_income_level['All']) * 100\n",
    "\n",
    "# View the pivot table with the default rate sorted in descending order. \n",
    "debt_vs_income_level.sort_values('default_rate', ascending = False)"
   ]
  },
  {
   "cell_type": "code",
   "execution_count": 193,
   "metadata": {},
   "outputs": [
    {
     "name": "stdout",
     "output_type": "stream",
     "text": [
      "21724.97\n"
     ]
    }
   ],
   "source": [
    "# Check the median of the 'total_income' column.\n",
    "median = data.total_income.median()\n",
    "\n",
    "# View the median.\n",
    "print('{:.2f}'.format(median))"
   ]
  },
  {
   "cell_type": "code",
   "execution_count": 194,
   "metadata": {},
   "outputs": [
    {
     "data": {
      "text/html": [
       "<div>\n",
       "<style scoped>\n",
       "    .dataframe tbody tr th:only-of-type {\n",
       "        vertical-align: middle;\n",
       "    }\n",
       "\n",
       "    .dataframe tbody tr th {\n",
       "        vertical-align: top;\n",
       "    }\n",
       "\n",
       "    .dataframe thead th {\n",
       "        text-align: right;\n",
       "    }\n",
       "</style>\n",
       "<table border=\"1\" class=\"dataframe\">\n",
       "  <thead>\n",
       "    <tr style=\"text-align: right;\">\n",
       "      <th>income_level</th>\n",
       "      <th>family_status</th>\n",
       "      <th>105K - 115K</th>\n",
       "      <th>15K - 25K</th>\n",
       "      <th>25K - 35K</th>\n",
       "      <th>35K - 45K</th>\n",
       "      <th>45K - 55K</th>\n",
       "      <th>55K - 65K</th>\n",
       "      <th>55K - 75K</th>\n",
       "      <th>5K - 15K</th>\n",
       "      <th>75K - 85K</th>\n",
       "      <th>85K - 95K</th>\n",
       "      <th>95K - 105K</th>\n",
       "      <th>&lt; 5K</th>\n",
       "      <th>&gt; 115K</th>\n",
       "      <th>Data not provided</th>\n",
       "      <th>All</th>\n",
       "    </tr>\n",
       "  </thead>\n",
       "  <tbody>\n",
       "    <tr>\n",
       "      <td>0</td>\n",
       "      <td>civil partnership</td>\n",
       "      <td>6.0</td>\n",
       "      <td>1378.0</td>\n",
       "      <td>865.0</td>\n",
       "      <td>428.0</td>\n",
       "      <td>189.0</td>\n",
       "      <td>79.0</td>\n",
       "      <td>36.0</td>\n",
       "      <td>707.0</td>\n",
       "      <td>17.0</td>\n",
       "      <td>8.0</td>\n",
       "      <td>3.0</td>\n",
       "      <td>7.0</td>\n",
       "      <td>12.0</td>\n",
       "      <td>416.0</td>\n",
       "      <td>4151</td>\n",
       "    </tr>\n",
       "    <tr>\n",
       "      <td>1</td>\n",
       "      <td>divorced</td>\n",
       "      <td>0.0</td>\n",
       "      <td>376.0</td>\n",
       "      <td>262.0</td>\n",
       "      <td>127.0</td>\n",
       "      <td>55.0</td>\n",
       "      <td>26.0</td>\n",
       "      <td>8.0</td>\n",
       "      <td>211.0</td>\n",
       "      <td>9.0</td>\n",
       "      <td>4.0</td>\n",
       "      <td>2.0</td>\n",
       "      <td>0.0</td>\n",
       "      <td>3.0</td>\n",
       "      <td>112.0</td>\n",
       "      <td>1195</td>\n",
       "    </tr>\n",
       "    <tr>\n",
       "      <td>2</td>\n",
       "      <td>married</td>\n",
       "      <td>18.0</td>\n",
       "      <td>3957.0</td>\n",
       "      <td>2651.0</td>\n",
       "      <td>1273.0</td>\n",
       "      <td>551.0</td>\n",
       "      <td>269.0</td>\n",
       "      <td>126.0</td>\n",
       "      <td>2117.0</td>\n",
       "      <td>74.0</td>\n",
       "      <td>40.0</td>\n",
       "      <td>19.0</td>\n",
       "      <td>17.0</td>\n",
       "      <td>31.0</td>\n",
       "      <td>1196.0</td>\n",
       "      <td>12339</td>\n",
       "    </tr>\n",
       "    <tr>\n",
       "      <td>3</td>\n",
       "      <td>unmarried</td>\n",
       "      <td>6.0</td>\n",
       "      <td>961.0</td>\n",
       "      <td>594.0</td>\n",
       "      <td>297.0</td>\n",
       "      <td>109.0</td>\n",
       "      <td>55.0</td>\n",
       "      <td>31.0</td>\n",
       "      <td>439.0</td>\n",
       "      <td>16.0</td>\n",
       "      <td>3.0</td>\n",
       "      <td>6.0</td>\n",
       "      <td>2.0</td>\n",
       "      <td>6.0</td>\n",
       "      <td>285.0</td>\n",
       "      <td>2810</td>\n",
       "    </tr>\n",
       "    <tr>\n",
       "      <td>4</td>\n",
       "      <td>widow / widower</td>\n",
       "      <td>0.0</td>\n",
       "      <td>333.0</td>\n",
       "      <td>163.0</td>\n",
       "      <td>84.0</td>\n",
       "      <td>20.0</td>\n",
       "      <td>12.0</td>\n",
       "      <td>5.0</td>\n",
       "      <td>243.0</td>\n",
       "      <td>0.0</td>\n",
       "      <td>3.0</td>\n",
       "      <td>1.0</td>\n",
       "      <td>0.0</td>\n",
       "      <td>1.0</td>\n",
       "      <td>94.0</td>\n",
       "      <td>959</td>\n",
       "    </tr>\n",
       "    <tr>\n",
       "      <td>5</td>\n",
       "      <td>All</td>\n",
       "      <td>30.0</td>\n",
       "      <td>7005.0</td>\n",
       "      <td>4535.0</td>\n",
       "      <td>2209.0</td>\n",
       "      <td>924.0</td>\n",
       "      <td>441.0</td>\n",
       "      <td>206.0</td>\n",
       "      <td>3717.0</td>\n",
       "      <td>116.0</td>\n",
       "      <td>58.0</td>\n",
       "      <td>31.0</td>\n",
       "      <td>26.0</td>\n",
       "      <td>53.0</td>\n",
       "      <td>2103.0</td>\n",
       "      <td>21454</td>\n",
       "    </tr>\n",
       "  </tbody>\n",
       "</table>\n",
       "</div>"
      ],
      "text/plain": [
       "income_level      family_status  105K - 115K  15K - 25K  25K - 35K  35K - 45K  \\\n",
       "0             civil partnership          6.0     1378.0      865.0      428.0   \n",
       "1                      divorced          0.0      376.0      262.0      127.0   \n",
       "2                       married         18.0     3957.0     2651.0     1273.0   \n",
       "3                     unmarried          6.0      961.0      594.0      297.0   \n",
       "4               widow / widower          0.0      333.0      163.0       84.0   \n",
       "5                           All         30.0     7005.0     4535.0     2209.0   \n",
       "\n",
       "income_level  45K - 55K  55K - 65K  55K - 75K  5K - 15K  75K - 85K  85K - 95K  \\\n",
       "0                 189.0       79.0       36.0     707.0       17.0        8.0   \n",
       "1                  55.0       26.0        8.0     211.0        9.0        4.0   \n",
       "2                 551.0      269.0      126.0    2117.0       74.0       40.0   \n",
       "3                 109.0       55.0       31.0     439.0       16.0        3.0   \n",
       "4                  20.0       12.0        5.0     243.0        0.0        3.0   \n",
       "5                 924.0      441.0      206.0    3717.0      116.0       58.0   \n",
       "\n",
       "income_level  95K - 105K  < 5K  > 115K  Data not provided    All  \n",
       "0                    3.0   7.0    12.0              416.0   4151  \n",
       "1                    2.0   0.0     3.0              112.0   1195  \n",
       "2                   19.0  17.0    31.0             1196.0  12339  \n",
       "3                    6.0   2.0     6.0              285.0   2810  \n",
       "4                    1.0   0.0     1.0               94.0    959  \n",
       "5                   31.0  26.0    53.0             2103.0  21454  "
      ]
     },
     "execution_count": 194,
     "metadata": {},
     "output_type": "execute_result"
    }
   ],
   "source": [
    "# Check the family status in the income level groups. \n",
    "income_level_vs_family_status = data.pivot_table(index = 'family_status', columns = 'income_level', values='family_status_id', aggfunc = 'count', margins = True).reset_index()\n",
    "\n",
    "# View the pivot table. \n",
    "income_level_vs_family_status.fillna(0)"
   ]
  },
  {
   "cell_type": "markdown",
   "metadata": {},
   "source": [
    "### Conclusion"
   ]
  },
  {
   "cell_type": "markdown",
   "metadata": {},
   "source": [
    "* Customers in the 105K - 115K income level tend to have the lowest default rate at 3.33%. \n",
    "* Customers in the 95K - 105K income level tend to have the highest default rate at 9.68%. \n",
    "* In both income level groups above, the majority are married. \n",
    "* The majority (21.14%) are in the 15K - 35K income level and tend to have an above-average default rate at 8.52%. \n",
    "* The average default rate is 8.12%, which concurs with the figure from the statistics regarding the number of children and \n",
    "* the family status. \n",
    "* Higher income levels do not indicate lower default rates.  \n",
    "* Customers who probably did not wish to provide the data have a just below average default rate at 8.08%. The vast majority are married. \n",
    "* With the median total income of 21724.97, the 15K - 25K income level group ranks in the second place, feeling the need to borrow, then finding themselves unable to repay the loan. "
   ]
  },
  {
   "cell_type": "markdown",
   "metadata": {},
   "source": [
    "<div class=\"alert alert-success\" style=\"box-shadow: 4px 4px 4px\">\n",
    "<b>Success:</b> Well done!\n",
    "</div>"
   ]
  },
  {
   "cell_type": "markdown",
   "metadata": {},
   "source": []
  },
  {
   "cell_type": "markdown",
   "metadata": {},
   "source": [
    "- How do different loan purposes affect on-time repayment of the loan?"
   ]
  },
  {
   "cell_type": "code",
   "execution_count": 195,
   "metadata": {},
   "outputs": [
    {
     "data": {
      "text/html": [
       "<div>\n",
       "<style scoped>\n",
       "    .dataframe tbody tr th:only-of-type {\n",
       "        vertical-align: middle;\n",
       "    }\n",
       "\n",
       "    .dataframe tbody tr th {\n",
       "        vertical-align: top;\n",
       "    }\n",
       "\n",
       "    .dataframe thead th {\n",
       "        text-align: right;\n",
       "    }\n",
       "</style>\n",
       "<table border=\"1\" class=\"dataframe\">\n",
       "  <thead>\n",
       "    <tr style=\"text-align: right;\">\n",
       "      <th>debt</th>\n",
       "      <th>purpose_category</th>\n",
       "      <th>False</th>\n",
       "      <th>True</th>\n",
       "      <th>All</th>\n",
       "      <th>default_rate</th>\n",
       "    </tr>\n",
       "  </thead>\n",
       "  <tbody>\n",
       "    <tr>\n",
       "      <td>0</td>\n",
       "      <td>car</td>\n",
       "      <td>1316</td>\n",
       "      <td>134</td>\n",
       "      <td>1450</td>\n",
       "      <td>9.241379</td>\n",
       "    </tr>\n",
       "    <tr>\n",
       "      <td>1</td>\n",
       "      <td>education</td>\n",
       "      <td>3643</td>\n",
       "      <td>370</td>\n",
       "      <td>4013</td>\n",
       "      <td>9.220035</td>\n",
       "    </tr>\n",
       "    <tr>\n",
       "      <td>4</td>\n",
       "      <td>All</td>\n",
       "      <td>19713</td>\n",
       "      <td>1741</td>\n",
       "      <td>21454</td>\n",
       "      <td>8.115037</td>\n",
       "    </tr>\n",
       "    <tr>\n",
       "      <td>3</td>\n",
       "      <td>wedding</td>\n",
       "      <td>2138</td>\n",
       "      <td>186</td>\n",
       "      <td>2324</td>\n",
       "      <td>8.003442</td>\n",
       "    </tr>\n",
       "    <tr>\n",
       "      <td>2</td>\n",
       "      <td>real estate</td>\n",
       "      <td>12616</td>\n",
       "      <td>1051</td>\n",
       "      <td>13667</td>\n",
       "      <td>7.690056</td>\n",
       "    </tr>\n",
       "  </tbody>\n",
       "</table>\n",
       "</div>"
      ],
      "text/plain": [
       "debt purpose_category  False  True    All  default_rate\n",
       "0                 car   1316   134   1450      9.241379\n",
       "1           education   3643   370   4013      9.220035\n",
       "4                 All  19713  1741  21454      8.115037\n",
       "3             wedding   2138   186   2324      8.003442\n",
       "2         real estate  12616  1051  13667      7.690056"
      ]
     },
     "execution_count": 195,
     "metadata": {},
     "output_type": "execute_result"
    }
   ],
   "source": [
    "# Calculate the default rates. \n",
    "debt_vs_purpose['default_rate'] = (debt_vs_purpose[1] / debt_vs_purpose['All']) * 100\n",
    "\n",
    "# View the pivot table with the default rate sorted in descending order. \n",
    "debt_vs_purpose.sort_values('default_rate', ascending = False)"
   ]
  },
  {
   "cell_type": "markdown",
   "metadata": {},
   "source": [
    "### Conclusion"
   ]
  },
  {
   "cell_type": "markdown",
   "metadata": {},
   "source": [
    "* Customers who request a loan for automotive related purposes have the highest default rate at 9.24%. \n",
    "* Customers who request a loan for real estate related purposes have the lowest default rate at 7.69%. \n",
    "* The average default rate is 8.12%, which concurs with the figure from the statistics regarding the number of children, the family status and the income level. "
   ]
  },
  {
   "cell_type": "markdown",
   "metadata": {},
   "source": []
  },
  {
   "cell_type": "markdown",
   "metadata": {},
   "source": [
    "## General conclusion"
   ]
  },
  {
   "cell_type": "markdown",
   "metadata": {},
   "source": [
    "We were given some data on loan applicants, including their marital status, how many children they have, the reason for them asking for a loan, together with their history on a previous loan request and whether or not they managed to repay it on time. \n",
    "\n",
    "<br>The analysis of the data showed that out of all the customers, 91.88% did manage to repay a loan on time. \n",
    "\n",
    "<br>Regarding the 8.12% who did not, we found the following: \n",
    "* Customers with no children had the lowest default rate, and single parents and common law couples with three or four children, the highest. There was no clear sign that the default rate increased predictably with the number of children. \n",
    "* Again, though there is only a handful of cases, all the customers other than those who are single parents had the highest likelihood of paying off a loan successfully, despite the large number of children.\n",
    "* There were largely three groups of loan defaulters with above-average default rates, who were either married, common law couples or single parents, all with small number of children. \n",
    "* In terms of income levels, there seemed to be a fine line between the 105K - 115K and 95K - 105 groups, where the former had the lowest default rate in the chart, and the latter, the highest. In both income groups, the majority were married. \n",
    "* With the median total income of 21724.97, the majority of the loan requestors fell in the 15K - 35K income bracket, and had the second highest default rate.  \n",
    "* On the whole, higher income levels did not indicate lower default rates.  \n",
    "* Customers who probably did not wish to provide the data had a just-below-average default rate. The vast majority were married. "
   ]
  },
  {
   "cell_type": "markdown",
   "metadata": {},
   "source": [
    "<div class=\"alert alert-success\" style=\"box-shadow: 4px 4px 4px\">\n",
    "<b>Success:</b> You have done a great job! Your results are really impressive!\n",
    "</div>"
   ]
  },
  {
   "cell_type": "markdown",
   "metadata": {},
   "source": []
  },
  {
   "cell_type": "markdown",
   "metadata": {},
   "source": [
    "[Summary] The factors that lead to above-average default rates are as follows:\n",
    "* Number of children: 4, 2, 1, 3\n",
    "* Family status: unmarried, civil partnership\n",
    "* Income level: 95K - 105K, 15K - 25K, 25K - 35K\n",
    "* Words in purpose: car, education"
   ]
  },
  {
   "cell_type": "markdown",
   "metadata": {},
   "source": [
    "<div class=\"alert alert-success\" style=\"box-shadow: 4px 4px 4px\">\n",
    "<b>Success:</b> 👍\n",
    "    More information about forecasting methods will be in the know, you will be interested)\n",
    "</div>"
   ]
  },
  {
   "cell_type": "markdown",
   "metadata": {},
   "source": [
    "However, if I \"predict\" the likelihood of a customer defaulting on a loan from the 'children', 'family_status', 'income_level' and 'purpose_category' variables, it does not match the actual values in 'debt'. \n",
    "\n",
    "* Number of customers who did not repay the loan on time (i.e. 'debt' == 1): 1741\n",
    "* Number predicted from the 4 variables: 18388\n",
    "\n",
    "Below are the calculations."
   ]
  },
  {
   "cell_type": "markdown",
   "metadata": {},
   "source": [
    "Define the dictionaries in terms of the factors leading to above-average default rates."
   ]
  },
  {
   "cell_type": "code",
   "execution_count": 217,
   "metadata": {},
   "outputs": [],
   "source": [
    "above_avg_rates_children_group = {'1': ['4', '2', '1', '3']}\n",
    "above_avg_rates_family_status = {'1': ['unmarried', 'civil partnership']}\n",
    "above_avg_rates_income_level = {'1': ['95K - 105K', '15K - 25K', '25K - 35K']}\n",
    "above_avg_rates_purpose_category = {'1': ['car', 'education']}"
   ]
  },
  {
   "cell_type": "markdown",
   "metadata": {},
   "source": [
    "Check whether the 'children_group' column values are in the designated dictionary or not."
   ]
  },
  {
   "cell_type": "code",
   "execution_count": 219,
   "metadata": {},
   "outputs": [],
   "source": [
    "# If it is not, it means the columm value is in the above-average default rate group. \n",
    "for key, value in above_avg_rates_children_group.items():\n",
    "     filter_column = data['children_group'].str.contains('|'.join(value))\n",
    "data['children_group_verdict'] = filter_column\n",
    "data['children_group_verdict'] = data['children_group_verdict'].astype(int)\n",
    "\n",
    "# Verify it worked. \n",
    "#data.children_group_verdict.head(10)"
   ]
  },
  {
   "cell_type": "markdown",
   "metadata": {},
   "source": [
    "Check whether the 'family_status' column values are in the designated dictionary or not."
   ]
  },
  {
   "cell_type": "code",
   "execution_count": 220,
   "metadata": {},
   "outputs": [],
   "source": [
    "# If it is, it means the columm value is in the above-average default rate group. \n",
    "for key, value in above_avg_rates_family_status.items():\n",
    "     filter_column = data['family_status'].str.contains('|'.join(value))\n",
    "data['family_status_verdict'] = filter_column\n",
    "data['family_status_verdict'] = data['family_status_verdict'].astype(int)\n",
    "\n",
    "# Verify it worked. \n",
    "#data.family_status_verdict.head(10)"
   ]
  },
  {
   "cell_type": "markdown",
   "metadata": {},
   "source": [
    "Check whether the 'income_level' column values are in the designated dictionary or not."
   ]
  },
  {
   "cell_type": "code",
   "execution_count": 221,
   "metadata": {},
   "outputs": [],
   "source": [
    "# If it is, it means the columm value is in the above-average default rate group. \n",
    "for key, value in above_avg_rates_income_level.items():\n",
    "    filter_column = data['income_level'].str.contains('|'.join(value))\n",
    "data['income_level_verdict'] = filter_column\n",
    "data['income_level_verdict'] = data['income_level_verdict'].astype(int)\n",
    "\n",
    "# Verify it worked. \n",
    "#data.income_level_verdict.head(10)"
   ]
  },
  {
   "cell_type": "markdown",
   "metadata": {},
   "source": [
    "Check whether the 'purpose_category' column values are in the designated dictionary or not."
   ]
  },
  {
   "cell_type": "code",
   "execution_count": 222,
   "metadata": {},
   "outputs": [],
   "source": [
    "# If it is, it means the columm value is in the above-average default rate group. \n",
    "for key, value in above_avg_rates_purpose_category.items():\n",
    "    filter_column = data['purpose_category'].str.contains('|'.join(value))\n",
    "data['purpose_category_verdict'] = filter_column\n",
    "data['purpose_category_verdict'] = data['purpose_category_verdict'].astype(int)\n",
    "\n",
    "# Verify it worked.\n",
    "#data.purpose_category_verdict.head(10)"
   ]
  },
  {
   "cell_type": "code",
   "execution_count": 240,
   "metadata": {},
   "outputs": [],
   "source": [
    "# Add up the 4 columns and divide by 4 to calculate the overall likelihood of defaulting. Store the value in a new column. \n",
    "sum_column = data['children_group_verdict'] + data['family_status_verdict'] + data['income_level_verdict'] + data['purpose_category_verdict']\n",
    "data['final_verdict'] = sum_column / 4"
   ]
  },
  {
   "cell_type": "code",
   "execution_count": 242,
   "metadata": {},
   "outputs": [
    {
     "data": {
      "text/plain": [
       "children                    1741\n",
       "days_employed               1389\n",
       "age                         1741\n",
       "education                   1741\n",
       "education_id                1741\n",
       "family_status               1741\n",
       "family_status_id            1741\n",
       "gender                      1741\n",
       "income_type                 1741\n",
       "debt                        1741\n",
       "total_income                1741\n",
       "purpose                     1741\n",
       "days_employed_years         1741\n",
       "children_group              1741\n",
       "income_level                1741\n",
       "purpose_category            1741\n",
       "children_group_verdict      1741\n",
       "family_status_verdict       1741\n",
       "income_level_verdict        1741\n",
       "purpose_category_verdict    1741\n",
       "final_verdict               1741\n",
       "dtype: int64"
      ]
     },
     "execution_count": 242,
     "metadata": {},
     "output_type": "execute_result"
    }
   ],
   "source": [
    "# Count the rows where the customer defaulted on a loan. \n",
    "data[data['debt'] == 1].count()"
   ]
  },
  {
   "cell_type": "code",
   "execution_count": 244,
   "metadata": {},
   "outputs": [
    {
     "data": {
      "text/plain": [
       "children                    18388\n",
       "days_employed               14196\n",
       "age                         18388\n",
       "education                   18388\n",
       "education_id                18388\n",
       "family_status               18388\n",
       "family_status_id            18388\n",
       "gender                      18388\n",
       "income_type                 18388\n",
       "debt                        18388\n",
       "total_income                18388\n",
       "purpose                     18388\n",
       "days_employed_years         18388\n",
       "children_group              18388\n",
       "income_level                18388\n",
       "purpose_category            18388\n",
       "children_group_verdict      18388\n",
       "family_status_verdict       18388\n",
       "income_level_verdict        18388\n",
       "purpose_category_verdict    18388\n",
       "final_verdict               18388\n",
       "dtype: int64"
      ]
     },
     "execution_count": 244,
     "metadata": {},
     "output_type": "execute_result"
    }
   ],
   "source": [
    "# Count the rows where the 'final_verdict' predicted a non-zero default rate from 'children', 'family_status', \n",
    "# 'income_level' and 'purpose'.\n",
    "data[data['final_verdict'] != 0.00].count()"
   ]
  },
  {
   "cell_type": "markdown",
   "metadata": {},
   "source": [
    "## Project Readiness Checklist\n",
    "\n",
    "Put 'x' in the completed points. Then press Shift + Enter."
   ]
  },
  {
   "cell_type": "markdown",
   "metadata": {},
   "source": [
    "- [x]  file open;\n",
    "- [x]  file examined;\n",
    "- [x]  missing values defined;\n",
    "- [x]  missing values are filled;\n",
    "- [x]  an explanation of which missing value types were detected;\n",
    "- [x]  explanation for the possible causes of missing values;\n",
    "- [x]  an explanation of how the blanks are filled;\n",
    "- [x]  replaced the real data type with an integer;\n",
    "- [x]  an explanation of which method is used to change the data type and why;\n",
    "- [x]  duplicates deleted;\n",
    "- [x]  an explanation of which method is used to find and remove duplicates;\n",
    "- [x]  description of the possible reasons for the appearance of duplicates in the data;\n",
    "- [x]  data is categorized;\n",
    "- [x]  an explanation of the principle of data categorization;\n",
    "- [x]  an answer to the question \"Is there a relation between having kids and repaying a loan on time?\";\n",
    "- [x]  an answer to the question \" Is there a relation between marital status and repaying a loan on time?\";\n",
    "- [x]   an answer to the question \" Is there a relation between income level and repaying a loan on time?\";\n",
    "- [x]  an answer to the question \" How do different loan purposes affect on-time repayment of the loan?\"\n",
    "- [x]  conclusions are present on each stage;\n",
    "- [x]  a general conclusion is made."
   ]
  },
  {
   "cell_type": "code",
   "execution_count": null,
   "metadata": {},
   "outputs": [],
   "source": []
  }
 ],
 "metadata": {
  "ExecuteTimeLog": [
   {
    "duration": 1104,
    "start_time": "2021-06-16T10:46:49.129Z"
   },
   {
    "duration": 2,
    "start_time": "2021-06-16T10:47:01.677Z"
   },
   {
    "duration": 146,
    "start_time": "2021-06-16T10:47:17.700Z"
   },
   {
    "duration": 3,
    "start_time": "2021-06-16T10:47:23.276Z"
   },
   {
    "duration": 18,
    "start_time": "2021-06-16T10:47:26.254Z"
   },
   {
    "duration": 10,
    "start_time": "2021-06-16T10:47:31.900Z"
   },
   {
    "duration": 31,
    "start_time": "2021-06-16T10:47:41.860Z"
   },
   {
    "duration": 5,
    "start_time": "2021-06-16T10:47:47.300Z"
   },
   {
    "duration": 5,
    "start_time": "2021-06-16T10:47:50.484Z"
   },
   {
    "duration": 5,
    "start_time": "2021-06-16T10:47:54.251Z"
   },
   {
    "duration": 4,
    "start_time": "2021-06-16T10:48:02.851Z"
   },
   {
    "duration": 5,
    "start_time": "2021-06-16T10:48:06.748Z"
   },
   {
    "duration": 5,
    "start_time": "2021-06-16T10:48:09.572Z"
   },
   {
    "duration": 4,
    "start_time": "2021-06-16T10:48:12.468Z"
   },
   {
    "duration": 5,
    "start_time": "2021-06-16T10:48:17.796Z"
   },
   {
    "duration": 4,
    "start_time": "2021-06-16T10:48:20.948Z"
   },
   {
    "duration": 5,
    "start_time": "2021-06-16T10:48:24.091Z"
   },
   {
    "duration": 2,
    "start_time": "2021-06-16T10:48:30.051Z"
   },
   {
    "duration": 14,
    "start_time": "2021-06-16T10:48:40.546Z"
   },
   {
    "duration": 15,
    "start_time": "2021-06-16T10:48:46.845Z"
   },
   {
    "duration": 17,
    "start_time": "2021-06-16T10:48:52.444Z"
   },
   {
    "duration": 10,
    "start_time": "2021-06-16T10:48:58.907Z"
   },
   {
    "duration": 9,
    "start_time": "2021-06-16T10:49:03.797Z"
   },
   {
    "duration": 10,
    "start_time": "2021-06-16T10:49:07.771Z"
   },
   {
    "duration": 3,
    "start_time": "2021-06-16T10:49:16.983Z"
   },
   {
    "duration": 2,
    "start_time": "2021-06-16T10:49:32.485Z"
   },
   {
    "duration": 9,
    "start_time": "2021-06-16T10:49:36.030Z"
   },
   {
    "duration": 11,
    "start_time": "2021-06-16T10:49:41.084Z"
   },
   {
    "duration": 11,
    "start_time": "2021-06-16T10:49:44.797Z"
   },
   {
    "duration": 3,
    "start_time": "2021-06-16T10:49:49.957Z"
   },
   {
    "duration": 8,
    "start_time": "2021-06-16T10:49:53.684Z"
   },
   {
    "duration": 7,
    "start_time": "2021-06-16T10:49:57.277Z"
   },
   {
    "duration": 8,
    "start_time": "2021-06-16T10:50:02.820Z"
   },
   {
    "duration": 8,
    "start_time": "2021-06-16T10:50:08.822Z"
   },
   {
    "duration": 6,
    "start_time": "2021-06-16T10:50:14.613Z"
   },
   {
    "duration": 2,
    "start_time": "2021-06-16T10:50:23.357Z"
   },
   {
    "duration": 2,
    "start_time": "2021-06-16T10:50:43.628Z"
   },
   {
    "duration": 7,
    "start_time": "2021-06-16T10:50:47.796Z"
   },
   {
    "duration": 7,
    "start_time": "2021-06-16T10:50:55.214Z"
   },
   {
    "duration": 13,
    "start_time": "2021-06-16T10:50:58.821Z"
   },
   {
    "duration": 3,
    "start_time": "2021-06-16T10:51:09.221Z"
   },
   {
    "duration": 15,
    "start_time": "2021-06-16T10:52:54.191Z"
   },
   {
    "duration": 16,
    "start_time": "2021-06-16T10:52:57.894Z"
   },
   {
    "duration": 31,
    "start_time": "2021-06-16T10:53:09.525Z"
   },
   {
    "duration": 29,
    "start_time": "2021-06-16T10:53:15.766Z"
   },
   {
    "duration": 11,
    "start_time": "2021-06-16T10:53:19.813Z"
   },
   {
    "duration": 2,
    "start_time": "2021-06-16T10:53:29.072Z"
   },
   {
    "duration": 5,
    "start_time": "2021-06-16T10:54:46.416Z"
   },
   {
    "duration": 2,
    "start_time": "2021-06-16T10:54:52.222Z"
   },
   {
    "duration": 6,
    "start_time": "2021-06-16T10:54:55.680Z"
   },
   {
    "duration": 19,
    "start_time": "2021-06-16T10:55:00.477Z"
   },
   {
    "duration": 43,
    "start_time": "2021-06-16T10:55:23.006Z"
   },
   {
    "duration": 3,
    "start_time": "2021-06-16T10:55:27.653Z"
   },
   {
    "duration": 40,
    "start_time": "2021-06-16T10:55:30.846Z"
   },
   {
    "duration": 2,
    "start_time": "2021-06-16T10:55:35.567Z"
   },
   {
    "duration": 16,
    "start_time": "2021-06-16T10:55:38.221Z"
   },
   {
    "duration": 23,
    "start_time": "2021-06-16T10:55:46.126Z"
   },
   {
    "duration": 47,
    "start_time": "2021-06-16T10:55:51.270Z"
   },
   {
    "duration": 9,
    "start_time": "2021-06-16T10:55:57.112Z"
   },
   {
    "duration": 22,
    "start_time": "2021-06-16T10:56:04.038Z"
   },
   {
    "duration": 37,
    "start_time": "2021-06-16T10:56:12.078Z"
   },
   {
    "duration": 2,
    "start_time": "2021-06-16T10:56:29.574Z"
   },
   {
    "duration": 9,
    "start_time": "2021-06-16T10:56:33.470Z"
   },
   {
    "duration": 5,
    "start_time": "2021-06-16T10:56:38.966Z"
   },
   {
    "duration": 10,
    "start_time": "2021-06-16T10:56:42.870Z"
   },
   {
    "duration": 3,
    "start_time": "2021-06-16T10:56:46.390Z"
   },
   {
    "duration": 5,
    "start_time": "2021-06-16T10:56:56.343Z"
   },
   {
    "duration": 1249,
    "start_time": "2021-06-16T10:57:00.080Z"
   },
   {
    "duration": 3,
    "start_time": "2021-06-16T10:57:05.535Z"
   },
   {
    "duration": 4,
    "start_time": "2021-06-16T10:57:16.431Z"
   },
   {
    "duration": 5,
    "start_time": "2021-06-16T10:57:20.438Z"
   },
   {
    "duration": 6,
    "start_time": "2021-06-16T10:57:25.703Z"
   },
   {
    "duration": 57,
    "start_time": "2021-06-16T10:57:34.048Z"
   },
   {
    "duration": 16,
    "start_time": "2021-06-16T10:57:37.774Z"
   },
   {
    "duration": 40,
    "start_time": "2021-06-16T10:57:43.727Z"
   },
   {
    "duration": 3,
    "start_time": "2021-06-16T10:57:59.056Z"
   },
   {
    "duration": 11,
    "start_time": "2021-06-16T10:58:10.159Z"
   },
   {
    "duration": 2,
    "start_time": "2021-06-16T10:59:03.016Z"
   },
   {
    "duration": 11,
    "start_time": "2021-06-16T11:04:03.943Z"
   },
   {
    "duration": 2,
    "start_time": "2021-06-16T11:04:12.887Z"
   },
   {
    "duration": 40,
    "start_time": "2021-06-16T11:04:17.424Z"
   },
   {
    "duration": 35,
    "start_time": "2021-06-16T11:05:19.201Z"
   },
   {
    "duration": 47,
    "start_time": "2021-06-16T11:05:50.377Z"
   },
   {
    "duration": 47,
    "start_time": "2021-06-16T11:09:23.161Z"
   },
   {
    "duration": 48,
    "start_time": "2021-06-16T11:09:34.265Z"
   },
   {
    "duration": 52,
    "start_time": "2021-06-16T11:10:29.385Z"
   },
   {
    "duration": 50,
    "start_time": "2021-06-16T11:10:34.800Z"
   },
   {
    "duration": 51,
    "start_time": "2021-06-16T11:11:24.738Z"
   },
   {
    "duration": 15,
    "start_time": "2021-06-16T11:12:49.416Z"
   },
   {
    "duration": 15,
    "start_time": "2021-06-16T11:13:44.779Z"
   },
   {
    "duration": 50,
    "start_time": "2021-06-16T11:15:53.064Z"
   },
   {
    "duration": 11,
    "start_time": "2021-06-16T11:29:33.922Z"
   },
   {
    "duration": 4,
    "start_time": "2021-06-16T11:29:38.985Z"
   },
   {
    "duration": 62,
    "start_time": "2021-06-16T11:29:43.730Z"
   },
   {
    "duration": 3,
    "start_time": "2021-06-16T11:30:24.777Z"
   },
   {
    "duration": 12,
    "start_time": "2021-06-16T11:30:38.785Z"
   },
   {
    "duration": 3,
    "start_time": "2021-06-16T11:30:50.643Z"
   },
   {
    "duration": 1463,
    "start_time": "2021-06-16T12:23:34.224Z"
   },
   {
    "duration": 3,
    "start_time": "2021-06-16T12:23:35.690Z"
   },
   {
    "duration": 214,
    "start_time": "2021-06-16T12:23:35.695Z"
   },
   {
    "duration": 4,
    "start_time": "2021-06-16T12:23:35.912Z"
   },
   {
    "duration": 36,
    "start_time": "2021-06-16T12:23:35.920Z"
   },
   {
    "duration": 30,
    "start_time": "2021-06-16T12:23:35.959Z"
   },
   {
    "duration": 47,
    "start_time": "2021-06-16T12:23:35.993Z"
   },
   {
    "duration": 38,
    "start_time": "2021-06-16T12:23:36.045Z"
   },
   {
    "duration": 6,
    "start_time": "2021-06-16T12:23:36.086Z"
   },
   {
    "duration": 10,
    "start_time": "2021-06-16T12:23:36.094Z"
   },
   {
    "duration": 9,
    "start_time": "2021-06-16T12:23:36.106Z"
   },
   {
    "duration": 9,
    "start_time": "2021-06-16T12:23:36.117Z"
   },
   {
    "duration": 6,
    "start_time": "2021-06-16T12:23:36.129Z"
   },
   {
    "duration": 47,
    "start_time": "2021-06-16T12:23:36.137Z"
   },
   {
    "duration": 6,
    "start_time": "2021-06-16T12:23:36.186Z"
   },
   {
    "duration": 9,
    "start_time": "2021-06-16T12:23:36.194Z"
   },
   {
    "duration": 9,
    "start_time": "2021-06-16T12:23:36.205Z"
   },
   {
    "duration": 6,
    "start_time": "2021-06-16T12:23:36.217Z"
   },
   {
    "duration": 28,
    "start_time": "2021-06-16T12:23:36.225Z"
   },
   {
    "duration": 21,
    "start_time": "2021-06-16T12:23:36.284Z"
   },
   {
    "duration": 30,
    "start_time": "2021-06-16T12:23:36.307Z"
   },
   {
    "duration": 12,
    "start_time": "2021-06-16T12:23:36.340Z"
   },
   {
    "duration": 37,
    "start_time": "2021-06-16T12:23:36.357Z"
   },
   {
    "duration": 17,
    "start_time": "2021-06-16T12:23:36.399Z"
   },
   {
    "duration": 4,
    "start_time": "2021-06-16T12:23:36.419Z"
   },
   {
    "duration": 23,
    "start_time": "2021-06-16T12:23:36.426Z"
   },
   {
    "duration": 46,
    "start_time": "2021-06-16T12:23:36.452Z"
   },
   {
    "duration": 17,
    "start_time": "2021-06-16T12:23:36.501Z"
   },
   {
    "duration": 5,
    "start_time": "2021-06-16T12:23:36.520Z"
   },
   {
    "duration": 24,
    "start_time": "2021-06-16T12:23:36.527Z"
   },
   {
    "duration": 35,
    "start_time": "2021-06-16T12:23:36.553Z"
   },
   {
    "duration": 9,
    "start_time": "2021-06-16T12:23:36.590Z"
   },
   {
    "duration": 17,
    "start_time": "2021-06-16T12:23:36.601Z"
   },
   {
    "duration": 19,
    "start_time": "2021-06-16T12:23:36.620Z"
   },
   {
    "duration": 6,
    "start_time": "2021-06-16T12:23:36.641Z"
   },
   {
    "duration": 35,
    "start_time": "2021-06-16T12:23:36.649Z"
   },
   {
    "duration": 9,
    "start_time": "2021-06-16T12:23:36.687Z"
   },
   {
    "duration": 23,
    "start_time": "2021-06-16T12:23:36.698Z"
   },
   {
    "duration": 3,
    "start_time": "2021-06-16T12:23:36.723Z"
   },
   {
    "duration": 39,
    "start_time": "2021-06-16T12:23:36.728Z"
   },
   {
    "duration": 22,
    "start_time": "2021-06-16T12:23:36.784Z"
   },
   {
    "duration": 49,
    "start_time": "2021-06-16T12:23:36.808Z"
   },
   {
    "duration": 41,
    "start_time": "2021-06-16T12:23:36.883Z"
   },
   {
    "duration": 13,
    "start_time": "2021-06-16T12:23:36.927Z"
   },
   {
    "duration": 13,
    "start_time": "2021-06-16T12:23:36.942Z"
   },
   {
    "duration": 27,
    "start_time": "2021-06-16T12:23:36.957Z"
   },
   {
    "duration": 17,
    "start_time": "2021-06-16T12:23:36.987Z"
   },
   {
    "duration": 26,
    "start_time": "2021-06-16T12:23:37.006Z"
   },
   {
    "duration": 32,
    "start_time": "2021-06-16T12:23:37.034Z"
   },
   {
    "duration": 64,
    "start_time": "2021-06-16T12:23:37.069Z"
   },
   {
    "duration": 3,
    "start_time": "2021-06-16T12:23:37.135Z"
   },
   {
    "duration": 79,
    "start_time": "2021-06-16T12:23:37.140Z"
   },
   {
    "duration": 85,
    "start_time": "2021-06-16T12:23:37.221Z"
   },
   {
    "duration": 3,
    "start_time": "2021-06-16T12:23:37.308Z"
   },
   {
    "duration": 25,
    "start_time": "2021-06-16T12:23:37.314Z"
   },
   {
    "duration": 64,
    "start_time": "2021-06-16T12:23:37.342Z"
   },
   {
    "duration": 83,
    "start_time": "2021-06-16T12:23:37.408Z"
   },
   {
    "duration": 12,
    "start_time": "2021-06-16T12:23:37.493Z"
   },
   {
    "duration": 52,
    "start_time": "2021-06-16T12:23:37.509Z"
   },
   {
    "duration": 72,
    "start_time": "2021-06-16T12:23:37.564Z"
   },
   {
    "duration": 3,
    "start_time": "2021-06-16T12:23:37.638Z"
   },
   {
    "duration": 24,
    "start_time": "2021-06-16T12:23:37.643Z"
   },
   {
    "duration": 14,
    "start_time": "2021-06-16T12:23:37.669Z"
   },
   {
    "duration": 17,
    "start_time": "2021-06-16T12:23:37.685Z"
   },
   {
    "duration": 4,
    "start_time": "2021-06-16T12:23:37.704Z"
   },
   {
    "duration": 13,
    "start_time": "2021-06-16T12:23:37.710Z"
   },
   {
    "duration": 1904,
    "start_time": "2021-06-16T12:23:37.725Z"
   },
   {
    "duration": 4,
    "start_time": "2021-06-16T12:23:39.637Z"
   },
   {
    "duration": 6,
    "start_time": "2021-06-16T12:23:39.644Z"
   },
   {
    "duration": 31,
    "start_time": "2021-06-16T12:23:39.652Z"
   },
   {
    "duration": 8,
    "start_time": "2021-06-16T12:23:39.685Z"
   },
   {
    "duration": 105,
    "start_time": "2021-06-16T12:23:39.695Z"
   },
   {
    "duration": 24,
    "start_time": "2021-06-16T12:23:39.803Z"
   },
   {
    "duration": 96,
    "start_time": "2021-06-16T12:23:39.831Z"
   },
   {
    "duration": 4,
    "start_time": "2021-06-16T12:23:39.930Z"
   },
   {
    "duration": 21,
    "start_time": "2021-06-16T12:23:39.937Z"
   },
   {
    "duration": 24,
    "start_time": "2021-06-16T12:23:39.961Z"
   },
   {
    "duration": 20,
    "start_time": "2021-06-16T12:23:39.988Z"
   },
   {
    "duration": 28,
    "start_time": "2021-06-16T12:23:40.010Z"
   },
   {
    "duration": 6,
    "start_time": "2021-06-16T12:23:40.040Z"
   },
   {
    "duration": 53,
    "start_time": "2021-06-16T12:23:40.049Z"
   },
   {
    "duration": 15,
    "start_time": "2021-06-16T12:23:40.105Z"
   },
   {
    "duration": 108,
    "start_time": "2021-06-16T12:23:40.123Z"
   },
   {
    "duration": 4,
    "start_time": "2021-06-16T12:23:40.234Z"
   },
   {
    "duration": 18,
    "start_time": "2021-06-16T12:23:40.241Z"
   },
   {
    "duration": 36,
    "start_time": "2021-06-16T12:23:40.261Z"
   },
   {
    "duration": 19,
    "start_time": "2021-06-16T12:23:40.300Z"
   },
   {
    "duration": 130,
    "start_time": "2021-06-17T08:10:48.920Z"
   },
   {
    "duration": 162,
    "start_time": "2021-06-17T08:12:27.941Z"
   },
   {
    "duration": 116,
    "start_time": "2021-06-17T08:30:16.915Z"
   },
   {
    "duration": 6,
    "start_time": "2021-06-17T11:10:23.141Z"
   },
   {
    "duration": 342,
    "start_time": "2021-06-17T11:16:42.251Z"
   },
   {
    "duration": 1757,
    "start_time": "2021-06-17T11:17:04.086Z"
   },
   {
    "duration": 3,
    "start_time": "2021-06-17T11:17:07.452Z"
   },
   {
    "duration": 247,
    "start_time": "2021-06-17T11:17:09.468Z"
   },
   {
    "duration": 16,
    "start_time": "2021-06-17T11:17:16.144Z"
   },
   {
    "duration": 6,
    "start_time": "2021-06-17T11:48:01.648Z"
   },
   {
    "duration": 247,
    "start_time": "2021-06-17T11:48:34.826Z"
   },
   {
    "duration": 4,
    "start_time": "2021-06-17T11:49:18.333Z"
   },
   {
    "duration": 6,
    "start_time": "2021-06-17T11:52:44.421Z"
   },
   {
    "duration": 86,
    "start_time": "2021-06-17T14:09:11.106Z"
   },
   {
    "duration": 213,
    "start_time": "2021-06-17T14:18:10.224Z"
   },
   {
    "duration": 19,
    "start_time": "2021-06-17T14:18:12.293Z"
   },
   {
    "duration": 15,
    "start_time": "2021-06-17T14:19:31.981Z"
   },
   {
    "duration": 22,
    "start_time": "2021-06-17T14:29:11.540Z"
   },
   {
    "duration": 89,
    "start_time": "2021-06-17T14:31:57.798Z"
   },
   {
    "duration": 10,
    "start_time": "2021-06-17T14:34:01.529Z"
   },
   {
    "duration": 23,
    "start_time": "2021-06-17T14:36:52.326Z"
   },
   {
    "duration": 11,
    "start_time": "2021-06-17T14:40:40.729Z"
   },
   {
    "duration": 111,
    "start_time": "2021-06-17T14:47:39.043Z"
   },
   {
    "duration": 19,
    "start_time": "2021-06-17T14:51:38.585Z"
   },
   {
    "duration": 11,
    "start_time": "2021-06-17T14:57:52.632Z"
   },
   {
    "duration": 11,
    "start_time": "2021-06-17T14:59:08.760Z"
   },
   {
    "duration": 7,
    "start_time": "2021-06-17T14:59:22.244Z"
   },
   {
    "duration": 6,
    "start_time": "2021-06-17T15:02:19.514Z"
   },
   {
    "duration": 9,
    "start_time": "2021-06-17T15:02:25.349Z"
   },
   {
    "duration": 5,
    "start_time": "2021-06-17T15:04:00.126Z"
   },
   {
    "duration": 136,
    "start_time": "2021-06-17T15:07:07.138Z"
   },
   {
    "duration": 5,
    "start_time": "2021-06-17T15:18:26.380Z"
   },
   {
    "duration": 5,
    "start_time": "2021-06-17T15:18:38.460Z"
   },
   {
    "duration": 5,
    "start_time": "2021-06-17T15:21:58.822Z"
   },
   {
    "duration": 92,
    "start_time": "2021-06-17T15:23:57.996Z"
   },
   {
    "duration": 98,
    "start_time": "2021-06-17T15:25:02.789Z"
   },
   {
    "duration": 11,
    "start_time": "2021-06-17T15:26:35.832Z"
   },
   {
    "duration": 5,
    "start_time": "2021-06-17T15:26:40.444Z"
   },
   {
    "duration": 5,
    "start_time": "2021-06-17T15:27:42.023Z"
   },
   {
    "duration": 4,
    "start_time": "2021-06-17T15:28:42.046Z"
   },
   {
    "duration": 86,
    "start_time": "2021-06-17T15:33:37.816Z"
   },
   {
    "duration": 3,
    "start_time": "2021-06-17T15:34:02.324Z"
   },
   {
    "duration": 9,
    "start_time": "2021-06-17T15:41:01.013Z"
   },
   {
    "duration": 9,
    "start_time": "2021-06-17T15:43:25.939Z"
   },
   {
    "duration": 25,
    "start_time": "2021-06-17T15:44:23.540Z"
   },
   {
    "duration": 17,
    "start_time": "2021-06-17T15:45:04.833Z"
   },
   {
    "duration": 8,
    "start_time": "2021-06-17T15:45:20.572Z"
   },
   {
    "duration": 18,
    "start_time": "2021-06-17T15:45:40.955Z"
   },
   {
    "duration": 8,
    "start_time": "2021-06-17T15:45:45.051Z"
   },
   {
    "duration": 95,
    "start_time": "2021-06-17T15:51:54.661Z"
   },
   {
    "duration": -548,
    "start_time": "2021-06-17T15:52:08.040Z"
   },
   {
    "duration": 7299,
    "start_time": "2021-06-17T15:52:09.900Z"
   },
   {
    "duration": 7374,
    "start_time": "2021-06-17T15:53:02.628Z"
   },
   {
    "duration": 5,
    "start_time": "2021-06-17T15:53:26.419Z"
   },
   {
    "duration": 215,
    "start_time": "2021-06-17T15:53:28.348Z"
   },
   {
    "duration": 270,
    "start_time": "2021-06-17T15:53:42.914Z"
   },
   {
    "duration": 10,
    "start_time": "2021-06-17T15:53:51.675Z"
   },
   {
    "duration": 104,
    "start_time": "2021-06-17T15:53:55.843Z"
   },
   {
    "duration": 12,
    "start_time": "2021-06-17T15:54:28.149Z"
   },
   {
    "duration": 22,
    "start_time": "2021-06-17T15:56:33.558Z"
   },
   {
    "duration": 14,
    "start_time": "2021-06-17T16:27:57.164Z"
   },
   {
    "duration": 94,
    "start_time": "2021-06-17T16:28:33.458Z"
   },
   {
    "duration": 47,
    "start_time": "2021-06-17T16:29:22.045Z"
   },
   {
    "duration": 43,
    "start_time": "2021-06-17T16:30:09.710Z"
   },
   {
    "duration": 34,
    "start_time": "2021-06-17T16:30:11.873Z"
   },
   {
    "duration": 17,
    "start_time": "2021-06-17T16:30:23.432Z"
   },
   {
    "duration": 7,
    "start_time": "2021-06-17T16:33:32.397Z"
   },
   {
    "duration": 3,
    "start_time": "2021-06-17T16:40:15.569Z"
   },
   {
    "duration": 6,
    "start_time": "2021-06-17T16:40:35.696Z"
   },
   {
    "duration": 5,
    "start_time": "2021-06-17T16:40:48.257Z"
   },
   {
    "duration": 274,
    "start_time": "2021-06-17T16:40:49.089Z"
   },
   {
    "duration": 17,
    "start_time": "2021-06-17T16:40:49.738Z"
   },
   {
    "duration": 14,
    "start_time": "2021-06-17T16:40:52.186Z"
   },
   {
    "duration": 56,
    "start_time": "2021-06-17T16:40:53.989Z"
   },
   {
    "duration": 5,
    "start_time": "2021-06-17T16:40:58.985Z"
   },
   {
    "duration": 6,
    "start_time": "2021-06-17T16:41:00.092Z"
   },
   {
    "duration": 6,
    "start_time": "2021-06-17T16:41:02.689Z"
   },
   {
    "duration": 7,
    "start_time": "2021-06-17T16:41:03.257Z"
   },
   {
    "duration": 6,
    "start_time": "2021-06-17T16:41:03.720Z"
   },
   {
    "duration": 5,
    "start_time": "2021-06-17T16:41:04.152Z"
   },
   {
    "duration": 6,
    "start_time": "2021-06-17T16:41:04.568Z"
   },
   {
    "duration": 5,
    "start_time": "2021-06-17T16:41:04.952Z"
   },
   {
    "duration": 5,
    "start_time": "2021-06-17T16:41:05.328Z"
   },
   {
    "duration": 7,
    "start_time": "2021-06-17T16:41:05.514Z"
   },
   {
    "duration": 21,
    "start_time": "2021-06-17T16:41:06.432Z"
   },
   {
    "duration": 21,
    "start_time": "2021-06-17T16:41:06.628Z"
   },
   {
    "duration": 22,
    "start_time": "2021-06-17T16:41:07.776Z"
   },
   {
    "duration": 15,
    "start_time": "2021-06-17T16:41:09.040Z"
   },
   {
    "duration": 10,
    "start_time": "2021-06-17T16:41:10.056Z"
   },
   {
    "duration": 10,
    "start_time": "2021-06-17T16:41:11.360Z"
   },
   {
    "duration": 11,
    "start_time": "2021-06-17T16:41:13.104Z"
   },
   {
    "duration": 23,
    "start_time": "2021-06-17T16:41:14.832Z"
   },
   {
    "duration": 11,
    "start_time": "2021-06-17T16:41:20.952Z"
   },
   {
    "duration": 14,
    "start_time": "2021-06-17T16:41:24.104Z"
   },
   {
    "duration": 15,
    "start_time": "2021-06-17T16:41:26.840Z"
   },
   {
    "duration": 7,
    "start_time": "2021-06-17T16:41:30.114Z"
   },
   {
    "duration": 7,
    "start_time": "2021-06-17T16:41:38.721Z"
   },
   {
    "duration": 6,
    "start_time": "2021-06-17T16:41:40.777Z"
   },
   {
    "duration": 5,
    "start_time": "2021-06-17T16:41:42.680Z"
   },
   {
    "duration": 5,
    "start_time": "2021-06-17T16:41:45.032Z"
   },
   {
    "duration": 4,
    "start_time": "2021-06-17T16:41:54.424Z"
   },
   {
    "duration": 4,
    "start_time": "2021-06-17T16:41:56.296Z"
   },
   {
    "duration": 5,
    "start_time": "2021-06-17T16:41:59.152Z"
   },
   {
    "duration": 19,
    "start_time": "2021-06-17T16:42:55.707Z"
   },
   {
    "duration": 15,
    "start_time": "2021-06-17T16:43:13.538Z"
   },
   {
    "duration": 16,
    "start_time": "2021-06-17T16:43:24.682Z"
   },
   {
    "duration": 13,
    "start_time": "2021-06-17T16:43:35.123Z"
   },
   {
    "duration": 14,
    "start_time": "2021-06-17T16:43:43.785Z"
   },
   {
    "duration": 9,
    "start_time": "2021-06-17T16:43:51.970Z"
   },
   {
    "duration": 10,
    "start_time": "2021-06-17T16:43:54.544Z"
   },
   {
    "duration": 5,
    "start_time": "2021-06-17T16:44:58.519Z"
   },
   {
    "duration": 271,
    "start_time": "2021-06-17T16:45:00.378Z"
   },
   {
    "duration": 25,
    "start_time": "2021-06-17T16:45:01.393Z"
   },
   {
    "duration": 15,
    "start_time": "2021-06-17T16:45:01.815Z"
   },
   {
    "duration": 57,
    "start_time": "2021-06-17T16:45:02.242Z"
   },
   {
    "duration": 6,
    "start_time": "2021-06-17T16:45:02.807Z"
   },
   {
    "duration": 13,
    "start_time": "2021-06-17T16:45:02.991Z"
   },
   {
    "duration": 10,
    "start_time": "2021-06-17T16:45:03.281Z"
   },
   {
    "duration": 7,
    "start_time": "2021-06-17T16:45:03.594Z"
   },
   {
    "duration": 7,
    "start_time": "2021-06-17T16:45:03.879Z"
   },
   {
    "duration": 6,
    "start_time": "2021-06-17T16:45:04.164Z"
   },
   {
    "duration": 7,
    "start_time": "2021-06-17T16:45:04.735Z"
   },
   {
    "duration": 8,
    "start_time": "2021-06-17T16:45:05.175Z"
   },
   {
    "duration": 7,
    "start_time": "2021-06-17T16:45:05.576Z"
   },
   {
    "duration": 6,
    "start_time": "2021-06-17T16:45:05.865Z"
   },
   {
    "duration": 34,
    "start_time": "2021-06-17T16:45:08.232Z"
   },
   {
    "duration": 31,
    "start_time": "2021-06-17T16:45:09.900Z"
   },
   {
    "duration": 24,
    "start_time": "2021-06-17T16:45:12.312Z"
   },
   {
    "duration": 13,
    "start_time": "2021-06-17T16:45:14.960Z"
   },
   {
    "duration": 10,
    "start_time": "2021-06-17T16:45:16.424Z"
   },
   {
    "duration": 11,
    "start_time": "2021-06-17T16:45:18.304Z"
   },
   {
    "duration": 11,
    "start_time": "2021-06-17T16:45:21.036Z"
   },
   {
    "duration": 29,
    "start_time": "2021-06-17T16:45:21.994Z"
   },
   {
    "duration": 13,
    "start_time": "2021-06-17T16:45:32.720Z"
   },
   {
    "duration": 19,
    "start_time": "2021-06-17T16:45:34.888Z"
   },
   {
    "duration": 20,
    "start_time": "2021-06-17T16:45:36.568Z"
   },
   {
    "duration": 8,
    "start_time": "2021-06-17T16:45:37.594Z"
   },
   {
    "duration": 6,
    "start_time": "2021-06-17T16:45:39.200Z"
   },
   {
    "duration": 5,
    "start_time": "2021-06-17T16:45:39.872Z"
   },
   {
    "duration": 5,
    "start_time": "2021-06-17T16:45:41.671Z"
   },
   {
    "duration": 5,
    "start_time": "2021-06-17T16:45:44.568Z"
   },
   {
    "duration": 5,
    "start_time": "2021-06-17T16:45:45.727Z"
   },
   {
    "duration": 5,
    "start_time": "2021-06-17T16:45:46.291Z"
   },
   {
    "duration": 9,
    "start_time": "2021-06-17T16:46:33.337Z"
   },
   {
    "duration": 14,
    "start_time": "2021-06-17T16:47:30.377Z"
   },
   {
    "duration": 8,
    "start_time": "2021-06-17T16:50:34.446Z"
   },
   {
    "duration": 12,
    "start_time": "2021-06-17T16:50:54.194Z"
   },
   {
    "duration": 8,
    "start_time": "2021-06-17T16:51:19.354Z"
   },
   {
    "duration": 13,
    "start_time": "2021-06-17T16:51:52.397Z"
   },
   {
    "duration": 26,
    "start_time": "2021-06-17T16:51:55.384Z"
   },
   {
    "duration": 49,
    "start_time": "2021-06-17T16:52:01.836Z"
   },
   {
    "duration": 27,
    "start_time": "2021-06-17T16:52:12.489Z"
   },
   {
    "duration": 16,
    "start_time": "2021-06-17T16:52:13.119Z"
   },
   {
    "duration": 8,
    "start_time": "2021-06-17T16:52:22.831Z"
   },
   {
    "duration": 7,
    "start_time": "2021-06-17T16:52:31.471Z"
   },
   {
    "duration": 8,
    "start_time": "2021-06-17T16:53:33.051Z"
   },
   {
    "duration": 5,
    "start_time": "2021-06-17T16:53:40.658Z"
   },
   {
    "duration": 36,
    "start_time": "2021-06-17T16:54:59.963Z"
   },
   {
    "duration": 20,
    "start_time": "2021-06-17T16:55:09.389Z"
   },
   {
    "duration": 67,
    "start_time": "2021-06-17T16:55:19.008Z"
   },
   {
    "duration": 9,
    "start_time": "2021-06-17T16:55:40.696Z"
   },
   {
    "duration": 66,
    "start_time": "2021-06-17T16:57:02.685Z"
   },
   {
    "duration": 89,
    "start_time": "2021-06-17T16:57:12.564Z"
   },
   {
    "duration": 30,
    "start_time": "2021-06-17T16:59:10.204Z"
   },
   {
    "duration": 21,
    "start_time": "2021-06-17T17:00:00.099Z"
   },
   {
    "duration": 51,
    "start_time": "2021-06-17T17:01:24.964Z"
   },
   {
    "duration": 83,
    "start_time": "2021-06-17T17:01:31.180Z"
   },
   {
    "duration": 20,
    "start_time": "2021-06-17T17:03:21.201Z"
   },
   {
    "duration": 6,
    "start_time": "2021-06-17T17:03:47.143Z"
   },
   {
    "duration": 40,
    "start_time": "2021-06-17T17:03:53.790Z"
   },
   {
    "duration": 66,
    "start_time": "2021-06-17T17:03:59.978Z"
   },
   {
    "duration": 68,
    "start_time": "2021-06-17T17:04:30.710Z"
   },
   {
    "duration": 18,
    "start_time": "2021-06-17T17:06:51.677Z"
   },
   {
    "duration": 6,
    "start_time": "2021-06-17T17:07:55.437Z"
   },
   {
    "duration": 14,
    "start_time": "2021-06-17T17:08:02.825Z"
   },
   {
    "duration": 5,
    "start_time": "2021-06-17T17:08:14.027Z"
   },
   {
    "duration": 8,
    "start_time": "2021-06-17T17:08:18.306Z"
   },
   {
    "duration": 381,
    "start_time": "2021-06-17T17:08:45.801Z"
   },
   {
    "duration": 2170,
    "start_time": "2021-06-17T17:08:57.473Z"
   },
   {
    "duration": 7,
    "start_time": "2021-06-17T17:09:01.416Z"
   },
   {
    "duration": 268,
    "start_time": "2021-06-17T17:20:39.957Z"
   },
   {
    "duration": 8,
    "start_time": "2021-06-17T17:20:48.817Z"
   },
   {
    "duration": 276,
    "start_time": "2021-06-17T17:20:51.842Z"
   },
   {
    "duration": 9,
    "start_time": "2021-06-17T17:21:22.608Z"
   },
   {
    "duration": 12,
    "start_time": "2021-06-17T17:21:28.880Z"
   },
   {
    "duration": 8,
    "start_time": "2021-06-17T17:21:30.352Z"
   },
   {
    "duration": 88,
    "start_time": "2021-06-17T17:21:33.209Z"
   },
   {
    "duration": 25,
    "start_time": "2021-06-17T17:21:44.004Z"
   },
   {
    "duration": 24,
    "start_time": "2021-06-17T17:24:11.711Z"
   },
   {
    "duration": 68,
    "start_time": "2021-06-17T17:24:15.642Z"
   },
   {
    "duration": 16,
    "start_time": "2021-06-17T17:29:20.764Z"
   },
   {
    "duration": 17,
    "start_time": "2021-06-17T17:31:26.650Z"
   },
   {
    "duration": 16,
    "start_time": "2021-06-17T17:32:24.426Z"
   },
   {
    "duration": 23,
    "start_time": "2021-06-17T17:32:46.427Z"
   },
   {
    "duration": 24,
    "start_time": "2021-06-17T17:45:00.481Z"
   },
   {
    "duration": 6,
    "start_time": "2021-06-17T17:45:07.969Z"
   },
   {
    "duration": 96,
    "start_time": "2021-06-17T17:45:12.240Z"
   },
   {
    "duration": 15,
    "start_time": "2021-06-17T17:46:29.841Z"
   },
   {
    "duration": 5,
    "start_time": "2021-06-17T18:08:06.992Z"
   },
   {
    "duration": 4,
    "start_time": "2021-06-17T18:10:24.956Z"
   },
   {
    "duration": 33,
    "start_time": "2021-06-17T18:10:45.886Z"
   },
   {
    "duration": 37,
    "start_time": "2021-06-17T18:10:50.378Z"
   },
   {
    "duration": 23,
    "start_time": "2021-06-17T18:11:11.752Z"
   },
   {
    "duration": 32,
    "start_time": "2021-06-17T18:11:15.111Z"
   },
   {
    "duration": -468,
    "start_time": "2021-06-17T18:11:41.193Z"
   },
   {
    "duration": 7500,
    "start_time": "2021-06-17T18:11:44.091Z"
   },
   {
    "duration": 25,
    "start_time": "2021-06-17T18:15:11.816Z"
   },
   {
    "duration": 21,
    "start_time": "2021-06-17T18:15:15.827Z"
   },
   {
    "duration": 8036,
    "start_time": "2021-06-17T18:15:38.471Z"
   },
   {
    "duration": 32,
    "start_time": "2021-06-17T18:15:54.393Z"
   },
   {
    "duration": 30,
    "start_time": "2021-06-17T18:15:58.375Z"
   },
   {
    "duration": 31,
    "start_time": "2021-06-17T18:16:04.687Z"
   },
   {
    "duration": 9008,
    "start_time": "2021-06-17T18:20:30.167Z"
   },
   {
    "duration": 47,
    "start_time": "2021-06-17T18:20:58.760Z"
   },
   {
    "duration": 41,
    "start_time": "2021-06-17T18:21:06.934Z"
   },
   {
    "duration": 47,
    "start_time": "2021-06-17T18:21:12.659Z"
   },
   {
    "duration": 39,
    "start_time": "2021-06-17T18:21:52.140Z"
   },
   {
    "duration": 3,
    "start_time": "2021-06-17T18:28:25.949Z"
   },
   {
    "duration": 4,
    "start_time": "2021-06-17T18:31:50.672Z"
   },
   {
    "duration": 4,
    "start_time": "2021-06-17T18:32:07.340Z"
   },
   {
    "duration": 26,
    "start_time": "2021-06-17T18:32:25.068Z"
   },
   {
    "duration": 36,
    "start_time": "2021-06-17T18:32:28.988Z"
   },
   {
    "duration": 29,
    "start_time": "2021-06-17T18:32:33.006Z"
   },
   {
    "duration": 28,
    "start_time": "2021-06-17T18:32:33.579Z"
   },
   {
    "duration": 35,
    "start_time": "2021-06-17T18:32:34.369Z"
   },
   {
    "duration": 37,
    "start_time": "2021-06-17T18:32:34.731Z"
   },
   {
    "duration": 53,
    "start_time": "2021-06-17T18:35:43.385Z"
   },
   {
    "duration": 39,
    "start_time": "2021-06-17T18:35:57.330Z"
   },
   {
    "duration": 56,
    "start_time": "2021-06-17T18:36:17.337Z"
   },
   {
    "duration": 44,
    "start_time": "2021-06-17T18:40:18.610Z"
   },
   {
    "duration": 45,
    "start_time": "2021-06-17T18:40:35.208Z"
   },
   {
    "duration": 1077,
    "start_time": "2021-06-17T18:44:13.933Z"
   },
   {
    "duration": 1100,
    "start_time": "2021-06-17T18:44:33.768Z"
   },
   {
    "duration": 1271,
    "start_time": "2021-06-17T18:45:23.536Z"
   },
   {
    "duration": 10,
    "start_time": "2021-06-17T18:48:43.025Z"
   },
   {
    "duration": 35,
    "start_time": "2021-06-17T18:48:53.431Z"
   },
   {
    "duration": 169,
    "start_time": "2021-06-17T18:49:37.279Z"
   },
   {
    "duration": 51,
    "start_time": "2021-06-17T18:49:52.568Z"
   },
   {
    "duration": 13,
    "start_time": "2021-06-17T18:52:42.795Z"
   },
   {
    "duration": 32,
    "start_time": "2021-06-17T18:54:45.774Z"
   },
   {
    "duration": 11,
    "start_time": "2021-06-17T18:54:58.110Z"
   },
   {
    "duration": 19,
    "start_time": "2021-06-17T18:55:00.262Z"
   },
   {
    "duration": 7,
    "start_time": "2021-06-17T19:08:31.466Z"
   },
   {
    "duration": 17,
    "start_time": "2021-06-17T19:09:13.888Z"
   },
   {
    "duration": 12,
    "start_time": "2021-06-17T19:09:23.631Z"
   },
   {
    "duration": 23,
    "start_time": "2021-06-17T19:09:58.201Z"
   },
   {
    "duration": 21,
    "start_time": "2021-06-17T19:10:08.910Z"
   }
  ],
  "kernelspec": {
   "display_name": "Python 3",
   "language": "python",
   "name": "python3"
  },
  "language_info": {
   "codemirror_mode": {
    "name": "ipython",
    "version": 3
   },
   "file_extension": ".py",
   "mimetype": "text/x-python",
   "name": "python",
   "nbconvert_exporter": "python",
   "pygments_lexer": "ipython3",
   "version": "3.8.5"
  },
  "toc": {
   "base_numbering": 1,
   "nav_menu": {},
   "number_sections": true,
   "sideBar": true,
   "skip_h1_title": true,
   "title_cell": "Table of Contents",
   "title_sidebar": "Contents",
   "toc_cell": false,
   "toc_position": {},
   "toc_section_display": true,
   "toc_window_display": false
  }
 },
 "nbformat": 4,
 "nbformat_minor": 2
}
